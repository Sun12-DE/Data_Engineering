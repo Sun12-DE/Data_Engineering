{
 "cells": [
  {
   "cell_type": "code",
   "execution_count": null,
   "id": "16f9a335",
   "metadata": {},
   "outputs": [
    {
     "name": "stdout",
     "output_type": "stream",
     "text": [
      "the product of first 1 natural numbers 1\n",
      "the product of first 2 natural numbers 2\n",
      "the product of first 3 natural numbers 6\n",
      "the product of first 4 natural numbers 24\n",
      "the product of first 5 natural numbers 120\n",
      "the product of first 6 natural numbers 720\n",
      "the product of first 7 natural numbers 5040\n",
      "the product of first 8 natural numbers 40320\n",
      "the product of first 9 natural numbers 362880\n",
      "the product of first 10 natural numbers 3628800\n"
     ]
    }
   ],
   "source": [
    "# Question 1: Calculate the product of first 10 natural numbers\n",
    "\n",
    "# 1, 2, 3, 4, 5, 6, 7, 8, 9, and 10.\n",
    "\n",
    "product = 1\n",
    "\n",
    "for i in range(1, 11):\n",
    "    product *=i\n",
    "\n",
    "    print(f\"the product of first {i} natural numbers\",product) # here \"f\"(formating the output) is used to modify or need to place the order "
   ]
  },
  {
   "cell_type": "code",
   "execution_count": 19,
   "id": "2bb24de7",
   "metadata": {},
   "outputs": [
    {
     "name": "stdout",
     "output_type": "stream",
     "text": [
      "the remainder when 156 is divided by 7 is 2\n"
     ]
    }
   ],
   "source": [
    "# the remainder when 156 is divided by 7\n",
    "x=156\n",
    "y=7\n",
    "z= x % y\n",
    "print(\"the remainder when 156 is divided by 7 is\", z)"
   ]
  },
  {
   "cell_type": "code",
   "execution_count": 26,
   "id": "0f788136",
   "metadata": {},
   "outputs": [
    {
     "name": "stdout",
     "output_type": "stream",
     "text": [
      "625\n"
     ]
    }
   ],
   "source": [
    "# Calculate the square of 25\n",
    "x=25\n",
    "print(x**2)"
   ]
  },
  {
   "cell_type": "code",
   "execution_count": 27,
   "id": "ba035ed9",
   "metadata": {},
   "outputs": [
    {
     "name": "stdout",
     "output_type": "stream",
     "text": [
      "The cube root of 125 is: 5.0\n"
     ]
    }
   ],
   "source": [
    "# Find the cube root of 125\n",
    "n=125\n",
    "cube_root = n ** (1/3)\n",
    "print(\"The cube root of\", n, \"is:\", cube_root)"
   ]
  },
  {
   "cell_type": "code",
   "execution_count": 28,
   "id": "aadcba15",
   "metadata": {},
   "outputs": [
    {
     "name": "stdout",
     "output_type": "stream",
     "text": [
      "The sum of digits in 12345 is: 15\n"
     ]
    }
   ],
   "source": [
    "# Question 5: Calculate the sum of digits in number 12345\n",
    "a= 12345\n",
    "sum_of_digits = 0\n",
    "\n",
    "for digit in str(a):\n",
    "    sum_of_digits += int(digit)\n",
    "\n",
    "print(\"The sum of digits in\",a, \"is:\", sum_of_digits)\n",
    "\n"
   ]
  },
  {
   "cell_type": "code",
   "execution_count": null,
   "id": "3da88b53",
   "metadata": {},
   "outputs": [
    {
     "name": "stdout",
     "output_type": "stream",
     "text": [
      "97 is a prime number.\n"
     ]
    }
   ],
   "source": [
    "# Question 6: Check if 97 is a prime number\n",
    "\n",
    "X = 97\n",
    "is_prime = True\n",
    "\n",
    "if X < 2:\n",
    "    is_prime = False\n",
    "else:\n",
    "    for i in range(2, int(X ** 0.5) + 1):\n",
    "        if X % i == 0:\n",
    "            is_prime = False\n",
    "            break\n",
    "\n",
    "if is_prime:\n",
    "    print(X, \"is a prime number.\")\n",
    "else:\n",
    "    print(X, \"is not a prime number.\")\n",
    "\n"
   ]
  },
  {
   "cell_type": "code",
   "execution_count": 36,
   "id": "e3907ef0",
   "metadata": {},
   "outputs": [
    {
     "name": "stdout",
     "output_type": "stream",
     "text": [
      "The factorial of 8 is: 40320\n"
     ]
    }
   ],
   "source": [
    "# Question 7: Find the factorial of 8\n",
    "x = 8\n",
    "factorial = 1\n",
    "\n",
    "for i in range(1, x + 1):\n",
    "    factorial *= i\n",
    "\n",
    "print(\"The factorial of\",x, \"is:\", factorial)"
   ]
  },
  {
   "cell_type": "code",
   "execution_count": 41,
   "id": "be2abaff",
   "metadata": {},
   "outputs": [
    {
     "name": "stdout",
     "output_type": "stream",
     "text": [
      "the average numbers of 33.4\n"
     ]
    }
   ],
   "source": [
    "#Question 8: Calculate the average of numbers: 15, 23, 31, 42, 56\n",
    "\n",
    "a=[15,23,31,42,56]\n",
    "average= (sum(a)/len(a))\n",
    "print(\"the average numbers of\", average)\n",
    "\n"
   ]
  },
  {
   "cell_type": "code",
   "execution_count": 49,
   "id": "0b441fbe",
   "metadata": {},
   "outputs": [
    {
     "name": "stdout",
     "output_type": "stream",
     "text": [
      "The GCD of 48 and 36 is: 12\n"
     ]
    }
   ],
   "source": [
    "#Question 9: Find the greatest common divisor (GCD) of 48 and 36\n",
    "a = 48\n",
    "b = 36\n",
    "gcd = 1\n",
    "\n",
    "for i in range(1, min(a, b) + 1):  # Loop through all numbers from 1 to min(a, b)\n",
    "    if a % i == 0 and b % i == 0:\n",
    "        gcd = i\n",
    "\n",
    "print(\"The GCD of\", a, \"and\", b, \"is:\", gcd)"
   ]
  },
  {
   "cell_type": "code",
   "execution_count": 51,
   "id": "04d601d0",
   "metadata": {},
   "outputs": [
    {
     "name": "stdout",
     "output_type": "stream",
     "text": [
      "The sum of the first 20 odd numbers is: 400\n"
     ]
    }
   ],
   "source": [
    "#Calculate the sum of first 20 odd numbers (1,3,5,7,9,11,13,15,17,19,21.23.25.27.29.31.33.35.37.39)\n",
    "sum_odd = 0\n",
    "count = 0\n",
    "number = 1\n",
    "\n",
    "while count < 20:\n",
    "    sum_odd += number\n",
    "    number += 2\n",
    "    count += 1\n",
    "\n",
    "print(\"The sum of the first 20 odd numbers is:\", sum_odd)\n"
   ]
  },
  {
   "cell_type": "code",
   "execution_count": null,
   "id": "70938cb4",
   "metadata": {},
   "outputs": [],
   "source": []
  },
  {
   "cell_type": "code",
   "execution_count": null,
   "id": "12732507",
   "metadata": {},
   "outputs": [],
   "source": []
  },
  {
   "cell_type": "code",
   "execution_count": null,
   "id": "24c86a24",
   "metadata": {},
   "outputs": [],
   "source": []
  },
  {
   "cell_type": "code",
   "execution_count": null,
   "id": "0c7f425b",
   "metadata": {},
   "outputs": [],
   "source": []
  },
  {
   "cell_type": "code",
   "execution_count": null,
   "id": "08d9aadc",
   "metadata": {},
   "outputs": [],
   "source": []
  },
  {
   "cell_type": "code",
   "execution_count": null,
   "id": "9a30d820",
   "metadata": {},
   "outputs": [],
   "source": []
  },
  {
   "cell_type": "code",
   "execution_count": null,
   "id": "1692d378",
   "metadata": {},
   "outputs": [],
   "source": []
  },
  {
   "cell_type": "code",
   "execution_count": null,
   "id": "4ebd0a5d",
   "metadata": {},
   "outputs": [],
   "source": []
  },
  {
   "cell_type": "code",
   "execution_count": null,
   "id": "d15f7a62",
   "metadata": {},
   "outputs": [],
   "source": []
  },
  {
   "cell_type": "code",
   "execution_count": null,
   "id": "ad0fabdd",
   "metadata": {},
   "outputs": [],
   "source": []
  },
  {
   "cell_type": "code",
   "execution_count": null,
   "id": "71804347",
   "metadata": {},
   "outputs": [],
   "source": []
  }
 ],
 "metadata": {
  "kernelspec": {
   "display_name": "Python 3",
   "language": "python",
   "name": "python3"
  },
  "language_info": {
   "codemirror_mode": {
    "name": "ipython",
    "version": 3
   },
   "file_extension": ".py",
   "mimetype": "text/x-python",
   "name": "python",
   "nbconvert_exporter": "python",
   "pygments_lexer": "ipython3",
   "version": "3.13.5"
  }
 },
 "nbformat": 4,
 "nbformat_minor": 5
}
