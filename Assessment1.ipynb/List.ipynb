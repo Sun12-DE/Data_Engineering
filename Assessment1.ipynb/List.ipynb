{
 "cells": [
  {
   "cell_type": "code",
   "execution_count": 47,
   "id": "3a255025",
   "metadata": {},
   "outputs": [
    {
     "name": "stdout",
     "output_type": "stream",
     "text": [
      "the first 10 square numbers are: 1\n",
      "the first 10 square numbers are: 4\n",
      "the first 10 square numbers are: 9\n",
      "the first 10 square numbers are: 16\n",
      "the first 10 square numbers are: 25\n",
      "the first 10 square numbers are: 36\n",
      "the first 10 square numbers are: 49\n",
      "the first 10 square numbers are: 64\n",
      "the first 10 square numbers are: 81\n",
      "the first 10 square numbers are: 100\n"
     ]
    }
   ],
   "source": [
    "# Question 1: Create a list of first 10 square numbers\n",
    "\n",
    "\n",
    "for i in range(1,11):\n",
    "    y=(i*i)\n",
    "    x.append(y)\n",
    "    print(\"the first 10 square numbers are:\", y)\n",
    "\n"
   ]
  },
  {
   "cell_type": "code",
   "execution_count": 49,
   "id": "352e4c9f",
   "metadata": {},
   "outputs": [
    {
     "name": "stdout",
     "output_type": "stream",
     "text": [
      "2\n",
      "6\n",
      "12\n",
      "20\n",
      "30\n"
     ]
    }
   ],
   "source": [
    "# Question 2: Find the sum of all even numbers in [1, 2, 3, 4, 5, 6, 7, 8, 9, 10]\n",
    "x=[1, 2, 3, 4, 5, 6, 7, 8, 9, 10]\n",
    "even_number=0\n",
    "for y in x:\n",
    "    if y%2==0:\n",
    "        even_number+=y\n",
    "        print(even_number)\n",
    "\n",
    "\n"
   ]
  },
  {
   "cell_type": "code",
   "execution_count": 34,
   "id": "dd338275",
   "metadata": {},
   "outputs": [
    {
     "name": "stdout",
     "output_type": "stream",
     "text": [
      "[1, 2, 3, 4, 5, 6, 7]\n"
     ]
    }
   ],
   "source": [
    "# Question 3: Remove duplicates from [1, 2, 2, 3, 4, 4, 5, 6, 6, 7]\n",
    "numbers = [1, 2, 2, 3, 4, 4, 5, 6, 6, 7]\n",
    "unique_numbers = []\n",
    "for num in numbers:\n",
    "    if num not in unique_numbers:\n",
    "        unique_numbers.append(num)\n",
    "print(unique_numbers)\n",
    "\n"
   ]
  },
  {
   "cell_type": "code",
   "execution_count": 19,
   "id": "967c742a",
   "metadata": {},
   "outputs": [
    {
     "name": "stdout",
     "output_type": "stream",
     "text": [
      "[90, 64, 34, 25, 22, 12, 11]\n"
     ]
    }
   ],
   "source": [
    "# Question 4: Sort the list [64, 34, 25, 12, 22, 11, 90] in descending order\n",
    "list=[64, 34, 25, 12, 22, 11, 90]\n",
    "list.sort(reverse=True)\n",
    "print(list)"
   ]
  },
  {
   "cell_type": "code",
   "execution_count": 20,
   "id": "473c7188",
   "metadata": {},
   "outputs": [
    {
     "name": "stdout",
     "output_type": "stream",
     "text": [
      "48.0\n"
     ]
    }
   ],
   "source": [
    "# Question 5: Find the average of numbers in [15, 23, 31, 42, 56, 78, 91]\n",
    "list=[15, 23, 31, 42, 56, 78, 91]\n",
    "list1=(sum(list) / len(list))\n",
    "print(list1)\n"
   ]
  },
  {
   "cell_type": "code",
   "execution_count": 39,
   "id": "967ea391",
   "metadata": {},
   "outputs": [
    {
     "name": "stdout",
     "output_type": "stream",
     "text": [
      "[0, 1, 1, 2, 3, 5, 8, 13, 21, 34]\n"
     ]
    }
   ],
   "source": [
    "# Question 6: Create a list of first 15 Fibonacci numbers\n",
    "\n",
    "f_list=[0,1]\n",
    "for i in range(8):\n",
    "    f_list.append(f_list[-1]+f_list[-2])\n",
    "print(f_list)\n",
    "\n"
   ]
  },
  {
   "cell_type": "code",
   "execution_count": 51,
   "id": "a1b52efe",
   "metadata": {},
   "outputs": [
    {
     "name": "stdout",
     "output_type": "stream",
     "text": [
      " The second largest number in list is: 78\n"
     ]
    }
   ],
   "source": [
    "# Question 7: Find the second largest number in [45, 67, 23, 89, 12, 34, 78]\n",
    "a=[45, 67, 23, 89, 12, 34, 78]\n",
    "b=sorted((set(a)),reverse=True)\n",
    "c=b[1]\n",
    "print(\" The second largest number in list is:\", c)\n",
    "\n"
   ]
  },
  {
   "cell_type": "code",
   "execution_count": 29,
   "id": "d1c5864f",
   "metadata": {},
   "outputs": [
    {
     "name": "stdout",
     "output_type": "stream",
     "text": [
      "[10, 9, 8, 7, 6, 5, 4, 3, 2, 1]\n"
     ]
    }
   ],
   "source": [
    "# Question 8: Reverse the list [1, 2, 3, 4, 5, 6, 7, 8, 9, 10]\n",
    "list=[1, 2, 3, 4, 5, 6, 7, 8, 9, 10]\n",
    "list.reverse()\n",
    "print(list)"
   ]
  },
  {
   "cell_type": "code",
   "execution_count": 52,
   "id": "3f762811",
   "metadata": {},
   "outputs": [
    {
     "name": "stdout",
     "output_type": "stream",
     "text": [
      "Number 5 appears 4 times\n"
     ]
    }
   ],
   "source": [
    "# Question 9: Count how many times 5 appears in [1, 5, 2, 5, 3, 5, 4, 5, 6]\n",
    "\n",
    "numbers = [1, 5, 2, 5, 3, 5, 4, 5, 6]\n",
    "count_5 = numbers.count(5)\n",
    "print(\"Number 5 appears\", count_5, \"times\")"
   ]
  },
  {
   "cell_type": "code",
   "execution_count": 54,
   "id": "d7b187bc",
   "metadata": {},
   "outputs": [
    {
     "name": "stdout",
     "output_type": "stream",
     "text": [
      "Prime numbers between 1 and 50: [2, 3, 5, 7, 11, 13, 17, 19, 23, 29, 31, 37, 41, 43, 47]\n"
     ]
    }
   ],
   "source": [
    "# Question 10: Create a list of prime numbers between 1 and 50\n",
    "prime_numbers = []\n",
    "for num in range(2, 51):  # Start from 2, since 1 is not prime\n",
    "    is_prime = True\n",
    "    for i in range(2, int(num**0.5) + 1):\n",
    "        if num % i == 0:\n",
    "            is_prime = False\n",
    "            break\n",
    "    if is_prime:\n",
    "        prime_numbers.append(num)\n",
    "\n",
    "print(\"Prime numbers between 1 and 50:\", prime_numbers)\n"
   ]
  },
  {
   "cell_type": "code",
   "execution_count": 55,
   "id": "9bea61e7",
   "metadata": {},
   "outputs": [
    {
     "name": "stdout",
     "output_type": "stream",
     "text": [
      "[1, 2, 3, 4, 5, 6, 7, 8, 9]\n"
     ]
    }
   ],
   "source": [
    "# Question 11: Flatten nested list [[1, 2, 3], [4, 5, 6], [7, 8, 9]]\n",
    "nested = [[1, 2, 3], [4, 5, 6], [7, 8, 9]]\n",
    "flattened = sum(nested, [])\n",
    "print(flattened)\n",
    "\n"
   ]
  },
  {
   "cell_type": "code",
   "execution_count": 58,
   "id": "9bcbd255",
   "metadata": {},
   "outputs": [
    {
     "name": "stdout",
     "output_type": "stream",
     "text": [
      "Common element: {4, 5}\n"
     ]
    }
   ],
   "source": [
    "# Question 12: Find common elements between [1, 2, 3, 4, 5] and [4, 5, 6, 7, 8]\n",
    "list1=[1,2,3,4,5]\n",
    "list2=[4,5,6,7,8]\n",
    "com_ele=(set(list1) & set(list2))\n",
    "print(\"Common element:\", com_ele)\n"
   ]
  },
  {
   "cell_type": "code",
   "execution_count": 59,
   "id": "911f648f",
   "metadata": {},
   "outputs": [
    {
     "name": "stdout",
     "output_type": "stream",
     "text": [
      "[[1, 2], [3, 4], [5, 6]]\n"
     ]
    }
   ],
   "source": [
    "# Question 13: Create a list of lists: [[1, 2], [3, 4], [5, 6]]\n",
    "\n",
    "list=[[1, 2], [3, 4], [5, 6]]\n",
    "\n",
    "print(list)\n",
    "\n",
    "\n"
   ]
  },
  {
   "cell_type": "code",
   "execution_count": 1,
   "id": "33f0a464",
   "metadata": {},
   "outputs": [
    {
     "name": "stdout",
     "output_type": "stream",
     "text": [
      "[6, 15, 24]\n"
     ]
    }
   ],
   "source": [
    "# Question 14: Find the sum of each sublist in [[1, 2, 3], [4, 5, 6], [7, 8, 9]]\n",
    "\n",
    "data = [[1, 2, 3], [4, 5, 6], [7, 8, 9]]\n",
    "sums = [sum(sublist) for sublist in data]\n",
    "print(sums)\n",
    "\n"
   ]
  },
  {
   "cell_type": "code",
   "execution_count": 71,
   "id": "d62fde34",
   "metadata": {},
   "outputs": [
    {
     "name": "stdout",
     "output_type": "stream",
     "text": [
      "[[1, 4, 7], [2, 5, 8], [3, 6, 9]]\n"
     ]
    }
   ],
   "source": [
    "# Question 15: Transpose the matrix [[1, 2, 3], [4, 5, 6], [7, 8, 9]]\n",
    "matrix = [[1, 2, 3], [4, 5, 6], [7, 8, 9]]\n",
    "transposed = [[matrix[j][i] for j in range(len(matrix))] for i in range(len(matrix[0]))]\n",
    "print(transposed)\n",
    "\n"
   ]
  },
  {
   "cell_type": "code",
   "execution_count": 73,
   "id": "a575f489",
   "metadata": {},
   "outputs": [
    {
     "name": "stdout",
     "output_type": "stream",
     "text": [
      "Maximum values in each sublist: [5, 9, 8]\n"
     ]
    }
   ],
   "source": [
    "# Question 16: Find the maximum value in each sublist of [[1, 5, 3], [9, 2, 7], [4, 8, 6]]\n",
    "\n",
    "data = [[1, 5, 3], [9, 2, 7], [4, 8, 6]]\n",
    "max_values = [max(sublist) for sublist in data]\n",
    "print(\"Maximum values in each sublist:\", max_values)\n",
    "\n"
   ]
  },
  {
   "cell_type": "code",
   "execution_count": 72,
   "id": "6cbc5ce9",
   "metadata": {},
   "outputs": [
    {
     "name": "stdout",
     "output_type": "stream",
     "text": [
      "[[[1, 2], [3, 4]], [[5, 6], [7, 8]]]\n"
     ]
    }
   ],
   "source": [
    "# Question 17: Create a 3D list: [[[1, 2], [3, 4]], [[5, 6], [7, 8]]]\n",
    "three_d_list=[[[1, 2], [3, 4]], [[5, 6], [7, 8]]]\n",
    "print(three_d_list)\n",
    "\n"
   ]
  },
  {
   "cell_type": "code",
   "execution_count": 2,
   "id": "b944aa1f",
   "metadata": {},
   "outputs": [
    {
     "name": "stdout",
     "output_type": "stream",
     "text": [
      "36\n"
     ]
    }
   ],
   "source": [
    "# Question 18: Find the sum of all elements in 3D list [[[1, 2], [3, 4]], [[5, 6], [7, 8]]]\n",
    "data = [[[1, 2], [3, 4]], [[5, 6], [7, 8]]]\n",
    "total_sum = sum(num for sub1 in data for sub2 in sub1 for num in sub2)\n",
    "\n",
    "print(total_sum)\n",
    "\n"
   ]
  },
  {
   "cell_type": "code",
   "execution_count": 74,
   "id": "a721f772",
   "metadata": {},
   "outputs": [
    {
     "name": "stdout",
     "output_type": "stream",
     "text": [
      "Even numbers: [2, 4, 6, 8]\n"
     ]
    }
   ],
   "source": [
    "# Question 19: Extract all even numbers from nested list [[1, 2, 3], [4, 5, 6], [7, 8, 9]]\n",
    "\n",
    "nested_list = [[1, 2, 3], [4, 5, 6], [7, 8, 9]]\n",
    "\n",
    "even_numbers = [num for sublist in nested_list for num in sublist if num % 2 == 0]\n",
    "\n",
    "print(\"Even numbers:\", even_numbers)\n",
    "\n"
   ]
  },
  {
   "cell_type": "code",
   "execution_count": 78,
   "id": "9d24db83",
   "metadata": {},
   "outputs": [
    {
     "name": "stdout",
     "output_type": "stream",
     "text": [
      "[<class 'int'>, <class 'str'>, <class 'float'>, <class 'bool'>, <class 'list'>]\n"
     ]
    }
   ],
   "source": [
    "# Question 20: Create a list of mixed data types: [1, \"hello\", 3.14, True, [1, 2, 3]]\n",
    "list=[1, \"hello\", 3.14, True, [1, 2, 3]]\n",
    "datatype=[type(list[0]),type(list[1]),type(list[2]),type(list[3]),type(list[4])]\n",
    "print(datatype)\n",
    "\n",
    "\n",
    "\n"
   ]
  },
  {
   "cell_type": "code",
   "execution_count": 82,
   "id": "ac7eb50d",
   "metadata": {},
   "outputs": [
    {
     "name": "stdout",
     "output_type": "stream",
     "text": [
      "[5, 6, 6, 4]\n"
     ]
    }
   ],
   "source": [
    "# Question 21: Find the length of each string in [\"apple\", \"banana\", \"cherry\", \"date\"]\n",
    "str=[\"apple\", \"banana\", \"cherry\", \"date\"]\n",
    "list=[len(str[0]),len(str[1]),len(str[2]),len(str[3])]\n",
    "print(list)\n"
   ]
  },
  {
   "cell_type": "code",
   "execution_count": 83,
   "id": "702aee76",
   "metadata": {},
   "outputs": [
    {
     "name": "stdout",
     "output_type": "stream",
     "text": [
      "[(1, 'a'), (2, 'b'), (3, 'c')]\n"
     ]
    }
   ],
   "source": [
    "# Question 22: Create a list of tuples: [(1, 'a'), (2, 'b'), (3, 'c')]\n",
    "\n",
    "list_of_tuples=[(1, 'a'), (2, 'b'), (3, 'c')]\n",
    "print(list_of_tuples)\n",
    "\n"
   ]
  },
  {
   "cell_type": "code",
   "execution_count": 84,
   "id": "46173b67",
   "metadata": {},
   "outputs": [
    {
     "name": "stdout",
     "output_type": "stream",
     "text": [
      "[1, 2, 3]\n"
     ]
    }
   ],
   "source": [
    "# Question 23: Extract first element from each tuple in [(1, 'a'), (2, 'b'), (3, 'c')]\n",
    "\n",
    "data = [(1, 'a'), (2, 'b'), (3, 'c')]\n",
    "first_elements = [t[0] for t in data]\n",
    "print(first_elements)\n",
    "\n",
    "\n",
    "\n"
   ]
  },
  {
   "cell_type": "code",
   "execution_count": 90,
   "id": "9e36a535",
   "metadata": {},
   "outputs": [
    {
     "name": "stdout",
     "output_type": "stream",
     "text": [
      "[{'name': 'Alice', 'age': 25}, {'name': 'Bob', 'age': 30}]\n"
     ]
    }
   ],
   "source": [
    "# Question 24: Create a list of dictionaries: [{'name': 'Alice', 'age': 25}, {'name': 'Bob', 'age': 30}]\n",
    "\n",
    "people=[\n",
    "    {'name':'Alice', 'age': 25},\n",
    "    {'name' : 'Bob', 'age' : 30}\n",
    "\n",
    "]\n",
    "print(people)\n",
    "    \n",
    "\n"
   ]
  },
  {
   "cell_type": "code",
   "execution_count": 93,
   "id": "2d377289",
   "metadata": {},
   "outputs": [
    {
     "name": "stdout",
     "output_type": "stream",
     "text": [
      "['Alice', 'Bob']\n"
     ]
    }
   ],
   "source": [
    "# Question 25: Extract all 'name' values from list of dictionaries\n",
    "people=[\n",
    "    {'name':'Alice', 'age': 25},\n",
    "    {'name' : 'Bob', 'age' : 30}\n",
    "\n",
    "]\n",
    "d=[person['name'] for person in people]\n",
    "print(d)"
   ]
  },
  {
   "cell_type": "code",
   "execution_count": 96,
   "id": "249407de",
   "metadata": {},
   "outputs": [
    {
     "name": "stdout",
     "output_type": "stream",
     "text": [
      "Person with maximum age: {'name': 'Bob', 'age': 30}\n"
     ]
    }
   ],
   "source": [
    "# Question 26: Find the person with maximum age in list of dictionaries\n",
    "oldest=[\n",
    "    {'name':'Alice', 'age': 25},\n",
    "    {'name' : 'Bob', 'age' : 30}\n",
    "]\n",
    "oldest = max(people, key=lambda person: person['age'])\n",
    "print(\"Person with maximum age:\", oldest)\n"
   ]
  },
  {
   "cell_type": "code",
   "execution_count": 3,
   "id": "dd0497d2",
   "metadata": {},
   "outputs": [
    {
     "name": "stdout",
     "output_type": "stream",
     "text": [
      "[[[[1, 2], [3, 4]], [[5, 6], [7, 8]]], [[[9, 10], [11, 12]], [[13, 14], [15, 16]]]]\n"
     ]
    }
   ],
   "source": [
    "# Question 27: Create a 4D list: [[[[1, 2], [3, 4]], [[5, 6], [7, 8]]], [[[9, 10], [11, 12]], [[13, 14], [15, 16]]]]\n",
    "data = [\n",
    "    [\n",
    "        [[1, 2], [3, 4]],\n",
    "        [[5, 6], [7, 8]]\n",
    "    ],\n",
    "    [\n",
    "        [[9, 10], [11, 12]],\n",
    "        [[13, 14], [15, 16]]\n",
    "    ]\n",
    "]\n",
    "\n",
    "print(data)\n",
    "\n"
   ]
  },
  {
   "cell_type": "code",
   "execution_count": 4,
   "id": "18a66fe8",
   "metadata": {},
   "outputs": [
    {
     "name": "stdout",
     "output_type": "stream",
     "text": [
      "16\n"
     ]
    }
   ],
   "source": [
    "# Question 28: Find the maximum value in 4D list\n",
    "data = [\n",
    "    [\n",
    "        [[1, 2], [3, 4]],\n",
    "        [[5, 6], [7, 8]]\n",
    "    ],\n",
    "    [\n",
    "        [[9, 10], [11, 12]],\n",
    "        [[13, 14], [15, 16]]\n",
    "    ]\n",
    "]\n",
    "max_val = max(num for block1 in data for block2 in block1 for row in block2 for num in row)\n",
    "\n",
    "print(max_val)\n"
   ]
  },
  {
   "cell_type": "code",
   "execution_count": 98,
   "id": "31f105bc",
   "metadata": {},
   "outputs": [
    {
     "name": "stdout",
     "output_type": "stream",
     "text": [
      "[{1, 2, 3}, {4, 5, 6}, {8, 9, 7}]\n"
     ]
    }
   ],
   "source": [
    "# Question 29: Create a list of sets: [{1, 2, 3}, {4, 5, 6}, {7, 8, 9}]\n",
    "list_of_sets=[{1, 2, 3}, {4, 5, 6}, {7, 8, 9}]\n",
    "print(list_of_sets)\n",
    "\n",
    "\n",
    "\n"
   ]
  },
  {
   "cell_type": "code",
   "execution_count": 5,
   "id": "f39990df",
   "metadata": {},
   "outputs": [
    {
     "name": "stdout",
     "output_type": "stream",
     "text": [
      "{1, 2, 3, 4, 5}\n"
     ]
    }
   ],
   "source": [
    "# Question 30: Find the union of all sets in list of sets\n",
    "data = [{1, 2}, {2, 3, 4}, {4, 5}]\n",
    "union_set = set().union(*data)\n",
    "\n",
    "print(union_set)\n"
   ]
  },
  {
   "cell_type": "code",
   "execution_count": 95,
   "id": "85bbcee3",
   "metadata": {},
   "outputs": [
    {
     "name": "stdout",
     "output_type": "stream",
     "text": [
      "[(1+2j), (3+4j), (5+6j)]\n"
     ]
    }
   ],
   "source": [
    "# Question 31: Create a list of complex numbers: [1+2j, 3+4j, 5+6j]\n",
    "list=[1+2j, 3+4j, 5+6j]\n",
    "print(list)\n",
    "\n",
    "\n"
   ]
  },
  {
   "cell_type": "code",
   "execution_count": 6,
   "id": "2fe169f6",
   "metadata": {},
   "outputs": [
    {
     "name": "stdout",
     "output_type": "stream",
     "text": [
      "[5.0, 1.4142135623730951, 2.8284271247461903]\n"
     ]
    }
   ],
   "source": [
    "# Question 32: Find the magnitude of each complex number in list\n",
    "numbers = [3 + 4j, 1 - 1j, -2 + 2j]\n",
    "magnitudes = [abs(num) for num in numbers]\n",
    "\n",
    "print(magnitudes)\n",
    "\n"
   ]
  },
  {
   "cell_type": "code",
   "execution_count": 7,
   "id": "7ea38ad2",
   "metadata": {},
   "outputs": [
    {
     "name": "stdout",
     "output_type": "stream",
     "text": [
      "[1, [2, 3], [4, [5, 6]], 7]\n"
     ]
    }
   ],
   "source": [
    "# Question 33: Create a nested list with different levels: [1, [2, 3], [4, [5, 6]], 7]\n",
    "nested_list = [1, [2, 3], [4, [5, 6]], 7]\n",
    "\n",
    "print(nested_list)\n"
   ]
  },
  {
   "cell_type": "code",
   "execution_count": 8,
   "id": "52127f5d",
   "metadata": {},
   "outputs": [
    {
     "name": "stdout",
     "output_type": "stream",
     "text": [
      "3\n"
     ]
    }
   ],
   "source": [
    "# Question 34: Count the depth of nesting in [1, [2, 3], [4, [5, 6]], 7]\n",
    "nested_list = [1, [2, 3], [4, [5, 6]], 7]\n",
    "def nesting_depth(lst):\n",
    "    if not isinstance(lst, list) or not lst:\n",
    "        return 0\n",
    "    return 1 + max(nesting_depth(item) for item in lst)\n",
    "\n",
    "\n",
    "depth = nesting_depth(nested_list)\n",
    "print(depth)\n"
   ]
  },
  {
   "cell_type": "code",
   "execution_count": 9,
   "id": "58cde4bc",
   "metadata": {},
   "outputs": [
    {
     "name": "stdout",
     "output_type": "stream",
     "text": [
      "[<built-in function len>, <class 'str'>, <class 'int'>, <class 'float'>]\n"
     ]
    }
   ],
   "source": [
    "# Question 35: Create a list of functions: [len, str, int, float]\n",
    "\n",
    "func_list = [len, str, int, float]\n",
    "\n",
    "print(func_list)\n"
   ]
  },
  {
   "cell_type": "code",
   "execution_count": 10,
   "id": "00733f07",
   "metadata": {},
   "outputs": [
    {
     "name": "stdout",
     "output_type": "stream",
     "text": [
      "[3, '123', 123, 123.0]\n"
     ]
    }
   ],
   "source": [
    "# Question 36: Apply each function in list to string \"123\"\n",
    "func_list = [len, str, int, float]\n",
    "\n",
    "value = \"123\"\n",
    "results = [func(value) for func in func_list]\n",
    "\n",
    "print(results)\n",
    "\n"
   ]
  },
  {
   "cell_type": "code",
   "execution_count": 11,
   "id": "18ebc8bc",
   "metadata": {},
   "outputs": [
    {
     "name": "stdout",
     "output_type": "stream",
     "text": [
      "10\n",
      "25\n",
      "6\n"
     ]
    }
   ],
   "source": [
    "# Question 37: Create a list of lambda functions: [lambda x: x*2, lambda x: x**2, lambda x: x+1]\n",
    "lambda_list = [\n",
    "    lambda x: x * 2,\n",
    "    lambda x: x ** 2,\n",
    "    lambda x: x + 1\n",
    "]\n",
    "for func in lambda_list:\n",
    "    print(func(5))\n",
    "\n"
   ]
  },
  {
   "cell_type": "code",
   "execution_count": 12,
   "id": "7450679b",
   "metadata": {},
   "outputs": [
    {
     "name": "stdout",
     "output_type": "stream",
     "text": [
      "[10, 25, 6]\n"
     ]
    }
   ],
   "source": [
    "# Question 38: Apply each lambda function to 5\n",
    "lambda_list = [\n",
    "    lambda x: x * 2,\n",
    "    lambda x: x ** 2,\n",
    "    lambda x: x + 1\n",
    "]\n",
    "value=5\n",
    "results=[func(value) for func in lambda_list]\n",
    "print(results)\n",
    "\n"
   ]
  },
  {
   "cell_type": "code",
   "execution_count": 13,
   "id": "94a2783b",
   "metadata": {},
   "outputs": [
    {
     "name": "stdout",
     "output_type": "stream",
     "text": [
      "[<class 'list'>, <class 'dict'>, <class 'set'>, <class 'tuple'>]\n"
     ]
    }
   ],
   "source": [
    "# Question 39: Create a list of classes: [list, dict, set, tuple]\n",
    "class_list = [list, dict, set, tuple]\n",
    "\n",
    "print(class_list)\n",
    "\n"
   ]
  },
  {
   "cell_type": "code",
   "execution_count": 14,
   "id": "eca1ccac",
   "metadata": {},
   "outputs": [
    {
     "name": "stdout",
     "output_type": "stream",
     "text": [
      "[[1, 2, 3], {'name': 'Alice', 'age': 25}, {1, 2, 3}, (4, 5, 6)]\n"
     ]
    }
   ],
   "source": [
    "# Question 40: Create instances of each class in list\n",
    "class_list = [list, dict, set, tuple]\n",
    "sample_data = [\n",
    "    [1, 2, 3],                      \n",
    "    [('name', 'Alice'), ('age', 25)], \n",
    "    [1, 2, 2, 3],                    \n",
    "    (4, 5, 6)                        \n",
    "]\n",
    "instances = [cls(data) for cls, data in zip(class_list, sample_data)]\n",
    "\n",
    "print(instances)\n",
    "\n",
    "\n",
    "\n"
   ]
  },
  {
   "cell_type": "code",
   "execution_count": 15,
   "id": "cbd70d4c",
   "metadata": {},
   "outputs": [
    {
     "name": "stdout",
     "output_type": "stream",
     "text": [
      "[None, None, None, None]\n"
     ]
    }
   ],
   "source": [
    "# Question 41: Create a list of None values: [None, None, None, None]\n",
    "none_list = [None, None, None, None]\n",
    "\n",
    "print(none_list)\n",
    "\n",
    "\n"
   ]
  },
  {
   "cell_type": "code",
   "execution_count": 16,
   "id": "a766d13b",
   "metadata": {},
   "outputs": [
    {
     "name": "stdout",
     "output_type": "stream",
     "text": [
      "[0, 0, 0, 0]\n"
     ]
    }
   ],
   "source": [
    "# Question 42: Replace all None values with 0 in list\n",
    "none_list = [None, None, None, None]\n",
    "replaced_list = [0 if x is None else x for x in none_list]\n",
    "\n",
    "print(replaced_list)\n",
    "\n"
   ]
  },
  {
   "cell_type": "code",
   "execution_count": 17,
   "id": "c412d2b1",
   "metadata": {},
   "outputs": [
    {
     "name": "stdout",
     "output_type": "stream",
     "text": [
      "[True, False, True, False]\n"
     ]
    }
   ],
   "source": [
    "# Question 43: Create a list of boolean values: [True, False, True, False]\n",
    "bool_list = [True, False, True, False]\n",
    "\n",
    "print(bool_list)\n",
    "\n"
   ]
  },
  {
   "cell_type": "code",
   "execution_count": 18,
   "id": "6c1c75a0",
   "metadata": {},
   "outputs": [
    {
     "name": "stdout",
     "output_type": "stream",
     "text": [
      "2\n"
     ]
    }
   ],
   "source": [
    "# Question 44: Count True values in boolean list\n",
    "\n",
    "bool_list = [True, False, True, False]\n",
    "\n",
    "\n",
    "true_count = sum(bool_list)\n",
    "\n",
    "print(true_count)\n"
   ]
  },
  {
   "cell_type": "code",
   "execution_count": 19,
   "id": "959df6cc",
   "metadata": {},
   "outputs": [
    {
     "name": "stdout",
     "output_type": "stream",
     "text": [
      "[range(0, 3), range(0, 5), range(0, 2)]\n",
      "[0, 1, 2]\n",
      "[0, 1, 2, 3, 4]\n",
      "[0, 1]\n"
     ]
    }
   ],
   "source": [
    "# Question 45: Create a list of ranges: [range(3), range(5), range(2)]\n",
    "range_list = [range(3), range(5), range(2)]\n",
    "\n",
    "print(range_list)  \n",
    "\n",
    "for r in range_list:\n",
    "    print(list(r))"
   ]
  },
  {
   "cell_type": "code",
   "execution_count": 20,
   "id": "c3c4ca1f",
   "metadata": {},
   "outputs": [
    {
     "name": "stdout",
     "output_type": "stream",
     "text": [
      "[[0, 1, 2], [0, 1, 2, 3, 4], [0, 1]]\n"
     ]
    }
   ],
   "source": [
    "# Question 46: Convert each range to list\n",
    "range_list = [range(3), range(5), range(2)]\n",
    "\n",
    "\n",
    "list_of_lists = [list(r) for r in range_list]\n",
    "\n",
    "print(list_of_lists)\n",
    "\n"
   ]
  },
  {
   "cell_type": "code",
   "execution_count": 21,
   "id": "d9c4aa04",
   "metadata": {},
   "outputs": [
    {
     "name": "stdout",
     "output_type": "stream",
     "text": [
      "[<generator object <genexpr> at 0x000001EEE9FCA680>, <generator object <genexpr> at 0x000001EEE9FCB4C0>]\n",
      "[0, 1, 2]\n",
      "[0, 1, 2, 3, 4]\n"
     ]
    }
   ],
   "source": [
    "# Question 47: Create a list of generators: [(x for x in range(3)), (x for x in range(5))]\n",
    "gen_list = [\n",
    "    (x for x in range(3)),\n",
    "    (x for x in range(5))\n",
    "]\n",
    "\n",
    "print(gen_list)  # Displays generator objects\n",
    "\n",
    "# To consume the generators and see their values\n",
    "for gen in gen_list:\n",
    "    print(list(gen))\n"
   ]
  },
  {
   "cell_type": "code",
   "execution_count": 22,
   "id": "18b5026b",
   "metadata": {},
   "outputs": [
    {
     "name": "stdout",
     "output_type": "stream",
     "text": [
      "[[0, 1, 2], [0, 1, 2, 3, 4]]\n"
     ]
    }
   ],
   "source": [
    "# Question 48: Convert each generator to list\n",
    "\n",
    "gen_list = [\n",
    "    (x for x in range(3)),\n",
    "    (x for x in range(5))\n",
    "]\n",
    "\n",
    "# Convert each generator to a list\n",
    "list_of_lists = [list(gen) for gen in gen_list]\n",
    "\n",
    "print(list_of_lists)"
   ]
  },
  {
   "cell_type": "code",
   "execution_count": 23,
   "id": "085fdaed",
   "metadata": {},
   "outputs": [
    {
     "name": "stdout",
     "output_type": "stream",
     "text": [
      "[<list_iterator object at 0x000001EEEA1E2350>, <list_iterator object at 0x000001EEEA1E1900>]\n",
      "[1, 2, 3]\n",
      "[4, 5, 6]\n"
     ]
    }
   ],
   "source": [
    "# Question 49: Create a list of iterators: [iter([1, 2, 3]), iter([4, 5, 6])]\n",
    "iter_list = [\n",
    "    iter([1, 2, 3]),\n",
    "    iter([4, 5, 6])\n",
    "]\n",
    "\n",
    "print(iter_list)  # Shows iterator objects\n",
    "\n",
    "# To consume the iterators and see their values\n",
    "for it in iter_list:\n",
    "    print(list(it))\n",
    "\n"
   ]
  },
  {
   "cell_type": "code",
   "execution_count": 24,
   "id": "d1c6bf4c",
   "metadata": {},
   "outputs": [
    {
     "name": "stdout",
     "output_type": "stream",
     "text": [
      "[[1, 2, 3], [4, 5, 6]]\n"
     ]
    }
   ],
   "source": [
    "# Question 50: Extract all elements from each iterator\n",
    "\n",
    "iter_list = [\n",
    "    iter([1, 2, 3]),\n",
    "    iter([4, 5, 6])\n",
    "]\n",
    "\n",
    "# Extract all elements from each iterator\n",
    "extracted = [list(it) for it in iter_list]\n",
    "\n",
    "print(extracted)"
   ]
  },
  {
   "cell_type": "code",
   "execution_count": null,
   "id": "7335bd5a",
   "metadata": {},
   "outputs": [],
   "source": []
  },
  {
   "cell_type": "code",
   "execution_count": null,
   "id": "5e37564d",
   "metadata": {},
   "outputs": [],
   "source": []
  },
  {
   "cell_type": "code",
   "execution_count": null,
   "id": "eed71d7c",
   "metadata": {},
   "outputs": [],
   "source": []
  },
  {
   "cell_type": "code",
   "execution_count": null,
   "id": "3fd622ff",
   "metadata": {},
   "outputs": [],
   "source": []
  },
  {
   "cell_type": "code",
   "execution_count": null,
   "id": "4b081b82",
   "metadata": {},
   "outputs": [],
   "source": []
  },
  {
   "cell_type": "code",
   "execution_count": null,
   "id": "4da70c7a",
   "metadata": {},
   "outputs": [],
   "source": []
  },
  {
   "cell_type": "code",
   "execution_count": null,
   "id": "ec2aca20",
   "metadata": {},
   "outputs": [],
   "source": []
  },
  {
   "cell_type": "code",
   "execution_count": null,
   "id": "0e7238b2",
   "metadata": {},
   "outputs": [],
   "source": []
  },
  {
   "cell_type": "code",
   "execution_count": null,
   "id": "04e91d71",
   "metadata": {},
   "outputs": [],
   "source": []
  },
  {
   "cell_type": "code",
   "execution_count": null,
   "id": "d046255e",
   "metadata": {},
   "outputs": [],
   "source": []
  },
  {
   "cell_type": "code",
   "execution_count": null,
   "id": "4175442b",
   "metadata": {},
   "outputs": [],
   "source": []
  },
  {
   "cell_type": "code",
   "execution_count": null,
   "id": "f524c73e",
   "metadata": {},
   "outputs": [],
   "source": []
  },
  {
   "cell_type": "code",
   "execution_count": null,
   "id": "fc02dbf5",
   "metadata": {},
   "outputs": [],
   "source": []
  },
  {
   "cell_type": "code",
   "execution_count": null,
   "id": "973a8496",
   "metadata": {},
   "outputs": [],
   "source": []
  },
  {
   "cell_type": "code",
   "execution_count": null,
   "id": "67edae07",
   "metadata": {},
   "outputs": [],
   "source": []
  },
  {
   "cell_type": "code",
   "execution_count": null,
   "id": "2265af52",
   "metadata": {},
   "outputs": [],
   "source": []
  },
  {
   "cell_type": "code",
   "execution_count": null,
   "id": "34129620",
   "metadata": {},
   "outputs": [],
   "source": []
  },
  {
   "cell_type": "code",
   "execution_count": null,
   "id": "967aa6d1",
   "metadata": {},
   "outputs": [],
   "source": []
  },
  {
   "cell_type": "code",
   "execution_count": null,
   "id": "4e17fcf2",
   "metadata": {},
   "outputs": [],
   "source": []
  },
  {
   "cell_type": "code",
   "execution_count": null,
   "id": "19c2cd46",
   "metadata": {},
   "outputs": [],
   "source": []
  },
  {
   "cell_type": "code",
   "execution_count": null,
   "id": "3d92bdd6",
   "metadata": {},
   "outputs": [],
   "source": []
  },
  {
   "cell_type": "code",
   "execution_count": null,
   "id": "0f3fe002",
   "metadata": {},
   "outputs": [],
   "source": []
  },
  {
   "cell_type": "code",
   "execution_count": null,
   "id": "f9598c99",
   "metadata": {},
   "outputs": [],
   "source": []
  },
  {
   "cell_type": "code",
   "execution_count": null,
   "id": "ac7f09c9",
   "metadata": {},
   "outputs": [],
   "source": []
  },
  {
   "cell_type": "code",
   "execution_count": null,
   "id": "8596b1b0",
   "metadata": {},
   "outputs": [],
   "source": []
  },
  {
   "cell_type": "code",
   "execution_count": null,
   "id": "9ac53fc1",
   "metadata": {},
   "outputs": [],
   "source": []
  },
  {
   "cell_type": "code",
   "execution_count": null,
   "id": "38d377e7",
   "metadata": {},
   "outputs": [],
   "source": []
  },
  {
   "cell_type": "code",
   "execution_count": null,
   "id": "c9ae1eda",
   "metadata": {},
   "outputs": [],
   "source": []
  },
  {
   "cell_type": "code",
   "execution_count": null,
   "id": "2a275791",
   "metadata": {},
   "outputs": [],
   "source": []
  },
  {
   "cell_type": "code",
   "execution_count": null,
   "id": "4d867f1e",
   "metadata": {},
   "outputs": [],
   "source": []
  }
 ],
 "metadata": {
  "kernelspec": {
   "display_name": "Python 3",
   "language": "python",
   "name": "python3"
  },
  "language_info": {
   "codemirror_mode": {
    "name": "ipython",
    "version": 3
   },
   "file_extension": ".py",
   "mimetype": "text/x-python",
   "name": "python",
   "nbconvert_exporter": "python",
   "pygments_lexer": "ipython3",
   "version": "3.13.5"
  }
 },
 "nbformat": 4,
 "nbformat_minor": 5
}
