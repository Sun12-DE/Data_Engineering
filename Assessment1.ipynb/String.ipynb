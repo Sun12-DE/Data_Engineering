{
 "cells": [
  {
   "cell_type": "code",
   "execution_count": 12,
   "id": "99d7fb73",
   "metadata": {},
   "outputs": [
    {
     "name": "stdout",
     "output_type": "stream",
     "text": [
      "reversed_string gnimmargorP nohtyP\n"
     ]
    }
   ],
   "source": [
    "# Question 1: Reverse the string \"Python Programming\"\n",
    "x=\"Python Programming\"\n",
    "reversed_x=x[::-1]\n",
    "print(\"reversed_string\",reversed_x)"
   ]
  },
  {
   "cell_type": "code",
   "execution_count": 13,
   "id": "83944d59",
   "metadata": {},
   "outputs": [
    {
     "name": "stdout",
     "output_type": "stream",
     "text": [
      "\"racecar\" is a palindrome.\n"
     ]
    }
   ],
   "source": [
    "# Question 2: Check if \"racecar\" is a palindrome\n",
    "\n",
    "x=\"racecar\"\n",
    "if x==x[::-1]:\n",
    "    print(f'\"{x}\" is a palindrome.')\n",
    "else:\n",
    "    print(f'\"{x}\" is not a palindrome.')"
   ]
  },
  {
   "cell_type": "code",
   "execution_count": 18,
   "id": "0e7d5f18",
   "metadata": {},
   "outputs": [
    {
     "name": "stdout",
     "output_type": "stream",
     "text": [
      " number of words in the sentence: 38\n"
     ]
    }
   ],
   "source": [
    "# Question 3: Count the number of words in \"Python is a great programming language\"\n",
    "\n",
    "text=\"Python is a great programming language\"\n",
    "numbers=text.split()\n",
    "numbers_count = len(text)\n",
    "print(\" number of words in the sentence:\", numbers_count)\n",
    "\n",
    "\n",
    "\n",
    "\n"
   ]
  },
  {
   "cell_type": "code",
   "execution_count": 1,
   "id": "f79493fb",
   "metadata": {},
   "outputs": [
    {
     "data": {
      "text/plain": [
       "'Hello World'"
      ]
     },
     "execution_count": 1,
     "metadata": {},
     "output_type": "execute_result"
    }
   ],
   "source": [
    "# Question 4: Convert \"hello world\" to title case\n",
    "\n",
    "x=\"hello world\"\n",
    "x.title()"
   ]
  },
  {
   "cell_type": "code",
   "execution_count": 20,
   "id": "23044515",
   "metadata": {},
   "outputs": [
    {
     "name": "stdout",
     "output_type": "stream",
     "text": [
      "12\n"
     ]
    }
   ],
   "source": [
    "# Question 5: Find the length of string \"Data Science\"\n",
    "x=\"Data Science\"\n",
    "print(len(x))\n"
   ]
  },
  {
   "cell_type": "code",
   "execution_count": 7,
   "id": "83580445",
   "metadata": {},
   "outputs": [
    {
     "data": {
      "text/plain": [
       "'Machine_Learning'"
      ]
     },
     "execution_count": 7,
     "metadata": {},
     "output_type": "execute_result"
    }
   ],
   "source": [
    "# Question 6: Replace all spaces with underscores in \"Machine Learning\"\n",
    "x=\"Machine Learning\"\n",
    "x.replace(\" \",\"_\")"
   ]
  },
  {
   "cell_type": "code",
   "execution_count": null,
   "id": "ee567236",
   "metadata": {},
   "outputs": [
    {
     "name": "stdout",
     "output_type": "stream",
     "text": [
      "python is present\n"
     ]
    }
   ],
   "source": [
    "# Question 7: Check if \"python\" is in \"Python Programming Language\"\n",
    "\n",
    "x='python is in python programming'\n",
    "y=\"python\"\n",
    "if y in x:\n",
    "    print(\"python is present\")\n",
    "else:\n",
    "    print(\"python is not present\")\n",
    "\n"
   ]
  },
  {
   "cell_type": "code",
   "execution_count": 1,
   "id": "9ac80ea7",
   "metadata": {},
   "outputs": [
    {
     "ename": "TypeError",
     "evalue": "string indices must be integers, not 'tuple'",
     "output_type": "error",
     "traceback": [
      "\u001b[31m---------------------------------------------------------------------------\u001b[39m",
      "\u001b[31mTypeError\u001b[39m                                 Traceback (most recent call last)",
      "\u001b[36mCell\u001b[39m\u001b[36m \u001b[39m\u001b[32mIn[1]\u001b[39m\u001b[32m, line 3\u001b[39m\n\u001b[32m      1\u001b[39m \u001b[38;5;66;03m# Question 8: Extract the first 5 characters from \"Artificial Intelligence\"\u001b[39;00m\n\u001b[32m      2\u001b[39m x=\u001b[33m\"\u001b[39m\u001b[33mArtificial Intelligence\u001b[39m\u001b[33m\"\u001b[39m\n\u001b[32m----> \u001b[39m\u001b[32m3\u001b[39m \u001b[43mx\u001b[49m\u001b[43m[\u001b[49m\u001b[32;43m0\u001b[39;49m\u001b[43m,\u001b[49m\u001b[32;43m6\u001b[39;49m\u001b[43m]\u001b[49m\n",
      "\u001b[31mTypeError\u001b[39m: string indices must be integers, not 'tuple'"
     ]
    }
   ],
   "source": [
    "# Question 8: Extract the first 5 characters from \"Artificial Intelligence\"\n",
    "x=\"Artificial Intelligence\"\n",
    "x[0,6]\n"
   ]
  },
  {
   "cell_type": "code",
   "execution_count": 4,
   "id": "365c7e45",
   "metadata": {},
   "outputs": [
    {
     "data": {
      "text/plain": [
       "'uppercase'"
      ]
     },
     "execution_count": 4,
     "metadata": {},
     "output_type": "execute_result"
    }
   ],
   "source": [
    "# Question 9: Convert \"UPPERCASE\" to lowercase\n",
    "\n",
    "x=\"UPPERCASE\"\n",
    "x.swapcase()"
   ]
  },
  {
   "cell_type": "code",
   "execution_count": 5,
   "id": "c9c48607",
   "metadata": {},
   "outputs": [
    {
     "name": "stdout",
     "output_type": "stream",
     "text": [
      "string without vowels: Cmptr Scnc\n"
     ]
    }
   ],
   "source": [
    "# Question 10: Remove all vowels from \"Computer Science\"\n",
    "# x=[a,e,i,o,u]\n",
    "\n",
    "x=\"Computer Science\"\n",
    "v=\"aeiouAEIOU\"\n",
    "no_vowels = \"\"\n",
    "for char in x:\n",
    "    if char not  in v:\n",
    "         no_vowels += char\n",
    "print(\"string without vowels:\" , no_vowels)\n",
    "\n",
    "\n"
   ]
  },
  {
   "cell_type": "code",
   "execution_count": 38,
   "id": "a447aafc",
   "metadata": {},
   "outputs": [
    {
     "name": "stdout",
     "output_type": "stream",
     "text": [
      "Most frequent character: i\n",
      "Frequency: 4\n"
     ]
    }
   ],
   "source": [
    "# Question 11: Find the most frequent character in \"mississippi\"\n",
    "text=\"mississippi\"\n",
    "frequency={}\n",
    "for char in text:\n",
    "    frequency [char] = frequency.get(char, 0) + 1\n",
    "    most_frequent = max(frequency, key=frequency.get)\n",
    "\n",
    "print(\"Most frequent character:\", most_frequent)\n",
    "print(\"Frequency:\", frequency[most_frequent])"
   ]
  },
  {
   "cell_type": "code",
   "execution_count": 39,
   "id": "da4dc8c9",
   "metadata": {},
   "outputs": [
    {
     "name": "stdout",
     "output_type": "stream",
     "text": [
      "\"listen\" and \"silent\" are anagrams.\n"
     ]
    }
   ],
   "source": [
    "# Question 12: Check if two strings are anagrams: \"listen\" and \"silent\"\n",
    "\n",
    "str1=\"listen\" \n",
    "str2=\"silent\"\n",
    "if sorted(str1) == sorted(str2):\n",
    "    print(f'\"{str1}\" and \"{str2}\" are anagrams.')\n",
    "else:\n",
    "    print(f'\"{str1}\" and\"{str2}\" are not anagram.')\n",
    "    "
   ]
  },
  {
   "cell_type": "code",
   "execution_count": 42,
   "id": "2359e6c4",
   "metadata": {},
   "outputs": [
    {
     "name": "stdout",
     "output_type": "stream",
     "text": [
      "capitalized: Python Programming Language\n"
     ]
    }
   ],
   "source": [
    "# Question 13: Capitalize first letter of each word in \"python programming language\"\n",
    "\n",
    "x=\"python programming language\"\n",
    "capitalized_text = x.title()\n",
    "print(\"capitalized:\", capitalized_text)"
   ]
  },
  {
   "cell_type": "code",
   "execution_count": 43,
   "id": "174696bd",
   "metadata": {},
   "outputs": [
    {
     "name": "stdout",
     "output_type": "stream",
     "text": [
      "Number of consonants: 7\n"
     ]
    }
   ],
   "source": [
    "# Question 14: Count consonants in \"Hello World\"\n",
    "text = \"Hello World\"\n",
    "vowels = \"aeiouAEIOU\"\n",
    "consonant_count = 0\n",
    "\n",
    "for char in text:\n",
    "    if char.isalpha() and char not in vowels:\n",
    "        consonant_count += 1\n",
    "\n",
    "print(\"Number of consonants:\", consonant_count)\n",
    "\n",
    "\n"
   ]
  },
  {
   "cell_type": "code",
   "execution_count": null,
   "id": "bbe3dec6",
   "metadata": {},
   "outputs": [],
   "source": [
    "# Question 15: Find the longest word in \"Python is a programming language\"\n",
    "\n",
    "s=\"Python is a programming language\"\n",
    "words = sentence.split()\n",
    "longest_word = max(words, key=len)\n",
    "\n",
    "print(\"The longest word is:\", longest_word)\n"
   ]
  },
  {
   "cell_type": "code",
   "execution_count": 44,
   "id": "30755917",
   "metadata": {},
   "outputs": [
    {
     "name": "stdout",
     "output_type": "stream",
     "text": [
      "Text without punctuation: Hello World How are you\n"
     ]
    }
   ],
   "source": [
    "# Question 16: Remove all punctuation from \"Hello, World! How are you?\"\n",
    "import string\n",
    "text = \"Hello, World! How are you?\"\n",
    "no_punctuation = text.translate(str.maketrans('', '', string.punctuation))\n",
    "\n",
    "print(\"Text without punctuation:\", no_punctuation)\n"
   ]
  },
  {
   "cell_type": "code",
   "execution_count": 47,
   "id": "0a6b834e",
   "metadata": {},
   "outputs": [
    {
     "name": "stdout",
     "output_type": "stream",
     "text": [
      " String starts with 'Python'.\n"
     ]
    }
   ],
   "source": [
    "# Question 17: Check if string starts with \"Python\"\n",
    "text=\"Python is awesome\"\n",
    "if text.startswith(\"Python\"):\n",
    "    print(\" String starts with 'Python'.\")\n",
    "else:\n",
    "    print(\" String does not starts with 'Python'.\")"
   ]
  },
  {
   "cell_type": "code",
   "execution_count": 56,
   "id": "a8f6759d",
   "metadata": {},
   "outputs": [
    {
     "name": "stdout",
     "output_type": "stream",
     "text": [
      "4\n"
     ]
    }
   ],
   "source": [
    "# Question 18: Find the index of first occurrence of 'o' in \"Hello World\"\n",
    "s=\"Hello World\"\n",
    "\n",
    "print(s.index('o'))\n"
   ]
  },
  {
   "cell_type": "code",
   "execution_count": 61,
   "metadata": {},
   "outputs": [
    {
     "name": "stdout",
     "output_type": "stream",
     "text": [
      "['apple,banana,orange']\n"
     ]
    }
   ],
   "source": [
    "# Question 19: Split string \"apple,banana,orange\" by comma\n",
    "Str=\"apple,banana,orange\"\n",
    "print(str.split(\"apple\" + \",\" \"banana\" + \",\" + \"orange\" ))\n"
   ]
  },
  {
   "cell_type": "code",
   "execution_count": 72,
   "id": "f4a4b854",
   "metadata": {},
   "outputs": [
    {
     "name": "stdout",
     "output_type": "stream",
     "text": [
      "Python is awesome\n"
     ]
    }
   ],
   "source": [
    "# Question 20: Join list ['Python', 'is', 'awesome'] with spaces\n",
    "str=['Python', 'is', 'awesome']\n",
    "str = ' '.join(str)\n",
    "print(str)\n",
    "\n",
    "\n",
    "\n",
    "\n"
   ]
  },
  {
   "cell_type": "code",
   "execution_count": 77,
   "metadata": {},
   "outputs": [
    {
     "data": {
      "text/plain": [
       "True"
      ]
     },
     "execution_count": 77,
     "metadata": {},
     "output_type": "execute_result"
    }
   ],
   "source": [
    "# Question 21: Check if string contains only digits: \"12345\"\n",
    "str=\"12345\"\n",
    "str.isdigit()"
   ]
  },
  {
   "cell_type": "code",
   "execution_count": 78,
   "id": "edb5e090",
   "metadata": {},
   "outputs": [
    {
     "data": {
      "text/plain": [
       "True"
      ]
     },
     "execution_count": 78,
     "metadata": {},
     "output_type": "execute_result"
    }
   ],
   "source": [
    "# Question 22: Check if string contains only letters: \"HelloWorld\"\n",
    "str=\"HelloWorld\"\n",
    "str.isalpha()"
   ]
  },
  {
   "cell_type": "code",
   "execution_count": 90,
   "id": "01a33f1f",
   "metadata": {},
   "outputs": [
    {
     "name": "stdout",
     "output_type": "stream",
     "text": [
      "Alternating case: hE\n",
      "Alternating case: hElL\n",
      "Alternating case: hElLo \n",
      "Alternating case: hElLo wO\n",
      "Alternating case: hElLo wOrL\n"
     ]
    }
   ],
   "source": [
    "# Question 23: Convert \"hello world\" to \"hElLo WoRlD\" (alternating case)\n",
    "x=\"hello world\"\n",
    "result = \"\"\n",
    "\n",
    "for i in range(len(x)):\n",
    "    if i % 2 == 0:\n",
    "        result += x[i].lower()\n",
    "    else:\n",
    "            result += x[i].upper()\n",
    "            print(\"Alternating case:\", result)"
   ]
  },
  {
   "cell_type": "code",
   "execution_count": null,
   "id": "b1b6a9a7",
   "metadata": {},
   "outputs": [
    {
     "ename": "NameError",
     "evalue": "name 'a' is not defined",
     "output_type": "error",
     "traceback": [
      "\u001b[31m---------------------------------------------------------------------------\u001b[39m",
      "\u001b[31mNameError\u001b[39m                                 Traceback (most recent call last)",
      "\u001b[36mCell\u001b[39m\u001b[36m \u001b[39m\u001b[32mIn[79]\u001b[39m\u001b[32m, line 3\u001b[39m\n\u001b[32m      1\u001b[39m \u001b[38;5;66;03m# Question 24: Find all positions of 'a' in \"banana\"\u001b[39;00m\n\u001b[32m      2\u001b[39m \u001b[38;5;28mstr\u001b[39m=\u001b[33m\"\u001b[39m\u001b[33mbanana\u001b[39m\u001b[33m\"\u001b[39m\n\u001b[32m----> \u001b[39m\u001b[32m3\u001b[39m \u001b[38;5;28mstr\u001b[39m.find(\u001b[43ma\u001b[49m)\n",
      "\u001b[31mNameError\u001b[39m: name 'a' is not defined"
     ]
    }
   ],
   "source": [
    "# Question 24: Find all positions of 'a' in \"banana\"\n",
    "str=\"banana\""
   ]
  },
  {
   "cell_type": "code",
   "execution_count": 96,
   "id": "9cb9a81a",
   "metadata": {},
   "outputs": [
    {
     "data": {
      "text/plain": [
       "'Hello World'"
      ]
     },
     "execution_count": 96,
     "metadata": {},
     "output_type": "execute_result"
    }
   ],
   "source": [
    "# Question 25: Remove leading and trailing whitespace from \"  Hello World  \"\n",
    "str=\"  Hello World  \"\n",
    "str.strip()\n"
   ]
  },
  {
   "cell_type": "code",
   "execution_count": 95,
   "metadata": {},
   "outputs": [
    {
     "data": {
      "text/plain": [
       "True"
      ]
     },
     "execution_count": 95,
     "metadata": {},
     "output_type": "execute_result"
    }
   ],
   "source": [
    "# Question 26: Check if string ends with \"ing\": \"programming\"\n",
    "str=\"programming\"\n",
    "str.endswith('ing')\n",
    "\n"
   ]
  },
  {
   "cell_type": "code",
   "execution_count": 98,
   "id": "86b0c804",
   "metadata": {},
   "outputs": [
    {
     "data": {
      "text/plain": [
       "'Hell0 W0rld'"
      ]
     },
     "execution_count": 98,
     "metadata": {},
     "output_type": "execute_result"
    }
   ],
   "source": [
    "# Question 27: Replace first occurrence of 'o' with '0' in \"Hello World\"\n",
    "x=\"Hello World\"\n",
    "x.replace('o','0')"
   ]
  },
  {
   "cell_type": "code",
   "execution_count": 99,
   "id": "81689049",
   "metadata": {},
   "outputs": [
    {
     "name": "stdout",
     "output_type": "stream",
     "text": [
      "The shortest word is: a\n"
     ]
    }
   ],
   "source": [
    "# Question 28: Find the shortest word in \"Python is a programming language\"\n",
    "sentence = \"Python is a programming language\"\n",
    "words = sentence.split()\n",
    "\n",
    "shortest_word = min(words, key=len)\n",
    "\n",
    "print(\"The shortest word is:\", shortest_word)"
   ]
  },
  {
   "cell_type": "code",
   "execution_count": 104,
   "metadata": {},
   "outputs": [
    {
     "name": "stdout",
     "output_type": "stream",
     "text": [
      "Number of words starting with 'p': 3\n"
     ]
    }
   ],
   "source": [
    "# Question 29: Count words that start with 'p' in \"Python programming is powerful\"\n",
    "sentence=\"Python programming is powerful\"\n",
    "words = sentence.split()\n",
    "count = sum(1 for word in words if word.lower().startswith('p'))\n",
    "\n",
    "print(\"Number of words starting with 'p':\", count)"
   ]
  },
  {
   "cell_type": "code",
   "execution_count": 110,
   "metadata": {},
   "outputs": [
    {
     "name": "stdout",
     "output_type": "stream",
     "text": [
      "Reversed words: Python World Hello\n"
     ]
    }
   ],
   "source": [
    "# Question 30: Reverse words in \"Hello World Python\"\n",
    "str=\"Hello World Python\"\n",
    "words = str.split()\n",
    "\n",
    "reversed_sentence = ' '.join(reversed(words))\n",
    "\n",
    "print(\"Reversed words:\", reversed_sentence)\n",
    "\n"
   ]
  },
  {
   "cell_type": "code",
   "execution_count": 116,
   "metadata": {},
   "outputs": [
    {
     "name": "stdout",
     "output_type": "stream",
     "text": [
      "\"user@example.com\" is a valid email format.\n"
     ]
    }
   ],
   "source": [
    "# Question 31: Check if string is a valid email format: \"user@example.com\"\n",
    "import re\n",
    "\n",
    "email = \"user@example.com\"\n",
    "pattern = r'^[\\w\\.-]+@[\\w\\.-]+\\.\\w+$'\n",
    "\n",
    "if re.match(pattern, email):\n",
    "    print(f'\"{email}\" is a valid email format.')\n",
    "else:\n",
    "    print(f'\"{email}\" is NOT a valid email format.')\n"
   ]
  },
  {
   "cell_type": "code",
   "execution_count": 115,
   "metadata": {},
   "outputs": [
    {
     "name": "stdout",
     "output_type": "stream",
     "text": [
      "Domain: www.example.com\n"
     ]
    }
   ],
   "source": [
    "# Question 32: Extract domain from \"https://www.example.com/path\"\n",
    "\n",
    "url = \"https://www.example.com/path\"\n",
    "\n",
    "domain = url.split(\"//\")[1].split(\"/\")[0]\n",
    "\n",
    "print(\"Domain:\", domain)\n"
   ]
  },
  {
   "cell_type": "code",
   "execution_count": 117,
   "id": "11d981c6",
   "metadata": {},
   "outputs": [
    {
     "name": "stdout",
     "output_type": "stream",
     "text": [
      "Number of lines: 3\n"
     ]
    }
   ],
   "source": [
    "# Question 33: Count lines in multi-line string\n",
    "\n",
    "str=''' Python is a programming language.\n",
    "Python is easy.\n",
    "Easy to understand.'''\n",
    "line_count = len(str.splitlines())\n",
    "print(\"Number of lines:\", line_count)\n"
   ]
  },
  {
   "cell_type": "code",
   "execution_count": 118,
   "metadata": {},
   "outputs": [
    {
     "name": "stdout",
     "output_type": "stream",
     "text": [
      "Common characters: {'o', 'l'}\n"
     ]
    }
   ],
   "source": [
    "# Question 34: Find common characters between \"hello\" and \"world\"\n",
    "str1 = \"hello\"\n",
    "str2 = \"world\"\n",
    "common_chars = set(str1) & set(str2)\n",
    "\n",
    "print(\"Common characters:\", common_chars)"
   ]
  },
  {
   "cell_type": "code",
   "execution_count": 119,
   "metadata": {},
   "outputs": [
    {
     "name": "stdout",
     "output_type": "stream",
     "text": [
      "\"+1-555-123-4567\" is a valid phone number format.\n"
     ]
    }
   ],
   "source": [
    "# Question 35: Check if string is a valid phone number: \"+1-555-123-4567\"\n",
    "import re\n",
    "\n",
    "phone = \"+1-555-123-4567\"\n",
    "pattern = r'^\\+\\d{1,3}-\\d{3}-\\d{3}-\\d{4}$'\n",
    "\n",
    "if re.match(pattern, phone):\n",
    "    print(f'\"{phone}\" is a valid phone number format.')\n",
    "else:\n",
    "    print(f'\"{phone}\" is NOT a valid phone number format.')\n",
    "\n"
   ]
  },
  {
   "cell_type": "code",
   "execution_count": 120,
   "id": "c45a3326",
   "metadata": {},
   "outputs": [
    {
     "name": "stdout",
     "output_type": "stream",
     "text": [
      "Extracted numbers: ['123', '456', '789']\n"
     ]
    }
   ],
   "source": [
    "# Question 36: Extract numbers from \"abc123def456ghi789\"\n",
    "import re\n",
    "\n",
    "text = \"abc123def456ghi789\"\n",
    "numbers = re.findall(r'\\d+', text)\n",
    "\n",
    "print(\"Extracted numbers:\", numbers)\n",
    "\n"
   ]
  },
  {
   "cell_type": "code",
   "execution_count": 121,
   "id": "3e9436a5",
   "metadata": {},
   "outputs": [
    {
     "name": "stdout",
     "output_type": "stream",
     "text": [
      "camelCase: snakeCase\n"
     ]
    }
   ],
   "source": [
    "# Question 37: Convert \"snake_case\" to \"camelCase\"\n",
    "snake_case = \"snake_case\"\n",
    "parts = snake_case.split('_')\n",
    "camel_case = parts[0] + ''.join(word.capitalize() for word in parts[1:])\n",
    "\n",
    "print(\"camelCase:\", camel_case)\n"
   ]
  },
  {
   "cell_type": "code",
   "execution_count": 122,
   "id": "4fcf7605",
   "metadata": {},
   "outputs": [
    {
     "name": "stdout",
     "output_type": "stream",
     "text": [
      "It is a valid palindrome.\n"
     ]
    }
   ],
   "source": [
    "# Question 38: Check if string is a valid palindrome ignoring case: \"A man a plan a canal Panama\"\n",
    "text = \"A man a plan a canal Panama\"\n",
    "\n",
    "normalized = ''.join(char.lower() for char in text if char.isalnum())\n",
    "if normalized == normalized[::-1]:\n",
    "    print(\"It is a valid palindrome.\")\n",
    "else:\n",
    "    print(\"It is NOT a palindrome.\")\n"
   ]
  },
  {
   "cell_type": "code",
   "execution_count": 123,
   "metadata": {},
   "outputs": [
    {
     "name": "stdout",
     "output_type": "stream",
     "text": [
      "Most common word: the\n",
      "Frequency: 2\n"
     ]
    }
   ],
   "source": [
    "# Question 39: Find the most common word in \"the quick brown fox jumps over the lazy dog\"\n",
    "\n",
    "from collections import Counter\n",
    "\n",
    "text = \"the quick brown fox jumps over the lazy dog\"\n",
    "words = text.split()\n",
    "word_counts = Counter(words)\n",
    "most_common_word, frequency = word_counts.most_common(1)[0]\n",
    "\n",
    "print(\"Most common word:\", most_common_word)\n",
    "print(\"Frequency:\", frequency)\n",
    "\n"
   ]
  },
  {
   "cell_type": "code",
   "execution_count": 126,
   "metadata": {},
   "outputs": [
    {
     "name": "stdout",
     "output_type": "stream",
     "text": [
      "Acronym: NASA\n"
     ]
    }
   ],
   "source": [
    "# Question 40: Generate acronym from \"National Aeronautics and Space Administration\"\n",
    "text = \"National Aeronautics and Space Administration\"\n",
    "\n",
    "words = text.split()\n",
    "stopwords = {\"and\", \"of\", \"the\", \"in\", \"for\"}\n",
    "\n",
    "acronym = ''.join(word[0].upper() for word in words if word.lower() not in stopwords)\n",
    "print(\"Acronym:\", acronym)\n"
   ]
  },
  {
   "cell_type": "code",
   "execution_count": 127,
   "id": "25a11671",
   "metadata": {},
   "outputs": [
    {
     "name": "stdout",
     "output_type": "stream",
     "text": [
      "The parentheses are balanced.\n"
     ]
    }
   ],
   "source": [
    "# Question 41: Check if string contains balanced parentheses: \"((()))\"\n",
    "\n",
    "text = \"((()))\"\n",
    "stack = []\n",
    "balanced = True\n",
    "\n",
    "for char in text:\n",
    "    if char == '(':\n",
    "        stack.append(char)\n",
    "    elif char == ')':\n",
    "        if not stack:\n",
    "            balanced = False\n",
    "            break\n",
    "        stack.pop()\n",
    "\n",
    "# Final check after loop\n",
    "if balanced and not stack:\n",
    "    print(\"The parentheses are balanced.\")\n",
    "else:\n",
    "    print(\"The parentheses are NOT balanced.\")\n"
   ]
  },
  {
   "cell_type": "code",
   "execution_count": 142,
   "id": "c3ed8401",
   "metadata": {},
   "outputs": [
    {
     "name": "stdout",
     "output_type": "stream",
     "text": [
      "Morse code: .... . .-.. .-.. --- / .-- --- .-. .-.. -..\n"
     ]
    }
   ],
   "source": [
    "# Question 42: Convert \"hello world\" to Morse code\n",
    "\n",
    "# Morse code dictionary\n",
    "morse_code_dict = {\n",
    "    'A': '.-',    'B': '-...',  'C': '-.-.', \n",
    "    'D': '-..',   'E': '.',     'F': '..-.',\n",
    "    'G': '--.',   'H': '....',  'I': '..',\n",
    "    'J': '.---',  'K': '-.-',   'L': '.-..',\n",
    "    'M': '--',    'N': '-.',    'O': '---',\n",
    "    'P': '.--.',  'Q': '--.-',  'R': '.-.',\n",
    "    'S': '...',   'T': '-',     'U': '..-',\n",
    "    'V': '...-',  'W': '.--',   'X': '-..-',\n",
    "    'Y': '-.--',  'Z': '--..',\n",
    "    '0': '-----', '1': '.----', '2': '..---',\n",
    "    '3': '...--', '4': '....-', '5': '.....',\n",
    "    '6': '-....', '7': '--...', '8': '---..',\n",
    "    '9': '----.',\n",
    "    ' ': '/'  # Word separator\n",
    "}\n",
    "# Convert text to Morse code\n",
    "text = \"hello world\"\n",
    "text = text.upper()\n",
    "\n",
    "morse_code = ' '.join(morse_code_dict[char] for char in text if char in morse_code_dict)\n",
    "\n",
    "print(\"Morse code:\", morse_code)\n"
   ]
  },
  {
   "cell_type": "code",
   "execution_count": 141,
   "id": "c3eae9d2",
   "metadata": {},
   "outputs": [
    {
     "name": "stdout",
     "output_type": "stream",
     "text": [
      "Longest common substring: mming\n"
     ]
    }
   ],
   "source": [
    "# Question 43: Find the longest common substring between \"programming\" and \"grammar\"\n",
    "\n",
    "def longest_common_substring(s1, s2):\n",
    "    m, n = len(s1), len(s2)\n",
    "    max_len = 0\n",
    "    ending_index = 0\n",
    "\n",
    "    # Create a 2D table to store lengths of longest common suffixes\n",
    "    dp = [[0] * (n + 1) for _ in range(m + 1)]\n",
    "\n",
    "    # Build the table and find the maximum length\n",
    "    for i in range(m):\n",
    "        for j in range(n):\n",
    "            if s1[i] == s2[j]:\n",
    "                dp[i+1][j+1] = dp[i][j] + 1\n",
    "                if dp[i+1][j+1] > max_len:max_len = dp[i+1][j+1]\n",
    "                ending_index = i + 1\n",
    "\n",
    "    return s1[ending_index - max_len: ending_index]\n",
    "\n",
    "# Test the function\n",
    "s1 = \"programming\"\n",
    "s2 = \"grammar\"\n",
    "result = longest_common_substring(s1, s2)\n",
    "\n",
    "print(\"Longest common substring:\", result)\n"
   ]
  },
  {
   "cell_type": "code",
   "execution_count": 139,
   "metadata": {},
   "outputs": [
    {
     "name": "stdout",
     "output_type": "stream",
     "text": [
      "\"https://www.google.com\" is a valid URL.\n"
     ]
    }
   ],
   "source": [
    "# Question 44: Check if string is a valid URL: \"https://www.google.com\"\n",
    "import re\n",
    "\n",
    "url = \"https://www.google.com\"\n",
    "\n",
    "pattern = re.compile(\n",
    "    r'^(https?|ftp)://'                     # http:// or https:// or ftp://\n",
    "    r'([a-zA-Z0-9.-]+)'                     # domain\n",
    "    r'(\\.[a-zA-Z]{2,})'                     # top-level domain\n",
    "    r'(/[a-zA-Z0-9._~:/?#@!$&\\'()*+,;=%-]*)?$',  # optional path/query\n",
    "    re.IGNORECASE\n",
    ")\n",
    "if re.match(pattern, url):\n",
    "    print(f'\"{url}\" is a valid URL.')\n",
    "else:\n",
    "    print(f'\"{url}\" is NOT a valid URL.')\n"
   ]
  },
  {
   "cell_type": "code",
   "execution_count": 138,
   "id": "3339dd05",
   "metadata": {},
   "outputs": [
    {
     "name": "stdout",
     "output_type": "stream",
     "text": [
      "Words with length > 5: ['Python', 'programming', 'amazing', 'powerful']\n"
     ]
    }
   ],
   "source": [
    "# Question 45: Extract all words with length > 5 from \"Python programming is amazing and powerful\"\n",
    "text = \"Python programming is amazing and powerful\"\n",
    "\n",
    "# Split into words and filter by length > 5\n",
    "long_words = [word for word in text.split() if len(word) > 5]\n",
    "\n",
    "print(\"Words with length > 5:\", long_words)"
   ]
  },
  {
   "cell_type": "code",
   "execution_count": 137,
   "id": "9357a53e",
   "metadata": {},
   "outputs": [
    {
     "name": "stdout",
     "output_type": "stream",
     "text": [
      "Pig Latin: ellohay orldway\n"
     ]
    }
   ],
   "source": [
    "# Question 46: Convert \"hello world\" to Pig Latin\n",
    "def to_pig_latin(word):\n",
    "    vowels = \"aeiou\"\n",
    "    word = word.lower()\n",
    "    if word[0] in vowels:\n",
    "        return word + \"way\"\n",
    "    else:\n",
    "        for i, letter in enumerate(word):\n",
    "            if letter in vowels:\n",
    "                return word[i:] + word[:i] + \"ay\"\n",
    "        return word + \"ay\"  # no vowels found\n",
    "        # Convert sentence\n",
    "sentence = \"hello world\"\n",
    "words = sentence.split()\n",
    "\n",
    "pig_latin_words = [to_pig_latin(word) for word in words]\n",
    "pig_latin_sentence = ' '.join(pig_latin_words)\n",
    "\n",
    "print(\"Pig Latin:\", pig_latin_sentence)"
   ]
  },
  {
   "cell_type": "code",
   "execution_count": 136,
   "metadata": {},
   "outputs": [
    {
     "name": "stdout",
     "output_type": "stream",
     "text": [
      "192.168.1.1 is a valid IPv4 address.\n"
     ]
    }
   ],
   "source": [
    "# Question 47: Check if string is a valid IPv4 address: \"192.168.1.1\"\n",
    "import ipaddress\n",
    "\n",
    "ip = \"192.168.1.1\"\n",
    "\n",
    "try:\n",
    "    ipaddress.IPv4Address(ip)\n",
    "    print(f\"{ip} is a valid IPv4 address.\")\n",
    "except ipaddress.AddressValueError:\n",
    "    print(f\"{ip} is NOT a valid IPv4 address.\")"
   ]
  },
  {
   "cell_type": "code",
   "execution_count": 135,
   "id": "d350c1e2",
   "metadata": {},
   "outputs": [
    {
     "name": "stdout",
     "output_type": "stream",
     "text": [
      "All substrings: ['a', 'ab', 'abc', 'b', 'bc', 'c']\n"
     ]
    }
   ],
   "source": [
    "# Question 48: Find all substrings of \"abc\"\n",
    "text = \"abc\"\n",
    "substrings = []\n",
    "\n",
    "for i in range(len(text)):\n",
    "    for j in range(i + 1, len(text) + 1):\n",
    "        substrings.append(text[i:j])\n",
    "\n",
    "print(\"All substrings:\", substrings)"
   ]
  },
  {
   "cell_type": "code",
   "execution_count": 134,
   "metadata": {},
   "outputs": [
    {
     "name": "stdout",
     "output_type": "stream",
     "text": [
      "ROT13 encoded: uryyb jbeyq\n"
     ]
    }
   ],
   "source": [
    "# Question 49: Convert \"hello world\" to ROT13 encoding\n",
    "import codecs\n",
    "\n",
    "text = \"hello world\"\n",
    "rot13_text = codecs.encode(text, 'rot_13')\n",
    "\n",
    "print(\"ROT13 encoded:\", rot13_text)"
   ]
  },
  {
   "cell_type": "code",
   "execution_count": 6,
   "id": "5d1ed2c3",
   "metadata": {},
   "outputs": [],
   "source": [
    "# Question 50: Check if string is a valid credit card number: \"4532015112830366\"\n",
    "\n",
    "def is_valid_credit_card(number):\n",
    "    number = number[::-1]  # Reverse the number string\n",
    "    total = 0\n",
    "    for i, digit in enumerate(number):\n",
    "        n = int(digit)\n",
    "        if i % 2 == 1:\n",
    "            n *= 2\n",
    "            if n > 9:\n",
    "                n -= 9\n",
    "        total += n\n",
    "        return total % 10 == 0\n",
    "    card_number = \"4532015112830366\"\n",
    "    if is_valid_credit_card(card_number):\n",
    "        print(f\"{card_number} is a valid credit card number.\")\n",
    "    else:\n",
    "        print(f\"{card_number} is not a valid credit card number.\")\n"
   ]
  },
  {
   "cell_type": "code",
   "execution_count": null,
   "metadata": {},
   "outputs": [],
   "source": []
  },
  {
   "cell_type": "code",
   "execution_count": null,
   "id": "ffd519b3",
   "metadata": {},
   "outputs": [],
   "source": []
  },
  {
   "cell_type": "code",
   "execution_count": null,
   "id": "d87267f6",
   "metadata": {},
   "outputs": [],
   "source": []
  },
  {
   "cell_type": "code",
   "execution_count": null,
   "id": "17357573",
   "metadata": {},
   "outputs": [],
   "source": []
  },
  {
   "cell_type": "code",
   "execution_count": null,
   "metadata": {},
   "outputs": [],
   "source": []
  },
  {
   "cell_type": "code",
   "execution_count": null,
   "id": "2e3b9d6f",
   "metadata": {},
   "outputs": [],
   "source": []
  },
  {
   "cell_type": "code",
   "execution_count": null,
   "metadata": {},
   "outputs": [],
   "source": []
  },
  {
   "cell_type": "code",
   "execution_count": null,
   "id": "f517c4c8",
   "metadata": {},
   "outputs": [],
   "source": []
  },
  {
   "cell_type": "code",
   "execution_count": null,
   "metadata": {},
   "outputs": [],
   "source": []
  },
  {
   "cell_type": "code",
   "execution_count": null,
   "metadata": {},
   "outputs": [],
   "source": []
  },
  {
   "cell_type": "code",
   "execution_count": null,
   "metadata": {},
   "outputs": [],
   "source": []
  },
  {
   "cell_type": "code",
   "execution_count": null,
   "id": "af7e1a74",
   "metadata": {},
   "outputs": [],
   "source": []
  },
  {
   "cell_type": "code",
   "execution_count": null,
   "id": "0113f25b",
   "metadata": {},
   "outputs": [],
   "source": []
  },
  {
   "cell_type": "code",
   "execution_count": null,
   "id": "c376b790",
   "metadata": {},
   "outputs": [],
   "source": []
  },
  {
   "cell_type": "code",
   "execution_count": null,
   "id": "ccb7b55f",
   "metadata": {},
   "outputs": [],
   "source": []
  }
 ],
 "metadata": {
  "kernelspec": {
   "display_name": "Python 3",
   "language": "python",
   "name": "python3"
  },
  "language_info": {
   "codemirror_mode": {
    "name": "ipython",
    "version": 3
   },
   "file_extension": ".py",
   "mimetype": "text/x-python",
   "name": "python",
   "nbconvert_exporter": "python",
   "pygments_lexer": "ipython3",
   "version": "3.13.5"
  }
 },
 "nbformat": 4,
 "nbformat_minor": 5
}
