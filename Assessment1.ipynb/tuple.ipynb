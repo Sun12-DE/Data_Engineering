{
 "cells": [
  {
   "cell_type": "code",
   "execution_count": 2,
   "id": "62a4b023",
   "metadata": {},
   "outputs": [
    {
     "name": "stdout",
     "output_type": "stream",
     "text": [
      "The first 10 natural numbers are (1, 2, 3, 4, 5, 6, 7, 8, 9, 10)\n"
     ]
    }
   ],
   "source": [
    "# Question 1: Create a tuple of first 10 natural numbers\n",
    "\n",
    "#1, 2, 3, 4, 5, 6, 7, 8, 9, and 10\n",
    "\n",
    "natural_number = tuple (range(1,11))\n",
    "print(\"The first 10 natural numbers are\", natural_number)\n",
    "\n"
   ]
  },
  {
   "cell_type": "code",
   "execution_count": 8,
   "id": "637eb2bb",
   "metadata": {},
   "outputs": [
    {
     "name": "stdout",
     "output_type": "stream",
     "text": [
      " The length of tuple are: 10\n"
     ]
    }
   ],
   "source": [
    "# Question 2: Find the length of tuple (1, 2, 3, 4, 5, 6, 7, 8, 9, 10)\n",
    "\n",
    "tuple = (1, 2, 3, 4, 5, 6, 7, 8, 9, 10)\n",
    "length = len(tuple)\n",
    "print(\" The length of tuple are:\", length)\n"
   ]
  },
  {
   "cell_type": "code",
   "execution_count": 27,
   "id": "aa850ce7",
   "metadata": {},
   "outputs": [
    {
     "name": "stdout",
     "output_type": "stream",
     "text": [
      " the 3rd element from tuple is: c\n"
     ]
    }
   ],
   "source": [
    "# Question 3: Access the 3rd element from tuple ('a', 'b', 'c', 'd', 'e')\n",
    "letters=('a', 'b', 'c', 'd', 'e')\n",
    "third_element = letters[2]\n",
    "print(\" the 3rd element from tuple is:\",third_element)"
   ]
  },
  {
   "cell_type": "code",
   "execution_count": 28,
   "id": "5ef85fe0",
   "metadata": {},
   "outputs": [
    {
     "name": "stdout",
     "output_type": "stream",
     "text": [
      "Maximum value in the tuple: 89\n"
     ]
    }
   ],
   "source": [
    "# Question 4: Find the maximum value in tuple (23, 45, 12, 67, 34, 89, 56)\n",
    "numbers = (23, 45, 12, 67, 34, 89, 56)\n",
    "\n",
    "# Find the maximum value\n",
    "max_value = max(numbers)\n",
    "\n",
    "print(\"Maximum value in the tuple:\", max_value)"
   ]
  },
  {
   "cell_type": "code",
   "execution_count": 29,
   "id": "9901165f",
   "metadata": {},
   "outputs": [
    {
     "data": {
      "text/plain": [
       "4"
      ]
     },
     "execution_count": 29,
     "metadata": {},
     "output_type": "execute_result"
    }
   ],
   "source": [
    "# Question 5: Count how many times 5 appears in (1, 5, 2, 5, 3, 5, 4, 5, 6)\n",
    "n=(1, 5, 2, 5, 3, 5, 4, 5, 6)\n",
    "n.count(5)"
   ]
  },
  {
   "cell_type": "code",
   "execution_count": 35,
   "id": "d43f3757",
   "metadata": {},
   "outputs": [
    {
     "name": "stdout",
     "output_type": "stream",
     "text": [
      "mixed data types: (24, 2.5, 'rakesh', True)\n"
     ]
    }
   ],
   "source": [
    "# Question 6: Create a tuple of mixed data types (integer, float, string, boolean)\n",
    "\n",
    "tuple=(24,2.5,'rakesh',True)\n",
    "print(\"mixed data types:\", tuple)"
   ]
  },
  {
   "cell_type": "code",
   "execution_count": 36,
   "id": "8ca8b9aa",
   "metadata": {},
   "outputs": [
    {
     "name": "stdout",
     "output_type": "stream",
     "text": [
      "1\n"
     ]
    }
   ],
   "source": [
    "# Question 7: Find the index of element 'python' in ('java', 'python', 'c++', 'javascript')\n",
    "\n",
    "z=('java', 'python', 'c++', 'javascript')\n",
    "print(z.index('python'))\n"
   ]
  },
  {
   "cell_type": "code",
   "execution_count": 40,
   "id": "bfb8813d",
   "metadata": {},
   "outputs": [
    {
     "name": "stdout",
     "output_type": "stream",
     "text": [
      " the 25 is not exist in tuple.\n"
     ]
    }
   ],
   "source": [
    "# Question 8: Check if 25 exists in tuple (10, 20, 30, 40, 50)\n",
    "x=(10, 20, 30, 40, 50)\n",
    "if 25 in x:\n",
    "        print(\" the 25 is exist in tuple.\")\n",
    "else:\n",
    "        print(\" the 25 is not exist in tuple.\")"
   ]
  },
  {
   "cell_type": "code",
   "execution_count": 41,
   "id": "bd256403",
   "metadata": {},
   "outputs": [
    {
     "name": "stdout",
     "output_type": "stream",
     "text": [
      " the even numbers in tuple: (0, 2, 4, 6, 8)\n"
     ]
    }
   ],
   "source": [
    " #Question 9: Create a tuple of first 5 even numbers\n",
    " even_numbers=(0,2,4,6,8)\n",
    " print(\" the even numbers in tuple:\", even_numbers)"
   ]
  },
  {
   "cell_type": "code",
   "execution_count": 43,
   "id": "e7c7b066",
   "metadata": {},
   "outputs": [
    {
     "name": "stdout",
     "output_type": "stream",
     "text": [
      " the average of x is: 40.833333333333336\n"
     ]
    }
   ],
   "source": [
    "# Question 10: Find the average of numbers in tuple (15, 23, 31, 42, 56, 78)\n",
    "x=(15, 23, 31, 42, 56, 78)\n",
    "avg= sum(x)/len(x)\n",
    "print(\" the average of x is:\", avg)\n",
    "\n"
   ]
  },
  {
   "cell_type": "code",
   "execution_count": null,
   "id": "4acf3bee",
   "metadata": {},
   "outputs": [],
   "source": []
  },
  {
   "cell_type": "code",
   "execution_count": null,
   "id": "f9c9492b",
   "metadata": {},
   "outputs": [],
   "source": []
  },
  {
   "cell_type": "code",
   "execution_count": null,
   "id": "6d90bd2f",
   "metadata": {},
   "outputs": [],
   "source": []
  },
  {
   "cell_type": "code",
   "execution_count": null,
   "id": "f96e2b43",
   "metadata": {},
   "outputs": [],
   "source": []
  },
  {
   "cell_type": "code",
   "execution_count": null,
   "id": "6cd912d0",
   "metadata": {},
   "outputs": [],
   "source": []
  },
  {
   "cell_type": "code",
   "execution_count": null,
   "id": "aa5669c3",
   "metadata": {},
   "outputs": [],
   "source": []
  },
  {
   "cell_type": "code",
   "execution_count": null,
   "id": "0df8320e",
   "metadata": {},
   "outputs": [],
   "source": []
  },
  {
   "cell_type": "code",
   "execution_count": null,
   "id": "fe40666b",
   "metadata": {},
   "outputs": [],
   "source": []
  },
  {
   "cell_type": "code",
   "execution_count": null,
   "id": "d35fefdb",
   "metadata": {},
   "outputs": [],
   "source": []
  },
  {
   "cell_type": "code",
   "execution_count": null,
   "id": "473dd1e1",
   "metadata": {},
   "outputs": [],
   "source": []
  }
 ],
 "metadata": {
  "kernelspec": {
   "display_name": "Python 3",
   "language": "python",
   "name": "python3"
  },
  "language_info": {
   "codemirror_mode": {
    "name": "ipython",
    "version": 3
   },
   "file_extension": ".py",
   "mimetype": "text/x-python",
   "name": "python",
   "nbconvert_exporter": "python",
   "pygments_lexer": "ipython3",
   "version": "3.13.5"
  }
 },
 "nbformat": 4,
 "nbformat_minor": 5
}
