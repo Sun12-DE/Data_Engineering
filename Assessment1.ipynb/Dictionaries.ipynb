{
 "cells": [
  {
   "cell_type": "code",
   "execution_count": 11,
   "id": "13a720e4",
   "metadata": {},
   "outputs": [
    {
     "name": "stdout",
     "output_type": "stream",
     "text": [
      "{'rakesh': 30, 'rahul': 25, 'dravid': 40}\n"
     ]
    }
   ],
   "source": [
    "# Question 1: Create a dictionary of student names and their ages\n",
    "student={\n",
    "    \"rakesh\":30,\n",
    "    \"rahul\":25,\n",
    "    \"dravid\":40\n",
    "}\n",
    "\n",
    "print(student)"
   ]
  },
  {
   "cell_type": "code",
   "execution_count": 13,
   "id": "06a46521",
   "metadata": {},
   "outputs": [
    {
     "name": "stdout",
     "output_type": "stream",
     "text": [
      "{'a': 1, 'b': 2, 'c': 3, 'd': 5}\n"
     ]
    }
   ],
   "source": [
    "# Question 2: Add a new key-value pair to dictionary {'a': 1, 'b': 2, 'c': 3}\n",
    "\n",
    "d={'a': 1, 'b': 2, 'c': 3}\n",
    "d.update({'d':5})\n",
    "print(d)\n"
   ]
  },
  {
   "cell_type": "code",
   "execution_count": 41,
   "id": "7d0c0323",
   "metadata": {},
   "outputs": [
    {
     "name": "stdout",
     "output_type": "stream",
     "text": [
      "dict_keys(['name', 'age', 'city'])\n"
     ]
    }
   ],
   "source": [
    "# Question 3: Get all keys from dictionary {'name': 'John', 'age': 25, 'city': 'New York'}\n",
    "x={'name': 'John', 'age': 25, 'city': 'New York'}\n",
    "print(x.keys())\n",
    "\n",
    "\n"
   ]
  },
  {
   "cell_type": "code",
   "execution_count": 17,
   "id": "eab6ad68",
   "metadata": {},
   "outputs": [
    {
     "data": {
      "text/plain": [
       "dict_values([3, 2, 1])"
      ]
     },
     "execution_count": 17,
     "metadata": {},
     "output_type": "execute_result"
    }
   ],
   "source": [
    "# Question 4: Get all values from dictionary {'python': 3, 'java': 2, 'c++': 1}\n",
    "\n",
    "dict={'python': 3, 'java': 2, 'c++': 1}\n",
    "dict.values()\n"
   ]
  },
  {
   "cell_type": "code",
   "execution_count": 43,
   "id": "813f7000",
   "metadata": {},
   "outputs": [
    {
     "name": "stdout",
     "output_type": "stream",
     "text": [
      "Key 'age' exists in the dictionary.\n"
     ]
    }
   ],
   "source": [
    "# Question 5: Check if key 'age' exists in {'name': 'Alice', 'age': 30, 'city': 'London'}\n",
    "\n",
    "person = {'name': 'Alice', 'age': 30, 'city': 'London'}\n",
    "if 'age' in person:\n",
    "    print(\"Key 'age' exists in the dictionary.\")\n",
    "else:\n",
    "    print(\"Key 'age' does not exist in the dictionary.\")"
   ]
  },
  {
   "cell_type": "code",
   "execution_count": 22,
   "id": "74de064e",
   "metadata": {},
   "outputs": [
    {
     "name": "stdout",
     "output_type": "stream",
     "text": [
      "{'a': 1, 'b': 2, 'c': 4}\n"
     ]
    }
   ],
   "source": [
    "# Question 6: Remove key 'temp' from {'a': 1, 'b': 2, 'temp': 3, 'c': 4}\n",
    "\n",
    "dict={'a': 1, 'b': 2, 'temp': 3, 'c': 4}\n",
    "dict.pop('temp')\n",
    "print(dict)"
   ]
  },
  {
   "cell_type": "code",
   "execution_count": 24,
   "metadata": {},
   "outputs": [
    {
     "name": "stdout",
     "output_type": "stream",
     "text": [
      "255\n"
     ]
    }
   ],
   "source": [
    "# Question 7: Find the sum of all values in {'math': 85, 'science': 92, 'english': 78}\n",
    "dict={'math': 85, 'science': 92, 'english': 78}\n",
    "x=dict.values()\n",
    "y=sum(x)\n",
    "print(y)\n",
    "\n"
   ]
  },
  {
   "cell_type": "code",
   "execution_count": 2,
   "metadata": {},
   "outputs": [
    {
     "name": "stdout",
     "output_type": "stream",
     "text": [
      "{1: 1, 2: 4, 3: 9, 4: 16, 5: 25}\n"
     ]
    }
   ],
   "source": [
    "# Question 8: Create a dictionary with squares of numbers 1 to 5\n",
    "squares = {num: num**2 for num in range(1, 6)}\n",
    "\n",
    "print(squares)\n",
    "\n",
    "\n",
    "\n"
   ]
  },
  {
   "cell_type": "code",
   "execution_count": 47,
   "metadata": {},
   "outputs": [
    {
     "name": "stdout",
     "output_type": "stream",
     "text": [
      "{'h': 1, 'e': 1, 'l': 2, 'o': 1}\n"
     ]
    }
   ],
   "source": [
    "# Question 9: Count frequency of each character in string \"hello\"\n",
    "text = \"hello\"\n",
    "frequency = {}\n",
    "for char in text:\n",
    "    frequency[char] = frequency.get(char, 0) + 1\n",
    "\n",
    "print(frequency)\n",
    "\n",
    "\n"
   ]
  },
  {
   "cell_type": "code",
   "execution_count": 49,
   "metadata": {},
   "outputs": [
    {
     "name": "stdout",
     "output_type": "stream",
     "text": [
      "{'a': 1, 'b': 2, 'c': 3, 'd': 4}\n",
      "{'a': 1, 'b': 2, 'c': 3, 'd': 4}\n"
     ]
    }
   ],
   "source": [
    "# Question 10: Merge two dictionaries {'a': 1, 'b': 2} and {'c': 3, 'd': 4}\n",
    "d1 = {'a': 1, 'b': 2}\n",
    "d2 = {'c': 3, 'd': 4}\n",
    "merged_dict1 = {**d1, **d2}\n",
    "\n",
    "print(merged_dict1)\n",
    "merged_dict2 = d1.copy()\n",
    "merged_dict2.update(d2)\n",
    "print(merged_dict2)\n",
    "\n",
    "\n"
   ]
  },
  {
   "cell_type": "code",
   "execution_count": 5,
   "metadata": {},
   "outputs": [
    {
     "name": "stdout",
     "output_type": "stream",
     "text": [
      "{'person': {'name': 'Alice', 'age': 25}}\n"
     ]
    }
   ],
   "source": [
    "# Question 11: Create a nested dictionary: {'person': {'name': 'Alice', 'age': 25}}\n",
    "person_info = {\n",
    "    'person': {\n",
    "        'name': 'Alice',\n",
    "        'age': 25\n",
    "    }\n",
    "}\n",
    "\n",
    "print(person_info)"
   ]
  },
  {
   "cell_type": "code",
   "execution_count": 6,
   "metadata": {},
   "outputs": [
    {
     "name": "stdout",
     "output_type": "stream",
     "text": [
      "Alice\n"
     ]
    }
   ],
   "source": [
    "# Question 12: Access nested value 'name' from {'person': {'name': 'Alice', 'age': 25}}\n",
    "data = {'person': {'name': 'Alice', 'age': 25}}\n",
    "\n",
    "# Accessing nested value\n",
    "name_value = data['person']['name']\n",
    "\n",
    "print(name_value)"
   ]
  },
  {
   "cell_type": "code",
   "execution_count": 7,
   "id": "2c79af2b",
   "metadata": {},
   "outputs": [
    {
     "name": "stdout",
     "output_type": "stream",
     "text": [
      "{'fruits': ['apple', 'banana'], 'colors': ['red', 'blue']}\n"
     ]
    }
   ],
   "source": [
    "# Question 13: Create a dictionary with list values: {'fruits': ['apple', 'banana'], 'colors': ['red', 'blue']}\n",
    "my_dict = {\n",
    "    'fruits': ['apple', 'banana'],\n",
    "    'colors': ['red', 'blue']\n",
    "}\n",
    "\n",
    "print(my_dict)"
   ]
  },
  {
   "cell_type": "code",
   "execution_count": 8,
   "metadata": {},
   "outputs": [
    {
     "name": "stdout",
     "output_type": "stream",
     "text": [
      "{'fruits': ['apple', 'banana', 'orange'], 'colors': ['red', 'blue']}\n"
     ]
    }
   ],
   "source": [
    "# Question 14: Add 'orange' to the 'fruits' list in nested dictionary\n",
    "my_dict = {\n",
    "    'fruits': ['apple', 'banana'],\n",
    "    'colors': ['red', 'blue']\n",
    "}\n",
    "\n",
    "# Adding 'orange' to the 'fruits' list\n",
    "my_dict['fruits'].append('orange')\n",
    "\n",
    "print(my_dict)"
   ]
  },
  {
   "cell_type": "code",
   "execution_count": 9,
   "metadata": {},
   "outputs": [
    {
     "name": "stdout",
     "output_type": "stream",
     "text": [
      "{'coordinates': (10, 20), 'rgb': (255, 0, 0)}\n"
     ]
    }
   ],
   "source": [
    "# Question 15: Create a dictionary with tuple values: {'coordinates': (10, 20), 'rgb': (255, 0, 0)}\n",
    "my_dict = {\n",
    "    'coordinates': (10, 20),\n",
    "    'rgb': (255, 0, 0)\n",
    "}\n",
    "\n",
    "print(my_dict)"
   ]
  },
  {
   "cell_type": "code",
   "execution_count": 56,
   "metadata": {},
   "outputs": [
    {
     "name": "stdout",
     "output_type": "stream",
     "text": [
      "10\n",
      "255\n"
     ]
    }
   ],
   "source": [
    "# Question 16: Extract first coordinate from nested tuple\n",
    "my_dict = {\n",
    "    'coordinates': (10, 20),\n",
    "    'rgb': (255, 0, 0)\n",
    "}\n",
    "\n",
    "# Extract first coordinate\n",
    "first_coordinate = my_dict['coordinates'][0]\n",
    "second_rgb = my_dict['rgb'][0]\n",
    "print(first_coordinate)\n",
    "print(second_rgb)\n"
   ]
  },
  {
   "cell_type": "code",
   "execution_count": 11,
   "metadata": {},
   "outputs": [
    {
     "name": "stdout",
     "output_type": "stream",
     "text": [
      "{'vowels': {'a', 'e', 'i'}, 'consonants': {'d', 'b', 'c'}}\n"
     ]
    }
   ],
   "source": [
    "# Question 17: Create a dictionary with set values: {'vowels': {'a', 'e', 'i'}, 'consonants': {'b', 'c', 'd'}}\n",
    "my_dict = {\n",
    "    'vowels': {'a', 'e', 'i'},\n",
    "    'consonants': {'b', 'c', 'd'}\n",
    "}\n",
    "\n",
    "print(my_dict)"
   ]
  },
  {
   "cell_type": "code",
   "execution_count": 12,
   "id": "a9b8bd15",
   "metadata": {},
   "outputs": [
    {
     "name": "stdout",
     "output_type": "stream",
     "text": [
      "{'vowels': {'a', 'o', 'e', 'i'}, 'consonants': {'d', 'b', 'c'}}\n"
     ]
    }
   ],
   "source": [
    "# Question 18: Add 'o' to vowels set in nested dictionary\n",
    "my_dict = {\n",
    "    'vowels': {'a', 'e', 'i'},\n",
    "    'consonants': {'b', 'c', 'd'}\n",
    "}\n",
    "\n",
    "# Adding 'o' to the vowels set\n",
    "my_dict['vowels'].add('o')\n",
    "\n",
    "print(my_dict)"
   ]
  },
  {
   "cell_type": "code",
   "execution_count": 13,
   "id": "faa772ea",
   "metadata": {},
   "outputs": [
    {
     "name": "stdout",
     "output_type": "stream",
     "text": [
      "{'company': {'department': {'employee': {'name': 'John', 'id': 123}}}}\n"
     ]
    }
   ],
   "source": [
    "# Question 19: Create a 3-level nested dictionary: {'company': {'department': {'employee': {'name': 'John', 'id': 123}}}}\n",
    "my_dict = {\n",
    "    'company': {\n",
    "        'department': {\n",
    "            'employee': {\n",
    "                'name': 'John',\n",
    "                'id': 123\n",
    "            }\n",
    "        }\n",
    "    }\n",
    "}\n",
    "\n",
    "print(my_dict)"
   ]
  },
  {
   "cell_type": "code",
   "execution_count": 14,
   "metadata": {},
   "outputs": [
    {
     "name": "stdout",
     "output_type": "stream",
     "text": [
      "John\n"
     ]
    }
   ],
   "source": [
    "# Question 20: Access employee name from 3-level nested dictionary\n",
    "my_dict = {\n",
    "    'company': {\n",
    "        'department': {\n",
    "            'employee': {\n",
    "                'name': 'John',\n",
    "                'id': 123\n",
    "            }\n",
    "        }\n",
    "    }\n",
    "}\n",
    "\n",
    "# Accessing employee name\n",
    "employee_name = my_dict['company']['department']['employee']['name']\n",
    "\n",
    "print(employee_name)"
   ]
  },
  {
   "cell_type": "code",
   "execution_count": null,
   "metadata": {},
   "outputs": [
    {
     "name": "stdout",
     "output_type": "stream",
     "text": [
      "{'datatypes': {'int': 42, 'float': 3.14, 'str': 'hello', 'bool': True}}\n"
     ]
    }
   ],
   "source": [
    "# Question 21: Create a dictionary with mixed data types: {'int': 42, 'float': 3.14, 'str': 'hello', 'bool': True}\n",
    "mix= {\n",
    "    'datatypes': \n",
    "        {'int':42,'float':3.14,'str':'hello','bool':True}\n",
    "    }\n",
    "print(mix)\n"
   ]
  },
  {
   "cell_type": "code",
   "execution_count": 29,
   "id": "7fd55ac7",
   "metadata": {},
   "outputs": [
    {
     "name": "stdout",
     "output_type": "stream",
     "text": [
      "int:<class 'int'>\n",
      "float:<class 'float'>\n",
      "str:<class 'str'>\n",
      "bool:<class 'bool'>\n"
     ]
    }
   ],
   "source": [
    "# Question 22: Check data type of each value in mixed dictionary\n",
    "my_dict= {\n",
    "    'int':42,'float':3.14,'str':'hello','bool':True\n",
    "}\n",
    "for key, value in my_dict.items():\n",
    "    print(f\"{key}:{type(value)}\")\n"
   ]
  },
  {
   "cell_type": "code",
   "execution_count": 58,
   "id": "dccfacfe",
   "metadata": {},
   "outputs": [
    {
     "name": "stdout",
     "output_type": "stream",
     "text": [
      "3\n",
      "{'len': <built-in function len>, 'str': <class 'str'>, 'int': <class 'int'>}\n",
      "45\n"
     ]
    }
   ],
   "source": [
    "#Question 23: Create a dictionary with function values: {'len': len, 'str': str, 'int': int}\n",
    "my_dict= {\n",
    "\n",
    "    'len': len,'str': str,'int': int\n",
    "    \n",
    "}\n",
    "\n",
    "print(my_dict['len']([1, 2, 3]))  # Using len function\n",
    "print(my_dict )                   # Using str function\n",
    "print(my_dict['int'](\"45\"))       # Using int function\n"
   ]
  },
  {
   "cell_type": "code",
   "execution_count": 60,
   "id": "df3e7ea8",
   "metadata": {},
   "outputs": [
    {
     "name": "stdout",
     "output_type": "stream",
     "text": [
      "len('123')- 3\n",
      "str('123')- 123\n",
      "int('123')- 123\n"
     ]
    }
   ],
   "source": [
    "# Question 24: Apply each function to \"123\" using dictionary\n",
    "d={\n",
    "    'len': len,\n",
    "    'str': str,\n",
    "    'int': int\n",
    "}\n",
    "value='123'\n",
    "for name, func in d.items():\n",
    "    try:\n",
    "        result = func(value)\n",
    "        print(f\"{name}('{value}')- {result}\")\n",
    "    except Exception as e:\n",
    "        print(f\"{name}('{value}') - Error: {e}\")\n",
    "\n"
   ]
  },
  {
   "cell_type": "code",
   "execution_count": 64,
   "id": "d3eb730e",
   "metadata": {},
   "outputs": [
    {
     "name": "stdout",
     "output_type": "stream",
     "text": [
      "{'double': <function <lambda> at 0x000002667DCA23E0>, 'square': <function <lambda> at 0x000002667DCA2160>}\n"
     ]
    }
   ],
   "source": [
    "# Question 25: Create a dictionary with lambda functions: {'double': lambda x: x*2, 'square': lambda x: x**2}\n",
    "\n",
    "d={\n",
    "    'double': lambda x: x * 2,\n",
    "    'square': lambda x: x ** 2\n",
    "}\n",
    "print(d)\n"
   ]
  },
  {
   "cell_type": "code",
   "execution_count": 65,
   "id": "e15ae63a",
   "metadata": {},
   "outputs": [
    {
     "name": "stdout",
     "output_type": "stream",
     "text": [
      "double(5) - 10\n",
      "square(5) - 25\n"
     ]
    }
   ],
   "source": [
    "# Question 26: Apply each lambda function to 5\n",
    "d={\n",
    "    'double': lambda x: x * 2,\n",
    "    'square': lambda x: x ** 2\n",
    "}\n",
    "value=5\n",
    "for name, func in d.items():\n",
    "    result = func(value)\n",
    "    print(f\"{name}({value}) - {result}\")\n",
    "    "
   ]
  },
  {
   "cell_type": "code",
   "execution_count": 66,
   "id": "2e626cf7",
   "metadata": {},
   "outputs": [
    {
     "name": "stdout",
     "output_type": "stream",
     "text": [
      "{'list': <class 'list'>, 'dict': <class 'dict'>, 'set': <class 'set'>}\n"
     ]
    }
   ],
   "source": [
    "# Question 27: Create a dictionary with class values: {'list': list, 'dict': dict, 'set': set}\n",
    "my_classes = {\n",
    "    'list': list,\n",
    "    'dict': dict,\n",
    "    'set': set\n",
    "}\n",
    "\n",
    "print(my_classes)\n",
    "\n",
    "\n"
   ]
  },
  {
   "cell_type": "code",
   "execution_count": 69,
   "id": "51762743",
   "metadata": {},
   "outputs": [
    {
     "name": "stdout",
     "output_type": "stream",
     "text": [
      "[]\n",
      "{}\n",
      "set()\n"
     ]
    }
   ],
   "source": [
    "# Question 28: Create instances using class dictionary\n",
    "my_classes = {\n",
    "    'list': list,\n",
    "    'dict': dict,\n",
    "    'set': set\n",
    "}\n",
    "list_instance = my_classes['list']()\n",
    "dict_instance = my_classes['dict']()\n",
    "set_instance = my_classes['set']()\n",
    "print(list_instance)\n",
    "print(dict_instance)\n",
    "print(set_instance)\n",
    "\n",
    "\n"
   ]
  },
  {
   "cell_type": "code",
   "execution_count": null,
   "id": "bfde2eee",
   "metadata": {},
   "outputs": [
    {
     "name": "stdout",
     "output_type": "stream",
     "text": [
      "{'key': None}\n",
      "{'a': None, 'b': None, 'c': None}\n"
     ]
    }
   ],
   "source": [
    "# Question 29: Create a dictionary with None values: {'a': None, 'b': None, 'c': None}\n",
    "None_d={'key':None}\n",
    "print(None_d)\n",
    "None_d1= d.fromkeys(['a','b','c'])\n",
    "print(None_d1)\n"
   ]
  },
  {
   "cell_type": "code",
   "execution_count": 88,
   "id": "5ae23e77",
   "metadata": {},
   "outputs": [
    {
     "name": "stdout",
     "output_type": "stream",
     "text": [
      "{'a': 0, 'b': 0, 'c': 0}\n"
     ]
    }
   ],
   "source": [
    "# Question 30: Replace all None values with 0\n",
    "None_d1= d.fromkeys(['a','b','c'])\n",
    "none_dict={k:0 for k,v in None_d1.items()}\n",
    "print(none_dict)"
   ]
  },
  {
   "cell_type": "code",
   "execution_count": 89,
   "id": "e50fdd62",
   "metadata": {},
   "outputs": [
    {
     "name": "stdout",
     "output_type": "stream",
     "text": [
      "{'is_active': True, 'is_admin': False}\n"
     ]
    }
   ],
   "source": [
    "# Question 31: Create a dictionary with boolean values: {'is_active': True, 'is_admin': False}\n",
    "d={\n",
    "    'is_active': True, 'is_admin': False\n",
    "}\n",
    "print(d)\n"
   ]
  },
  {
   "cell_type": "code",
   "execution_count": 90,
   "id": "79efa2b3",
   "metadata": {},
   "outputs": [
    {
     "name": "stdout",
     "output_type": "stream",
     "text": [
      "1\n"
     ]
    }
   ],
   "source": [
    "# Question 32: Count True values in boolean dictionary\n",
    "\n",
    "count={\n",
    "    'is_active': True, \n",
    "    'is_admin': False\n",
    "    \n",
    "}\n",
    "true_count = sum(value for value in count.values())\n",
    "\n",
    "print(true_count)\n"
   ]
  },
  {
   "cell_type": "code",
   "execution_count": 91,
   "metadata": {},
   "outputs": [
    {
     "name": "stdout",
     "output_type": "stream",
     "text": [
      "{'z1': (3+4j), 'z2': (1+2j)}\n"
     ]
    }
   ],
   "source": [
    "# Question 33: Create a dictionary with complex numbers: {'z1': 3+4j, 'z2': 1+2j}\n",
    "d={\n",
    "    'z1': 3+4j, \n",
    "    'z2': 1+2j\n",
    "}\n",
    "print(d)"
   ]
  },
  {
   "cell_type": "code",
   "execution_count": 92,
   "id": "68475dac",
   "metadata": {},
   "outputs": [
    {
     "name": "stdout",
     "output_type": "stream",
     "text": [
      "{'z1': 5.0, 'z2': 2.23606797749979}\n"
     ]
    }
   ],
   "source": [
    "# Question 34: Find magnitude of each complex number\n",
    "\n",
    "com_num={\n",
    "    'z1': 3+4j, \n",
    "    'z2': 1+2j\n",
    "}\n",
    "magnitudes = {key: abs(value) for key, value in com_num.items()}\n",
    "\n",
    "print(magnitudes)\n",
    "\n"
   ]
  },
  {
   "cell_type": "code",
   "execution_count": 93,
   "id": "830a14ef",
   "metadata": {},
   "outputs": [
    {
     "name": "stdout",
     "output_type": "stream",
     "text": [
      "{'level1': {'level2': {'level3': {'level4': 'value'}}}}\n"
     ]
    }
   ],
   "source": [
    "# Question 35: Create a 4-level nested dictionary\n",
    "\n",
    "nested_dict = {'level1': {'level2': {'level3': {'level4': 'value'}}}}\n",
    "print(nested_dict)\n",
    "\n"
   ]
  },
  {
   "cell_type": "code",
   "execution_count": 94,
   "id": "955494f6",
   "metadata": {},
   "outputs": [
    {
     "name": "stdout",
     "output_type": "stream",
     "text": [
      "value\n"
     ]
    }
   ],
   "source": [
    "# Question 36: Access deepest value in 4-level nested dictionary\n",
    "nested_dict = {'level1': {'level2': {'level3': {'level4': 'value'}}}}\n",
    "print(nested_dict['level1']['level2']['level3']['level4'])"
   ]
  },
  {
   "cell_type": "code",
   "execution_count": 1,
   "id": "dbfdc4f1",
   "metadata": {},
   "outputs": [
    {
     "name": "stdout",
     "output_type": "stream",
     "text": [
      "[0, 1, 2]\n",
      "[0, 1, 2, 3, 4]\n"
     ]
    }
   ],
   "source": [
    "# Question 37: Create a dictionary with range values: {'r1': range(3), 'r2': range(5)}\n",
    "my_dict = {\n",
    "    'r1': range(3),\n",
    "    'r2': range(5)\n",
    "}\n",
    "print(list(my_dict['r1']))  \n",
    "print(list(my_dict['r2'])) \n"
   ]
  },
  {
   "cell_type": "code",
   "execution_count": 2,
   "id": "540acec9",
   "metadata": {},
   "outputs": [
    {
     "name": "stdout",
     "output_type": "stream",
     "text": [
      "{'r1': [0, 1, 2], 'r2': [0, 1, 2, 3, 4]}\n"
     ]
    }
   ],
   "source": [
    "# Question 38: Convert each range to list\n",
    "d = {\n",
    "    'r1': range(3),\n",
    "    'r2': range(5)\n",
    "}\n",
    "\n",
    "# Convert each range to list\n",
    "convert = {key: list(value) for key, value in d.items()}\n",
    "\n",
    "print(convert)"
   ]
  },
  {
   "cell_type": "code",
   "execution_count": 3,
   "id": "62cab6f4",
   "metadata": {},
   "outputs": [
    {
     "name": "stdout",
     "output_type": "stream",
     "text": [
      "{'gen1': <generator object <genexpr> at 0x00000227D2B79180>, 'gen2': <generator object <genexpr> at 0x00000227D2DBD220>}\n"
     ]
    }
   ],
   "source": [
    "# Question 39: Create a dictionary with generator values\n",
    "gen_values={\n",
    "     'gen1': (x for x in range(3)),\n",
    "    'gen2': (x**2 for x in range(4))\n",
    "}\n",
    "print(gen_values)\n"
   ]
  },
  {
   "cell_type": "code",
   "execution_count": 4,
   "id": "73df4624",
   "metadata": {},
   "outputs": [
    {
     "name": "stdout",
     "output_type": "stream",
     "text": [
      "[0, 1, 2]\n",
      "[0, 1, 4, 9]\n"
     ]
    }
   ],
   "source": [
    "# Question 40: Convert each generator to list\n",
    "gen_values={\n",
    "     'gen1': (x for x in range(3)),\n",
    "    'gen2': (x**2 for x in range(4))\n",
    "}\n",
    "print(list(gen_values['gen1']))\n",
    "print(list(gen_values['gen2']))\n"
   ]
  },
  {
   "cell_type": "code",
   "execution_count": 7,
   "id": "aba919b9",
   "metadata": {},
   "outputs": [
    {
     "name": "stdout",
     "output_type": "stream",
     "text": [
      "{'itr1': <list_iterator object at 0x00000227D2D91AB0>, 'itr2': <str_ascii_iterator object at 0x00000227D2D91600>}\n"
     ]
    }
   ],
   "source": [
    "# Question 41: Create a dictionary with iterator values\n",
    "\n",
    "itr_value={\n",
    "    'itr1':iter([1,2,3]),\n",
    "    'itr2':iter(\"ABC\")\n",
    "}\n",
    "print(itr_value)\n"
   ]
  },
  {
   "cell_type": "code",
   "execution_count": 8,
   "id": "440c4fe2",
   "metadata": {},
   "outputs": [
    {
     "name": "stdout",
     "output_type": "stream",
     "text": [
      "{'itr1': [1, 2, 3], 'itr2': ['A', 'B', 'C'], 'itr3': [0, 1, 2, 3]}\n"
     ]
    }
   ],
   "source": [
    "# Question 42: Extract all elements from each iterator\n",
    "itr_value={\n",
    "    'itr1':iter([1,2,3]),\n",
    "    'itr2':iter(\"ABC\"),\n",
    "    'itr3':iter(range(4))\n",
    "}\n",
    "extract = {key: list(value) for key, value in itr_value.items()}\n",
    "print(extract)"
   ]
  },
  {
   "cell_type": "code",
   "execution_count": 9,
   "id": "2d7e210b",
   "metadata": {},
   "outputs": [
    {
     "name": "stdout",
     "output_type": "stream",
     "text": [
      "{'matrix': [[1, 2], [3, 4]], 'vector': [5, 6, 7]}\n"
     ]
    }
   ],
   "source": [
    "# Question 43: Create a dictionary with nested lists: {'matrix': [[1, 2], [3, 4]], 'vector': [5, 6, 7]}\n",
    "Nested_list={\n",
    "    'matrix': [[1, 2], [3, 4]], \n",
    "    'vector': [5, 6, 7]\n",
    "}\n",
    "print(Nested_list)"
   ]
  },
  {
   "cell_type": "code",
   "execution_count": 10,
   "id": "7160a12e",
   "metadata": {},
   "outputs": [
    {
     "name": "stdout",
     "output_type": "stream",
     "text": [
      "{'matrix': [3, 7], 'vector': 18}\n"
     ]
    }
   ],
   "source": [
    "# Question 44: Find sum of each nested list\n",
    "my_dict = {\n",
    "    'matrix': [[1, 2], [3, 4]],\n",
    "    'vector': [5, 6, 7]\n",
    "}\n",
    "\n",
    "# Find sum of each nested list\n",
    "sums = {}\n",
    "for key, value in my_dict.items():\n",
    "    if all(isinstance(item, list) for item in value):  \n",
    "        # Case: list of lists (like 'matrix')\n",
    "        sums[key] = [sum(inner) for inner in value]\n",
    "    else:  \n",
    "        # Case: simple list (like 'vector')\n",
    "        sums[key] = sum(value)\n",
    "\n",
    "print(sums)\n",
    "\n"
   ]
  },
  {
   "cell_type": "code",
   "execution_count": 20,
   "metadata": {},
   "outputs": [
    {
     "name": "stdout",
     "output_type": "stream",
     "text": [
      "{'config': {'db': {'host': 'localhost', 'port': 5432}}}\n"
     ]
    }
   ],
   "source": [
    "# Question 45: Create a dictionary with nested dictionaries: {'config': {'db': {'host': 'localhost', 'port': 5432}}}\n",
    "nest_dict={\n",
    "    'config':{\n",
    "     'db':{\n",
    "      'host': 'localhost', 'port': 5432}}}\n",
    "print(nest_dict)\n"
   ]
  },
  {
   "cell_type": "code",
   "execution_count": 21,
   "id": "0b394669",
   "metadata": {},
   "outputs": [
    {
     "name": "stdout",
     "output_type": "stream",
     "text": [
      "5432\n"
     ]
    }
   ],
   "source": [
    "# Question 46: Access database port from nested configuration\n",
    "\n",
    "my_dict = {\n",
    "    'config': {\n",
    "        'db': {\n",
    "            'host': 'localhost',\n",
    "            'port': 5432}}}\n",
    "\n",
    "db_port = my_dict['config']['db']['port']\n",
    "\n",
    "print(db_port)\n"
   ]
  },
  {
   "cell_type": "code",
   "execution_count": 22,
   "id": "3cbd617d",
   "metadata": {},
   "outputs": [
    {
     "name": "stdout",
     "output_type": "stream",
     "text": [
      "{'points': ((1, 2), (3, 4)), 'rgb': ((255, 0, 0), (0, 255, 0))}\n"
     ]
    }
   ],
   "source": [
    "# Question 47: Create a dictionary with nested tuples: {'points': ((1, 2), (3, 4)), 'rgb': ((255, 0, 0), (0, 255, 0))}\n",
    "my_dict = {\n",
    "    'points': ((1, 2), (3, 4)),\n",
    "    'rgb': ((255, 0, 0), (0, 255, 0))\n",
    "}\n",
    "\n",
    "print(my_dict)\n",
    "\n"
   ]
  },
  {
   "cell_type": "code",
   "execution_count": 23,
   "id": "4807e75b",
   "metadata": {},
   "outputs": [
    {
     "name": "stdout",
     "output_type": "stream",
     "text": [
      "(1, 2)\n"
     ]
    }
   ],
   "source": [
    "# Question 48: Extract first point coordinates\n",
    "my_dict = {\n",
    "    'points': ((1, 2), (3, 4)),\n",
    "    'rgb': ((255, 0, 0), (0, 255, 0))\n",
    "}\n",
    "first_point = my_dict['points'][0]\n",
    "\n",
    "print(first_point)\n"
   ]
  },
  {
   "cell_type": "code",
   "execution_count": 24,
   "id": "237db97e",
   "metadata": {},
   "outputs": [
    {
     "name": "stdout",
     "output_type": "stream",
     "text": [
      "{'groups': {frozenset({1, 2, 3}), frozenset({4, 5, 6})}, 'categories': {frozenset({'b', 'a'}), frozenset({'c', 'd'})}}\n"
     ]
    }
   ],
   "source": [
    "# Question 49: Create a dictionary with nested sets: {'groups': {{1, 2, 3}, {4, 5, 6}}, 'categories': {{'a', 'b'}, {'c', 'd'}}}\n",
    "my_dict = {\n",
    "    'groups': {frozenset({1, 2, 3}), frozenset({4, 5, 6})},\n",
    "    'categories': {frozenset({'a', 'b'}), frozenset({'c', 'd'})}\n",
    "}\n",
    "\n",
    "print(my_dict)\n",
    "\n"
   ]
  },
  {
   "cell_type": "code",
   "execution_count": 25,
   "id": "6a72a814",
   "metadata": {},
   "outputs": [
    {
     "name": "stdout",
     "output_type": "stream",
     "text": [
      "{'groups': {1, 2, 3, 4, 5, 6}, 'categories': {'b', 'd', 'c', 'a'}}\n"
     ]
    }
   ],
   "source": [
    "# Question 50: Find union of all nested sets\n",
    "my_dict = {\n",
    "    'groups': {frozenset({1, 2, 3}), frozenset({4, 5, 6})},\n",
    "    'categories': {frozenset({'a', 'b'}), frozenset({'c', 'd'})}\n",
    "}\n",
    "union_result = {}\n",
    "for key, value in my_dict.items():\n",
    "    combined = set()\n",
    "    for s in value:\n",
    "        combined |= s  # union\n",
    "    union_result[key] = combined\n",
    "\n",
    "print(union_result)\n",
    "\n"
   ]
  },
  {
   "cell_type": "code",
   "execution_count": null,
   "id": "50a49959",
   "metadata": {},
   "outputs": [],
   "source": []
  },
  {
   "cell_type": "code",
   "execution_count": null,
   "id": "2ff3c019",
   "metadata": {},
   "outputs": [],
   "source": []
  },
  {
   "cell_type": "code",
   "execution_count": null,
   "id": "dfdc5bf5",
   "metadata": {},
   "outputs": [],
   "source": []
  },
  {
   "cell_type": "code",
   "execution_count": null,
   "id": "00eca7c7",
   "metadata": {},
   "outputs": [],
   "source": []
  },
  {
   "cell_type": "code",
   "execution_count": null,
   "id": "c7b65d33",
   "metadata": {},
   "outputs": [],
   "source": []
  },
  {
   "cell_type": "code",
   "execution_count": null,
   "id": "cf38d793",
   "metadata": {},
   "outputs": [],
   "source": []
  },
  {
   "cell_type": "code",
   "execution_count": null,
   "id": "0241113c",
   "metadata": {},
   "outputs": [],
   "source": []
  },
  {
   "cell_type": "code",
   "execution_count": null,
   "metadata": {},
   "outputs": [],
   "source": []
  },
  {
   "cell_type": "code",
   "execution_count": null,
   "metadata": {},
   "outputs": [],
   "source": []
  },
  {
   "cell_type": "code",
   "execution_count": null,
   "id": "c507c947",
   "metadata": {},
   "outputs": [],
   "source": []
  },
  {
   "cell_type": "code",
   "execution_count": null,
   "metadata": {},
   "outputs": [],
   "source": []
  },
  {
   "cell_type": "code",
   "execution_count": null,
   "metadata": {},
   "outputs": [],
   "source": []
  },
  {
   "cell_type": "code",
   "execution_count": null,
   "metadata": {},
   "outputs": [],
   "source": []
  },
  {
   "cell_type": "code",
   "execution_count": null,
   "metadata": {},
   "outputs": [],
   "source": []
  },
  {
   "cell_type": "code",
   "execution_count": null,
   "id": "35f224ed",
   "metadata": {},
   "outputs": [],
   "source": []
  },
  {
   "cell_type": "code",
   "execution_count": null,
   "id": "5b90cc16",
   "metadata": {},
   "outputs": [],
   "source": []
  },
  {
   "cell_type": "code",
   "execution_count": null,
   "id": "ce171922",
   "metadata": {},
   "outputs": [],
   "source": []
  },
  {
   "cell_type": "code",
   "execution_count": null,
   "id": "88f523e5",
   "metadata": {},
   "outputs": [],
   "source": []
  },
  {
   "cell_type": "code",
   "execution_count": null,
   "id": "eea784d9",
   "metadata": {},
   "outputs": [],
   "source": []
  },
  {
   "cell_type": "code",
   "execution_count": null,
   "metadata": {},
   "outputs": [],
   "source": []
  },
  {
   "cell_type": "code",
   "execution_count": null,
   "id": "ae18cbcd",
   "metadata": {},
   "outputs": [],
   "source": []
  },
  {
   "cell_type": "code",
   "execution_count": null,
   "id": "517b53f3",
   "metadata": {},
   "outputs": [],
   "source": []
  },
  {
   "cell_type": "code",
   "execution_count": null,
   "id": "ed90907c",
   "metadata": {},
   "outputs": [],
   "source": []
  },
  {
   "cell_type": "code",
   "execution_count": null,
   "id": "9987642d",
   "metadata": {},
   "outputs": [],
   "source": []
  },
  {
   "cell_type": "code",
   "execution_count": null,
   "id": "963b09e1",
   "metadata": {},
   "outputs": [],
   "source": []
  },
  {
   "cell_type": "code",
   "execution_count": null,
   "id": "163adae8",
   "metadata": {},
   "outputs": [],
   "source": []
  }
 ],
 "metadata": {
  "kernelspec": {
   "display_name": "Python 3",
   "language": "python",
   "name": "python3"
  },
  "language_info": {
   "codemirror_mode": {
    "name": "ipython",
    "version": 3
   },
   "file_extension": ".py",
   "mimetype": "text/x-python",
   "name": "python",
   "nbconvert_exporter": "python",
   "pygments_lexer": "ipython3",
   "version": "3.13.5"
  }
 },
 "nbformat": 4,
 "nbformat_minor": 5
}
