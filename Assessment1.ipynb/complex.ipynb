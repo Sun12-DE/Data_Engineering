{
 "cells": [
  {
   "cell_type": "code",
   "execution_count": 1,
   "id": "7a101817",
   "metadata": {},
   "outputs": [
    {
     "name": "stdout",
     "output_type": "stream",
     "text": [
      "(5+3j)\n",
      "(5+3j)\n"
     ]
    }
   ],
   "source": [
    "# Question 1: Create complex number 5 + 3j\n",
    "z=5+3j\n",
    "print(z)\n",
    "z1=complex(5,3)\n",
    "print(z1)\n",
    "\n"
   ]
  },
  {
   "cell_type": "code",
   "execution_count": 2,
   "id": "a6f509d9",
   "metadata": {},
   "outputs": [
    {
     "name": "stdout",
     "output_type": "stream",
     "text": [
      "(7+2j)\n",
      "7.0\n"
     ]
    }
   ],
   "source": [
    "# Question 2: Find the real part of complex number 7 - 2j\n",
    "\n",
    "cx1=complex(7,2)\n",
    "print(cx1)\n",
    "print(cx1.real)\n"
   ]
  },
  {
   "cell_type": "code",
   "execution_count": 3,
   "id": "c32ade59",
   "metadata": {},
   "outputs": [
    {
     "name": "stdout",
     "output_type": "stream",
     "text": [
      "(7+2j)\n",
      "7.0\n"
     ]
    }
   ],
   "source": [
    "# Question 3: Find the imaginary part of complex number 4 + 6j\n",
    "cx1=complex(7,2)\n",
    "print(cx1)\n",
    "print(cx1.real)\n",
    "\n",
    "\n"
   ]
  },
  {
   "cell_type": "code",
   "execution_count": 4,
   "id": "2b4c975c",
   "metadata": {},
   "outputs": [
    {
     "name": "stdout",
     "output_type": "stream",
     "text": [
      "(4+6j)\n"
     ]
    }
   ],
   "source": [
    "# Question 4: Add two complex numbers: (3 + 2j) and (1 + 4j)\n",
    "x=(3 + 2j)\n",
    "y=(1 + 4j)\n",
    "print(x+y)\n"
   ]
  },
  {
   "cell_type": "code",
   "execution_count": 7,
   "id": "1fe7ac44",
   "metadata": {},
   "outputs": [
    {
     "name": "stdout",
     "output_type": "stream",
     "text": [
      "(-4+7j)\n"
     ]
    }
   ],
   "source": [
    "# Question 5: Multiply two complex numbers: (2 + 3j) and (1 + 2j)\n",
    "x=(2 + 3j)\n",
    "y=(1 + 2j)\n",
    "z=x*y\n",
    "print(z)\n",
    "\n"
   ]
  },
  {
   "cell_type": "code",
   "execution_count": 8,
   "id": "6db43e8a",
   "metadata": {},
   "outputs": [
    {
     "name": "stdout",
     "output_type": "stream",
     "text": [
      "10.0\n"
     ]
    }
   ],
   "source": [
    "# Question 6: Find the magnitude of complex number 6 + 8j\n",
    "x=6+8j\n",
    "mag=abs(x)\n",
    "print(mag)\n",
    "\n"
   ]
  },
  {
   "cell_type": "code",
   "execution_count": 11,
   "id": "7ba0dece",
   "metadata": {},
   "outputs": [
    {
     "name": "stdout",
     "output_type": "stream",
     "text": [
      "(5+7j)\n"
     ]
    }
   ],
   "source": [
    "# Question 7: Find the conjugate of complex number 5 - 7j\n",
    "a= (5 - 7j)\n",
    "conj=a.conjugate()\n",
    "print(conj)\n",
    "\n",
    "\n"
   ]
  },
  {
   "cell_type": "code",
   "execution_count": 16,
   "id": "923c2f3d",
   "metadata": {},
   "outputs": [
    {
     "name": "stdout",
     "output_type": "stream",
     "text": [
      "(7+3j)\n"
     ]
    }
   ],
   "source": [
    "# Question 8: Subtract complex numbers: (10 + 5j) - (3 + 2j)\n",
    "a=(10+5j)\n",
    "b=(3+2j)\n",
    "print(a-b)\n",
    "\n"
   ]
  },
  {
   "cell_type": "code",
   "execution_count": 17,
   "id": "c29ead0d",
   "metadata": {},
   "outputs": [
    {
     "name": "stdout",
     "output_type": "stream",
     "text": [
      "(4.4+0.8j)\n"
     ]
    }
   ],
   "source": [
    "# Question 9: Divide complex numbers: (8 + 6j) / (2 + 1j)\n",
    "a=(8+6j)\n",
    "b=(2+1j)\n",
    "c=(a/b)\n",
    "print(c)\n"
   ]
  },
  {
   "cell_type": "code",
   "execution_count": 18,
   "id": "172f676f",
   "metadata": {},
   "outputs": [
    {
     "name": "stdout",
     "output_type": "stream",
     "text": [
      "0.7853981633974483\n"
     ]
    }
   ],
   "source": [
    "# Question 10: Find the phase angle of complex number 1 + 1j\n",
    "import cmath\n",
    "z = 1 + 1j\n",
    "phase_angle = cmath.phase(z)\n",
    "print(phase_angle)\n"
   ]
  },
  {
   "cell_type": "code",
   "execution_count": null,
   "id": "89deeab6",
   "metadata": {},
   "outputs": [],
   "source": []
  },
  {
   "cell_type": "code",
   "execution_count": null,
   "id": "47f2867e",
   "metadata": {},
   "outputs": [],
   "source": []
  },
  {
   "cell_type": "code",
   "execution_count": null,
   "id": "d926e174",
   "metadata": {},
   "outputs": [],
   "source": []
  },
  {
   "cell_type": "code",
   "execution_count": null,
   "id": "e344b9da",
   "metadata": {},
   "outputs": [],
   "source": []
  },
  {
   "cell_type": "code",
   "execution_count": null,
   "id": "9ac9aba8",
   "metadata": {},
   "outputs": [],
   "source": []
  },
  {
   "cell_type": "code",
   "execution_count": null,
   "id": "352e4e26",
   "metadata": {},
   "outputs": [],
   "source": []
  },
  {
   "cell_type": "code",
   "execution_count": null,
   "id": "11168499",
   "metadata": {},
   "outputs": [],
   "source": []
  },
  {
   "cell_type": "code",
   "execution_count": null,
   "id": "f7a8cf56",
   "metadata": {},
   "outputs": [],
   "source": []
  },
  {
   "cell_type": "code",
   "execution_count": null,
   "id": "21832094",
   "metadata": {},
   "outputs": [],
   "source": []
  },
  {
   "cell_type": "code",
   "execution_count": null,
   "id": "5adc42db",
   "metadata": {},
   "outputs": [],
   "source": []
  }
 ],
 "metadata": {
  "kernelspec": {
   "display_name": "Python 3",
   "language": "python",
   "name": "python3"
  },
  "language_info": {
   "codemirror_mode": {
    "name": "ipython",
    "version": 3
   },
   "file_extension": ".py",
   "mimetype": "text/x-python",
   "name": "python",
   "nbconvert_exporter": "python",
   "pygments_lexer": "ipython3",
   "version": "3.13.5"
  }
 },
 "nbformat": 4,
 "nbformat_minor": 5
}
