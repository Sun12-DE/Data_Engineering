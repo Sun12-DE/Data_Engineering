{
 "cells": [
  {
   "cell_type": "code",
   "execution_count": 3,
   "id": "ac65bca8",
   "metadata": {},
   "outputs": [],
   "source": [
    "import numpy as np"
   ]
  },
  {
   "cell_type": "code",
   "execution_count": 9,
   "id": "5f4e0c0a",
   "metadata": {},
   "outputs": [
    {
     "name": "stdout",
     "output_type": "stream",
     "text": [
      "[101 102 103 104 105 106 107 108 109 110]\n"
     ]
    }
   ],
   "source": [
    "import numpy as np\n",
    "banking_data=np.array([\n",
    "    [101,20000,775,25,10],\n",
    "    [102,25000,300,30,15],\n",
    "    [103,40000,400,15,20],\n",
    "    [104,400000,800,100,40],\n",
    "    [105,100000,900,50,21],\n",
    "    [106,90000,750,100,2],\n",
    "    [107,3000,301,100,5],\n",
    "    [108,1000,550,20,2],\n",
    "    [109,35000,600,30,10],\n",
    "    [110,80000,825,25,1]])\n",
    "\n",
    "customer_id=banking_data[:,0]\n",
    "print(customer_id)"
   ]
  },
  {
   "cell_type": "code",
   "execution_count": 4,
   "id": "84b807a2",
   "metadata": {},
   "outputs": [],
   "source": [
    "banking=np.array([\n",
    "    [101,20000,775,25,10],\n",
    "    [102,25000,300,30,15],\n",
    "    [103,40000,400,15,20],\n",
    "    [104,400000,800,100,40],\n",
    "    [105,100000,900,50,21],\n",
    "    [106,90000,750,100,2],\n",
    "    [107,3000,301,100,5],\n",
    "    [108,1000,550,20,2],\n",
    "    [109,35000,600,30,10],\n",
    "    [110,80000,825,25,1]\n",
    "])\n",
    "\n"
   ]
  },
  {
   "cell_type": "code",
   "execution_count": 5,
   "id": "84940c20",
   "metadata": {},
   "outputs": [
    {
     "name": "stdout",
     "output_type": "stream",
     "text": [
      "[[   101  20000    775     25     10]\n",
      " [   102  25000    300     30     15]\n",
      " [   103  40000    400     15     20]\n",
      " [   104 400000    800    100     40]\n",
      " [   105 100000    900     50     21]\n",
      " [   106  90000    750    100      2]\n",
      " [   107   3000    301    100      5]\n",
      " [   108   1000    550     20      2]\n",
      " [   109  35000    600     30     10]\n",
      " [   110  80000    825     25      1]]\n"
     ]
    }
   ],
   "source": [
    "\n",
    "\n",
    "\n",
    "\n",
    "#[Customer_Id,Accoubt_balance,credit_score,Transaction_count,Years_Active]\n",
    "\n",
    "banking=np.array([\n",
    "    [101,20000,775,25,10],\n",
    "    [102,25000,300,30,15],\n",
    "    [103,40000,400,15,20],\n",
    "    [104,400000,800,100,40],\n",
    "    [105,100000,900,50,21],\n",
    "    [106,90000,750,100,2],\n",
    "    [107,3000,301,100,5],\n",
    "    [108,1000,550,20,2],\n",
    "    [109,35000,600,30,10],\n",
    "    [110,80000,825,25,1]\n",
    "])\n",
    "print(banking)"
   ]
  },
  {
   "cell_type": "code",
   "execution_count": 6,
   "id": "94b4482b",
   "metadata": {},
   "outputs": [
    {
     "name": "stdout",
     "output_type": "stream",
     "text": [
      "[[1. 0. 0. 0.]\n",
      " [0. 1. 0. 0.]\n",
      " [0. 0. 1. 0.]\n",
      " [0. 0. 0. 1.]]\n"
     ]
    }
   ],
   "source": [
    "#Question 1: Array Creation and Manipulation\n",
    "#Q1.1: Create a 4x4 identity matrix using np.eye()\n",
    "banking=np.array([\n",
    "    [101,20000,775,25,10],\n",
    "    [102,25000,300,30,15],\n",
    "    [103,40000,400,15,20],\n",
    "    [104,400000,800,100,40],\n",
    "    [105,100000,900,50,21],\n",
    "    [106,90000,750,100,2],\n",
    "    [107,3000,301,100,5],\n",
    "    [108,1000,550,20,2],\n",
    "    [109,35000,600,30,10],\n",
    "    [110,80000,825,25,1]\n",
    "])\n",
    "identity_matrix=np.eye(4)\n",
    "print(identity_matrix)"
   ]
  },
  {
   "cell_type": "code",
   "execution_count": 166,
   "metadata": {},
   "outputs": [
    {
     "name": "stdout",
     "output_type": "stream",
     "text": [
      "[0. 0. 0. 0. 0. 0. 0. 0.]\n"
     ]
    }
   ],
   "source": [
    "#Q1.2: Create an array of 8 zeros using np.zeros()\n",
    "identity_matrix= np.zeros(8)\n",
    "print(identity_matrix)\n"
   ]
  },
  {
   "cell_type": "code",
   "execution_count": 167,
   "metadata": {},
   "outputs": [
    {
     "name": "stdout",
     "output_type": "stream",
     "text": [
      "[1. 1. 1. 1. 1. 1.]\n"
     ]
    }
   ],
   "source": [
    "#Q1.3: Create an array of 6 ones using np.ones()\n",
    "array=np.ones(6)\n",
    "print(array)\n"
   ]
  },
  {
   "cell_type": "code",
   "execution_count": 168,
   "metadata": {},
   "outputs": [
    {
     "name": "stdout",
     "output_type": "stream",
     "text": [
      "[ 0  1  2  3  4  5  6  7  8  9 10 11 12 13 14 15]\n"
     ]
    }
   ],
   "source": [
    "#Q1.4: Create an array with values from 0 to 15 using np.arange()\n",
    "range_array=np.arange(16)\n",
    "print(range_array)\n"
   ]
  },
  {
   "cell_type": "code",
   "execution_count": 169,
   "metadata": {},
   "outputs": [
    {
     "name": "stdout",
     "output_type": "stream",
     "text": [
      "[  0.          14.28571429  28.57142857  42.85714286  57.14285714\n",
      "  71.42857143  85.71428571 100.        ]\n"
     ]
    }
   ],
   "source": [
    "#Q1.5: Create an array with 8 evenly spaced values from 0 to 100 using np.linspace()\n",
    "linespace_array=np.linspace(0,100,8)\n",
    "print(linespace_array)"
   ]
  },
  {
   "cell_type": "code",
   "execution_count": null,
   "metadata": {},
   "outputs": [],
   "source": []
  },
  {
   "cell_type": "code",
   "execution_count": 7,
   "metadata": {},
   "outputs": [
    {
     "name": "stdout",
     "output_type": "stream",
     "text": [
      "(10, 5)\n"
     ]
    }
   ],
   "source": [
    "import numpy as np\n",
    "# QUESTION 2: ARRAY ATTRIBUTES AND INFORMATION\n",
    "#Q2.1: What is the shape of the banking_data array?\n",
    "banking_data=np.array([\n",
    " [101 , 20000 ,   775  ,   25 ,    10],\n",
    " [   102,  25000,   300,     30,     15],\n",
    " [   103 , 40000,   400,     15,     20],\n",
    " [   104, 400000,    800,    100,     40],\n",
    " [   105, 100000,    900,     50,    21],\n",
    " [   106, 90000,   750,    100,      2],\n",
    " [   107,   3000,    301,    100,      5],\n",
    " [   108,   1000,    550,     20,      2],\n",
    " [   109,  35000,    600 ,    30,     10],\n",
    " [   110,  80000 ,   825,     25,      1]\n",
    " ])\n",
    "print(banking_data.shape)\n",
    "\n"
   ]
  },
  {
   "cell_type": "code",
   "execution_count": 171,
   "metadata": {},
   "outputs": [
    {
     "name": "stdout",
     "output_type": "stream",
     "text": [
      "int64\n"
     ]
    }
   ],
   "source": [
    "#Q2.2: What is the data type of the banking_data array?\n",
    "banking_data=np.array([\n",
    "    [101,20000,775,25,10],\n",
    "    [102,25000,300,30,15],\n",
    "    [103,40000,400,15,20],\n",
    "    [104,400000,800,100,40],\n",
    "    [105,100000,900,50,21],\n",
    "    [106,90000,750,100,2],\n",
    "    [107,3000,301,100,5],\n",
    "    [108,1000,550,20,2],\n",
    "    [109,35000,600,30,10],\n",
    "    [110,80000,825,25,1]\n",
    "])\n",
    "print(banking_data.dtype)\n"
   ]
  },
  {
   "cell_type": "code",
   "execution_count": 172,
   "metadata": {},
   "outputs": [
    {
     "name": "stdout",
     "output_type": "stream",
     "text": [
      "50\n"
     ]
    }
   ],
   "source": [
    "#Q2.3: What is the size (total number of elements) of the banking_data array?\n",
    "banking_data_size=np.array([\n",
    "    [101,20000,775,25,10],\n",
    "    [102,25000,300,30,15],\n",
    "    [103,40000,400,15,20],\n",
    "    [104,400000,800,100,40],\n",
    "    [105,100000,900,50,21],\n",
    "    [106,90000,750,100,2],\n",
    "    [107,3000,301,100,5],\n",
    "    [108,1000,550,20,2],\n",
    "    [109,35000,600,30,10],\n",
    "    [110,80000,825,25,1]])\n",
    "print(banking_data_size.size)"
   ]
  },
  {
   "cell_type": "code",
   "execution_count": 173,
   "metadata": {},
   "outputs": [
    {
     "name": "stdout",
     "output_type": "stream",
     "text": [
      "2\n"
     ]
    }
   ],
   "source": [
    "#Q2.4: What is the number of dimensions of the banking_data array?\n",
    "banking_data=np.array([\n",
    "    [101,20000,775,25,10],\n",
    "    [102,25000,300,30,15],\n",
    "    [103,40000,400,15,20],\n",
    "    [104,400000,800,100,40],\n",
    "    [105,100000,900,50,21],\n",
    "    [106,90000,750,100,2],\n",
    "    [107,3000,301,100,5],\n",
    "    [108,1000,550,20,2],\n",
    "    [109,35000,600,30,10],\n",
    "    [110,80000,825,25,1]])\n",
    "print(banking_data.ndim)\n"
   ]
  },
  {
   "cell_type": "code",
   "execution_count": 174,
   "metadata": {},
   "outputs": [
    {
     "name": "stdout",
     "output_type": "stream",
     "text": [
      "400\n"
     ]
    }
   ],
   "source": [
    "#Q2.5: What is the memory size of the banking_data array in bytes?\n",
    "banking_data=np.array([\n",
    "    [101,20000,775,25,10],\n",
    "    [102,25000,300,30,15],\n",
    "    [103,40000,400,15,20],\n",
    "    [104,400000,800,100,40],\n",
    "    [105,100000,900,50,21],\n",
    "    [106,90000,750,100,2],\n",
    "    [107,3000,301,100,5],\n",
    "    [108,1000,550,20,2],\n",
    "    [109,35000,600,30,10],\n",
    "    [110,80000,825,25,1]])\n",
    "print(banking_data.nbytes)"
   ]
  },
  {
   "cell_type": "code",
   "execution_count": 175,
   "metadata": {},
   "outputs": [
    {
     "name": "stdout",
     "output_type": "stream",
     "text": [
      "[  101 20000   775    25    10]\n"
     ]
    }
   ],
   "source": [
    "# QUESTION 3: INDEXING AND SLICING\n",
    "\n",
    "#Q3.1: Extract the first row of banking_data\n",
    "banking_data=np.array([\n",
    "    [101,20000,775,25,10],\n",
    "    [102,25000,300,30,15],\n",
    "    [103,40000,400,15,20],\n",
    "    [104,400000,800,100,40],\n",
    "    [105,100000,900,50,21],\n",
    "    [106,90000,750,100,2],\n",
    "    [107,3000,301,100,5],\n",
    "    [108,1000,550,20,2],\n",
    "    [109,35000,600,30,10],\n",
    "    [110,80000,825,25,1]])\n",
    "first_row=banking_data[0]\n",
    "print(first_row)"
   ]
  },
  {
   "cell_type": "code",
   "execution_count": 176,
   "metadata": {},
   "outputs": [
    {
     "name": "stdout",
     "output_type": "stream",
     "text": [
      "[  110 80000   825    25     1]\n"
     ]
    }
   ],
   "source": [
    "#Q3.2: Extract the last row of banking_data\n",
    "banking_data=np.array([[101,20000,775,25,10],\n",
    "    [102,25000,300,30,15],\n",
    "    [103,40000,400,15,20],\n",
    "    [104,400000,800,100,40],\n",
    "    [105,100000,900,50,21],\n",
    "    [106,90000,750,100,2],\n",
    "    [107,3000,301,100,5],\n",
    "    [108,1000,550,20,2],\n",
    "    [109,35000,600,30,10],\n",
    "    [110,80000,825,25,1]])\n",
    "last_row=banking_data[-1]\n",
    "print(last_row)"
   ]
  },
  {
   "cell_type": "code",
   "execution_count": 177,
   "metadata": {},
   "outputs": [
    {
     "name": "stdout",
     "output_type": "stream",
     "text": [
      "[ 20000  25000  40000 400000 100000  90000   3000   1000  35000  80000]\n"
     ]
    }
   ],
   "source": [
    "#Q3.3: Extract the Account_Balance column (column index 1)\n",
    "banking_data=np.array([[101,20000,775,25,10],\n",
    "    [102,25000,300,30,15],\n",
    "    [103,40000,400,15,20],\n",
    "    [104,400000,800,100,40],\n",
    "    [105,100000,900,50,21],\n",
    "    [106,90000,750,100,2],\n",
    "    [107,3000,301,100,5],\n",
    "    [108,1000,550,20,2],\n",
    "    [109,35000,600,30,10],\n",
    "    [110,80000,825,25,1]])\n",
    "account_balance=banking_data[:,1]\n",
    "print(account_balance)\n"
   ]
  },
  {
   "cell_type": "code",
   "execution_count": 178,
   "metadata": {},
   "outputs": [
    {
     "name": "stdout",
     "output_type": "stream",
     "text": [
      "[[   101  20000    775]\n",
      " [   102  25000    300]\n",
      " [   103  40000    400]\n",
      " [   104 400000    800]]\n"
     ]
    }
   ],
   "source": [
    "#Q3.4: Extract the first 4 rows and first 3 columns\n",
    "banking_data=np.array([[101,20000,775,25,10],\n",
    "    [102,25000,300,30,15],\n",
    "    [103,40000,400,15,20],\n",
    "    [104,400000,800,100,40],\n",
    "    [105,100000,900,50,21],\n",
    "    [106,90000,750,100,2],\n",
    "    [107,3000,301,100,5],\n",
    "    [108,1000,550,20,2],\n",
    "    [109,35000,600,30,10],\n",
    "    [110,80000,825,25,1]])\n",
    "x=banking_data[:4,:3]\n",
    "print(x)"
   ]
  },
  {
   "cell_type": "code",
   "execution_count": 179,
   "metadata": {},
   "outputs": [
    {
     "name": "stdout",
     "output_type": "stream",
     "text": [
      "[[   104 400000    800    100     40]\n",
      " [   105 100000    900     50     21]\n",
      " [   106  90000    750    100      2]\n",
      " [   107   3000    301    100      5]\n",
      " [   108   1000    550     20      2]]\n"
     ]
    }
   ],
   "source": [
    "#Q3.5: Extract rows 3 to 7 (inclusive)\n",
    "banking_data=np.array([[101,20000,775,25,10],\n",
    "    [102,25000,300,30,15],\n",
    "    [103,40000,400,15,20],\n",
    "    [104,400000,800,100,40],\n",
    "    [105,100000,900,50,21],\n",
    "    [106,90000,750,100,2],\n",
    "    [107,3000,301,100,5],\n",
    "    [108,1000,550,20,2],\n",
    "    [109,35000,600,30,10],\n",
    "    [110,80000,825,25,1]])\n",
    "rows=banking_data[3:8]\n",
    "print(rows)\n"
   ]
  },
  {
   "cell_type": "code",
   "execution_count": 180,
   "metadata": {},
   "outputs": [
    {
     "name": "stdout",
     "output_type": "stream",
     "text": [
      "794000\n"
     ]
    }
   ],
   "source": [
    "#Question 4: Mathematical Operations\n",
    "#Q4.1: Calculate the sum of all account balances\n",
    "banking_data=np.array([[101,20000,775,25,10],\n",
    "    [102,25000,300,30,15],\n",
    "    [103,40000,400,15,20],\n",
    "    [104,400000,800,100,40],\n",
    "    [105,100000,900,50,21],\n",
    "    [106,90000,750,100,2],\n",
    "    [107,3000,301,100,5],\n",
    "    [108,1000,550,20,2],\n",
    "    [109,35000,600,30,10],\n",
    "    [110,80000,825,25,1]])\n",
    "sum=np.sum(banking_data[:,1])\n",
    "print(sum)"
   ]
  },
  {
   "cell_type": "code",
   "execution_count": 181,
   "metadata": {},
   "outputs": [
    {
     "name": "stdout",
     "output_type": "stream",
     "text": [
      "79400.0\n"
     ]
    }
   ],
   "source": [
    "#Q4.2: Calculate the mean account balance\n",
    "banking_data=np.array([[101,20000,775,25,10],\n",
    "    [102,25000,300,30,15],\n",
    "    [103,40000,400,15,20],\n",
    "    [104,400000,800,100,40],\n",
    "    [105,100000,900,50,21],\n",
    "    [106,90000,750,100,2],\n",
    "    [107,3000,301,100,5],\n",
    "    [108,1000,550,20,2],\n",
    "    [109,35000,600,30,10],\n",
    "    [110,80000,825,25,1]])\n",
    "mean=np.mean(banking_data[:,1])\n",
    "print(mean)"
   ]
  },
  {
   "cell_type": "code",
   "execution_count": 182,
   "metadata": {},
   "outputs": [
    {
     "name": "stdout",
     "output_type": "stream",
     "text": [
      "111944.80782957288\n"
     ]
    }
   ],
   "source": [
    "#Q4.3: Calculate the standard deviation of account balances\n",
    "banking_data=np.array([[101,20000,775,25,10],\n",
    "    [102,25000,300,30,15],\n",
    "    [103,40000,400,15,20],\n",
    "    [104,400000,800,100,40],\n",
    "    [105,100000,900,50,21],\n",
    "    [106,90000,750,100,2],\n",
    "    [107,3000,301,100,5],\n",
    "    [108,1000,550,20,2],\n",
    "    [109,35000,600,30,10],\n",
    "    [110,80000,825,25,1]])\n",
    "std_dev=np.std(banking_data[:,1])\n",
    "print(std_dev)"
   ]
  },
  {
   "cell_type": "code",
   "execution_count": 183,
   "metadata": {},
   "outputs": [
    {
     "name": "stdout",
     "output_type": "stream",
     "text": [
      "variance account price of banking account: 12531640000.0\n"
     ]
    }
   ],
   "source": [
    "#Q4.4: Calculate the variance of account balances\n",
    "banking_data=np.array([[101,20000,775,25,10],\n",
    "    [102,25000,300,30,15],\n",
    "    [103,40000,400,15,20],\n",
    "    [104,400000,800,100,40],\n",
    "    [105,100000,900,50,21],\n",
    "    [106,90000,750,100,2],\n",
    "    [107,3000,301,100,5],\n",
    "    [108,1000,550,20,2],\n",
    "    [109,35000,600,30,10],\n",
    "    [110,80000,825,25,1]])\n",
    "variance_account_price=np.var(banking_data[:,1])\n",
    "print(f\"variance account price of banking account:\",variance_account_price)"
   ]
  },
  {
   "cell_type": "code",
   "execution_count": 184,
   "metadata": {},
   "outputs": [
    {
     "name": "stdout",
     "output_type": "stream",
     "text": [
      "37500.0\n"
     ]
    }
   ],
   "source": [
    "#Q4.5: Calculate the median account balance\n",
    "banking_data=np.array([[101,20000,775,25,10],\n",
    "    [102,25000,300,30,15],\n",
    "    [103,40000,400,15,20],\n",
    "    [104,400000,800,100,40],\n",
    "    [105,100000,900,50,21],\n",
    "    [106,90000,750,100,2],\n",
    "    [107,3000,301,100,5],\n",
    "    [108,1000,550,20,2],\n",
    "    [109,35000,600,30,10],\n",
    "    [110,80000,825,25,1]])\n",
    "\n",
    "median_price=np.median(banking_data[:,1])\n",
    "print(median_price)"
   ]
  },
  {
   "cell_type": "code",
   "execution_count": 185,
   "metadata": {},
   "outputs": [
    {
     "name": "stdout",
     "output_type": "stream",
     "text": [
      "1000\n",
      "400000\n"
     ]
    }
   ],
   "source": [
    "#Question 5: Statistical Functions\n",
    "#Q5.1: Find the minimum and maximum account balances\n",
    "banking_data=np.array([[101,20000,775,25,10],\n",
    "    [102,25000,300,30,15],\n",
    "    [103,40000,400,15,20],\n",
    "    [104,400000,800,100,40],\n",
    "    [105,100000,900,50,21],\n",
    "    [106,90000,750,100,2],\n",
    "    [107,3000,301,100,5],\n",
    "    [108,1000,550,20,2],\n",
    "    [109,35000,600,30,10],\n",
    "    [110,80000,825,25,1]])\n",
    "min_account_price=np.min(banking_data[:,1])\n",
    "max_account_price=np.max(banking_data[:,1])\n",
    "print(min_account_price)\n",
    "print(max_account_price)"
   ]
  },
  {
   "cell_type": "code",
   "execution_count": 186,
   "metadata": {},
   "outputs": [
    {
     "name": "stdout",
     "output_type": "stream",
     "text": [
      "300\n",
      "900\n"
     ]
    }
   ],
   "source": [
    "#Q5.2: Find the minimum and maximum credit scores\n",
    "banking_data=np.array([[101,20000,775,25,10],\n",
    "    [102,25000,300,30,15],\n",
    "    [103,40000,400,15,20],\n",
    "    [104,400000,800,100,40],\n",
    "    [105,100000,900,50,21],\n",
    "    [106,90000,750,100,2],\n",
    "    [107,3000,301,100,5],\n",
    "    [108,1000,550,20,2],\n",
    "    [109,35000,600,30,10],\n",
    "    [110,80000,825,25,1]])\n",
    "min_credit_score=np.min(banking_data[:,2])\n",
    "max_credit_score=np.max(banking_data[:,2])\n",
    "print(min_credit_score)\n",
    "print(max_credit_score)\n"
   ]
  },
  {
   "cell_type": "code",
   "execution_count": 10,
   "metadata": {},
   "outputs": [
    {
     "name": "stdout",
     "output_type": "stream",
     "text": [
      "25% percentile account balance: 21250.0\n",
      "50% percentile account balance: 37500.0\n",
      "75% percentile account balance: 87500.0\n"
     ]
    }
   ],
   "source": [
    "#Q5.3: Calculate the percentile values for account balances (25th, 50th, 75th)\n",
    "banking_data=np.array([[101,20000,775,25,10],\n",
    "    [102,25000,300,30,15],\n",
    "    [103,40000,400,15,20],\n",
    "    [104,400000,800,100,40],\n",
    "    [105,100000,900,50,21],\n",
    "    [106,90000,750,100,2],\n",
    "    [107,3000,301,100,5],\n",
    "    [108,1000,550,20,2],\n",
    "    [109,35000,600,30,10],\n",
    "    [110,80000,825,25,1]])\n",
    "percentile_account_bal=np.percentile(banking_data[:,1],[25,50,75])\n",
    "print(\"25% percentile account balance:\",percentile_account_bal[0])\n",
    "print(\"50% percentile account balance:\",percentile_account_bal[1])\n",
    "print(\"75% percentile account balance:\",percentile_account_bal[2])"
   ]
  },
  {
   "cell_type": "code",
   "execution_count": 188,
   "metadata": {},
   "outputs": [
    {
     "name": "stdout",
     "output_type": "stream",
     "text": [
      "correlation of account balance and credit score: 0.4732902330794412\n"
     ]
    }
   ],
   "source": [
    "#Q5.4: Calculate the correlation between account balance and credit score\n",
    "banking_data=np.array([[101,20000,775,25,10],\n",
    "    [102,25000,300,30,15],\n",
    "    [103,40000,400,15,20],\n",
    "    [104,400000,800,100,40],\n",
    "    [105,100000,900,50,21],\n",
    "    [106,90000,750,100,2],\n",
    "    [107,3000,301,100,5],\n",
    "    [108,1000,550,20,2],\n",
    "    [109,35000,600,30,10],\n",
    "    [110,80000,825,25,1]])\n",
    "correlation=np.corrcoef(banking_data[:,1],banking_data[:,2])[0,1]\n",
    "print(\"correlation of account balance and credit score:\", correlation)\n"
   ]
  },
  {
   "cell_type": "code",
   "execution_count": 189,
   "metadata": {},
   "outputs": [
    {
     "name": "stdout",
     "output_type": "stream",
     "text": [
      "covariance of account balance and credit score are: 12510400.0\n"
     ]
    }
   ],
   "source": [
    "#Q5.5: Calculate the covariance between account balance and credit score\n",
    "banking_data=np.array([[101,20000,775,25,10],\n",
    "    [102,25000,300,30,15],\n",
    "    [103,40000,400,15,20],\n",
    "    [104,400000,800,100,40],\n",
    "    [105,100000,900,50,21],\n",
    "    [106,90000,750,100,2],\n",
    "    [107,3000,301,100,5],\n",
    "    [108,1000,550,20,2],\n",
    "    [109,35000,600,30,10],\n",
    "    [110,80000,825,25,1]])\n",
    "\n",
    "covariance=np.cov(banking_data[:,1],banking_data[:,2])[0,1]\n",
    "print(\"covariance of account balance and credit score are:\", covariance )"
   ]
  },
  {
   "cell_type": "code",
   "execution_count": 190,
   "metadata": {},
   "outputs": [
    {
     "name": "stdout",
     "output_type": "stream",
     "text": [
      "[[   101  20000    775     25     10    102  25000    300     30     15]\n",
      " [   103  40000    400     15     20    104 400000    800    100     40]\n",
      " [   105 100000    900     50     21    106  90000    750    100      2]\n",
      " [   107   3000    301    100      5    108   1000    550     20      2]\n",
      " [   109  35000    600     30     10    110  80000    825     25      1]]\n"
     ]
    }
   ],
   "source": [
    "#Question 6: Array Reshaping and Manipulation\n",
    "#Q6.1: Reshape the banking_data to 5 rows × 10 columns\n",
    "banking_data=np.array([[101,20000,775,25,10],\n",
    "    [102,25000,300,30,15],\n",
    "    [103,40000,400,15,20],\n",
    "    [104,400000,800,100,40],\n",
    "    [105,100000,900,50,21],\n",
    "    [106,90000,750,100,2],\n",
    "    [107,3000,301,100,5],\n",
    "    [108,1000,550,20,2],\n",
    "    [109,35000,600,30,10],\n",
    "    [110,80000,825,25,1]])\n",
    "reshape=banking_data.reshape(5,10)\n",
    "print(reshape)"
   ]
  },
  {
   "cell_type": "code",
   "execution_count": 191,
   "metadata": {},
   "outputs": [
    {
     "name": "stdout",
     "output_type": "stream",
     "text": [
      "[   101  20000    775     25     10    102  25000    300     30     15\n",
      "    103  40000    400     15     20    104 400000    800    100     40\n",
      "    105 100000    900     50     21    106  90000    750    100      2\n",
      "    107   3000    301    100      5    108   1000    550     20      2\n",
      "    109  35000    600     30     10    110  80000    825     25      1]\n"
     ]
    }
   ],
   "source": [
    "#Q6.2: Flatten the banking_data to a 1D array\n",
    "banking_data=np.array([[101,20000,775,25,10],\n",
    "    [102,25000,300,30,15],\n",
    "    [103,40000,400,15,20],\n",
    "    [104,400000,800,100,40],\n",
    "    [105,100000,900,50,21],\n",
    "    [106,90000,750,100,2],\n",
    "    [107,3000,301,100,5],\n",
    "    [108,1000,550,20,2],\n",
    "    [109,35000,600,30,10],\n",
    "    [110,80000,825,25,1]])\n",
    "flat=banking_data.flatten()\n",
    "print(flat)\n"
   ]
  },
  {
   "cell_type": "code",
   "execution_count": 192,
   "metadata": {},
   "outputs": [
    {
     "name": "stdout",
     "output_type": "stream",
     "text": [
      "[[   101    102    103    104    105    106    107    108    109    110]\n",
      " [ 20000  25000  40000 400000 100000  90000   3000   1000  35000  80000]\n",
      " [   775    300    400    800    900    750    301    550    600    825]\n",
      " [    25     30     15    100     50    100    100     20     30     25]\n",
      " [    10     15     20     40     21      2      5      2     10      1]]\n"
     ]
    }
   ],
   "source": [
    "#Q6.3: Transpose the banking_data\n",
    "banking_data=np.array([[101,20000,775,25,10],\n",
    "    [102,25000,300,30,15],\n",
    "    [103,40000,400,15,20],\n",
    "    [104,400000,800,100,40],\n",
    "    [105,100000,900,50,21],\n",
    "    [106,90000,750,100,2],\n",
    "    [107,3000,301,100,5],\n",
    "    [108,1000,550,20,2],\n",
    "    [109,35000,600,30,10],\n",
    "    [110,80000,825,25,1]])\n",
    "transpose=banking_data.T\n",
    "print(transpose)"
   ]
  },
  {
   "cell_type": "code",
   "execution_count": 193,
   "id": "b5487965",
   "metadata": {},
   "outputs": [
    {
     "name": "stdout",
     "output_type": "stream",
     "text": [
      "1st part\n",
      "[[   101  20000    775     25     10]\n",
      " [   102  25000    300     30     15]\n",
      " [   103  40000    400     15     20]\n",
      " [   104 400000    800    100     40]\n",
      " [   105 100000    900     50     21]]\n",
      "2nd part\n",
      "[[  106 90000   750   100     2]\n",
      " [  107  3000   301   100     5]\n",
      " [  108  1000   550    20     2]\n",
      " [  109 35000   600    30    10]\n",
      " [  110 80000   825    25     1]]\n"
     ]
    }
   ],
   "source": [
    "#Q6.4: Split the banking_data into 2 equal parts vertically\n",
    "banking_data=np.array([[101,20000,775,25,10],\n",
    "    [102,25000,300,30,15],\n",
    "    [103,40000,400,15,20],\n",
    "    [104,400000,800,100,40],\n",
    "    [105,100000,900,50,21],\n",
    "    [106,90000,750,100,2],\n",
    "    [107,3000,301,100,5],\n",
    "    [108,1000,550,20,2],\n",
    "    [109,35000,600,30,10],\n",
    "    [110,80000,825,25,1]])\n",
    "\n",
    "split_bankingdata=np.vsplit(banking_data,2)\n",
    "print(\"1st part\")\n",
    "print(split_bankingdata[0])\n",
    "print(\"2nd part\")\n",
    "print(split_bankingdata[1])\n"
   ]
  },
  {
   "cell_type": "code",
   "execution_count": 194,
   "metadata": {},
   "outputs": [
    {
     "name": "stdout",
     "output_type": "stream",
     "text": [
      "1st part\n",
      "[[101]\n",
      " [102]\n",
      " [103]\n",
      " [104]\n",
      " [105]\n",
      " [106]\n",
      " [107]\n",
      " [108]\n",
      " [109]\n",
      " [110]]\n",
      "2nd part\n",
      "[[ 20000]\n",
      " [ 25000]\n",
      " [ 40000]\n",
      " [400000]\n",
      " [100000]\n",
      " [ 90000]\n",
      " [  3000]\n",
      " [  1000]\n",
      " [ 35000]\n",
      " [ 80000]]\n"
     ]
    }
   ],
   "source": [
    "#Q6.5: Split the banking_data into 2 equal parts horizontally\n",
    "banking_data=np.array([[101,20000,775,25,10],\n",
    "    [102,25000,300,30,15],\n",
    "    [103,40000,400,15,20],\n",
    "    [104,400000,800,100,40],\n",
    "    [105,100000,900,50,21],\n",
    "    [106,90000,750,100,2],\n",
    "    [107,3000,301,100,5],\n",
    "    [108,1000,550,20,2],\n",
    "    [109,35000,600,30,10],\n",
    "    [110,80000,825,25,1]])\n",
    "\n",
    "split_horizontally=np.hsplit(banking_data,5)\n",
    "print(\"1st part\")\n",
    "print(split_horizontally[0])\n",
    "print(\"2nd part\")\n",
    "print(split_horizontally[1])"
   ]
  },
  {
   "cell_type": "code",
   "execution_count": 195,
   "metadata": {},
   "outputs": [
    {
     "name": "stdout",
     "output_type": "stream",
     "text": [
      "Total account balance more then $100000 are: [[   104 400000    800    100     40]\n",
      " [   105 100000    900     50     21]]\n"
     ]
    }
   ],
   "source": [
    "#Question 7: Logical Operations and Filtering\n",
    "#Q7.1: Find customers with account balance greater than $100,000\n",
    "banking_data=np.array([[101,20000,775,25,10],\n",
    "    [102,25000,300,30,15],\n",
    "    [103,40000,400,15,20],\n",
    "    [104,400000,800,100,40],\n",
    "    [105,100000,900,50,21],\n",
    "    [106,90000,750,100,2],\n",
    "    [107,3000,301,100,5],\n",
    "    [108,1000,550,20,2],\n",
    "    [109,35000,600,30,10],\n",
    "    [110,80000,825,25,1]])\n",
    "\n",
    "acc_bal=banking_data[banking_data[:,1]>=100000]\n",
    "print(\"Total account balance more then $100000 are:\", acc_bal)"
   ]
  },
  {
   "cell_type": "code",
   "execution_count": 196,
   "metadata": {},
   "outputs": [
    {
     "name": "stdout",
     "output_type": "stream",
     "text": [
      "[[   104 400000    800    100     40]\n",
      " [   105 100000    900     50     21]\n",
      " [   110  80000    825     25      1]]\n"
     ]
    }
   ],
   "source": [
    "#Q7.2: Find customers with credit score greater than 800\n",
    "banking_data=np.array([[101,20000,775,25,10],\n",
    "    [102,25000,300,30,15],\n",
    "    [103,40000,400,15,20],\n",
    "    [104,400000,800,100,40],\n",
    "    [105,100000,900,50,21],\n",
    "    [106,90000,750,100,2],\n",
    "    [107,3000,301,100,5],\n",
    "    [108,1000,550,20,2],\n",
    "    [109,35000,600,30,10],\n",
    "    [110,80000,825,25,1]])\n",
    "credit_score=banking_data[banking_data[:,2]>=800]\n",
    "print(credit_score)"
   ]
  },
  {
   "cell_type": "code",
   "execution_count": 197,
   "metadata": {},
   "outputs": [
    {
     "name": "stdout",
     "output_type": "stream",
     "text": [
      "Transaction more then  50 are: [[   104 400000    800    100     40]\n",
      " [   106  90000    750    100      2]\n",
      " [   107   3000    301    100      5]]\n",
      "credit score less then 750 are: [[  102 25000   300    30    15]\n",
      " [  103 40000   400    15    20]\n",
      " [  107  3000   301   100     5]\n",
      " [  108  1000   550    20     2]\n",
      " [  109 35000   600    30    10]]\n"
     ]
    }
   ],
   "source": [
    "#Q7.3: Find customers with transaction count greater than 50 AND credit score less than 750\n",
    "banking_data=np.array([[101,20000,775,25,10],\n",
    "    [102,25000,300,30,15],\n",
    "    [103,40000,400,15,20],\n",
    "    [104,400000,800,100,40],\n",
    "    [105,100000,900,50,21],\n",
    "    [106,90000,750,100,2],\n",
    "    [107,3000,301,100,5],\n",
    "    [108,1000,550,20,2],\n",
    "    [109,35000,600,30,10],\n",
    "    [110,80000,825,25,1]])\n",
    "Transaction=banking_data[banking_data[:,3]>50]\n",
    "credit_score=banking_data[banking_data[:,2]<750]\n",
    "print(\"Transaction more then  50 are:\", Transaction)\n",
    "print(\"credit score less then 750 are:\", credit_score)"
   ]
  },
  {
   "cell_type": "code",
   "execution_count": 198,
   "metadata": {},
   "outputs": [
    {
     "name": "stdout",
     "output_type": "stream",
     "text": [
      "customers have account balance between 10000 to 1000000 are: 1\n"
     ]
    }
   ],
   "source": [
    "#Q7.4: Count how many customers have account balance between $10,000 and $100,000\n",
    "banking_data=np.array([[101,20000,775,25,10],\n",
    "    [102,25000,300,30,15],\n",
    "    [103,40000,400,15,20],\n",
    "    [104,400000,800,100,40],\n",
    "    [105,100000,900,50,21],\n",
    "    [106,90000,750,100,2],\n",
    "    [107,3000,301,100,5],\n",
    "    [108,1000,550,20,2],\n",
    "    [109,35000,600,30,10],\n",
    "    [110,80000,825,25,1]])\n",
    "count=0\n",
    "for row in banking_data:\n",
    "    balance=row[1]\n",
    "if 10000<= balance <=100000:\n",
    "    count += 1\n",
    "    print(\"customers have account balance between 10000 to 1000000 are:\",count)"
   ]
  },
  {
   "cell_type": "code",
   "execution_count": 199,
   "metadata": {},
   "outputs": [
    {
     "name": "stdout",
     "output_type": "stream",
     "text": [
      "customer with high credit score is: 4\n",
      "customer id is: 105\n"
     ]
    }
   ],
   "source": [
    "#Q7.5: Find the index of the customer with the highest credit score\n",
    "banking_data=np.array([[101,20000,775,25,10],\n",
    "    [102,25000,300,30,15],\n",
    "    [103,40000,400,15,20],\n",
    "    [104,400000,800,100,40],\n",
    "    [105,100000,900,50,21],\n",
    "    [106,90000,750,100,2],\n",
    "    [107,3000,301,100,5],\n",
    "    [108,1000,550,20,2],\n",
    "    [109,35000,600,30,10],\n",
    "    [110,80000,825,25,1]])\n",
    "\n",
    "customer_index=np.argmax(banking_data[:,2])\n",
    "print(\"customer with high credit score is:\", customer_index)\n",
    "print(\"customer id is:\", banking_data[customer_index,0])"
   ]
  },
  {
   "cell_type": "code",
   "execution_count": 200,
   "metadata": {},
   "outputs": [
    {
     "name": "stdout",
     "output_type": "stream",
     "text": [
      "[[   108   1000    550     20      2]\n",
      " [   107   3000    301    100      5]\n",
      " [   101  20000    775     25     10]\n",
      " [   102  25000    300     30     15]\n",
      " [   109  35000    600     30     10]\n",
      " [   103  40000    400     15     20]\n",
      " [   110  80000    825     25      1]\n",
      " [   106  90000    750    100      2]\n",
      " [   105 100000    900     50     21]\n",
      " [   104 400000    800    100     40]]\n"
     ]
    }
   ],
   "source": [
    "#Question 8: Sorting and Searching\n",
    "#Q8.1: Sort the banking_data by account balance (ascending)\n",
    "banking_data=np.array([[101,20000,775,25,10],\n",
    "    [102,25000,300,30,15],\n",
    "    [103,40000,400,15,20],\n",
    "    [104,400000,800,100,40],\n",
    "    [105,100000,900,50,21],\n",
    "    [106,90000,750,100,2],\n",
    "    [107,3000,301,100,5],\n",
    "    [108,1000,550,20,2],\n",
    "    [109,35000,600,30,10],\n",
    "    [110,80000,825,25,1]])\n",
    "sorting=banking_data[banking_data[:,1].argsort()]\n",
    "print(sorting)\n"
   ]
  },
  {
   "cell_type": "code",
   "execution_count": 201,
   "metadata": {},
   "outputs": [
    {
     "name": "stdout",
     "output_type": "stream",
     "text": [
      "[[   103  40000    400     15     20]\n",
      " [   108   1000    550     20      2]\n",
      " [   101  20000    775     25     10]\n",
      " [   110  80000    825     25      1]\n",
      " [   109  35000    600     30     10]\n",
      " [   102  25000    300     30     15]\n",
      " [   105 100000    900     50     21]\n",
      " [   106  90000    750    100      2]\n",
      " [   104 400000    800    100     40]\n",
      " [   107   3000    301    100      5]]\n"
     ]
    }
   ],
   "source": [
    "#Q8.2: Sort the banking_data by credit score (descending)\n",
    "from bank_data import banking_data\n",
    "descending=banking_data[banking_data[:,3].argsort()]\n",
    "print(descending)\n",
    "\n",
    "\n",
    "\n"
   ]
  },
  {
   "cell_type": "code",
   "execution_count": 202,
   "id": "7ee9d456",
   "metadata": {},
   "outputs": [
    {
     "name": "stdout",
     "output_type": "stream",
     "text": [
      "The indices that would sort the array by years active are: [4 1 2 5 6 3 0 9 8 7]\n"
     ]
    }
   ],
   "source": [
    "\n",
    "#Q8.3: Find the indices that would sort the array by years active\n",
    "from bank_data import banking_data\n",
    "indices=np.argsort(banking_data[:,4])\n",
    "print(\"The indices that would sort the array by years active are:\", indices )"
   ]
  },
  {
   "cell_type": "code",
   "execution_count": 203,
   "metadata": {},
   "outputs": [
    {
     "name": "stdout",
     "output_type": "stream",
     "text": [
      "8\n",
      "[   105 100000    900     50     21]\n"
     ]
    }
   ],
   "source": [
    "#Q8.4: Find the customer with the second highest account balance\n",
    "from bank_data import banking_data\n",
    "account_balance=np.argsort(banking_data[:,1])[-2]\n",
    "customer=banking_data[account_balance]\n",
    "print(account_balance)\n",
    "print(customer)"
   ]
  },
  {
   "cell_type": "code",
   "execution_count": 204,
   "metadata": {},
   "outputs": [
    {
     "name": "stdout",
     "output_type": "stream",
     "text": [
      "Lowest account balance is: 0\n",
      "customer data is: [  102 25000   300    30    15]\n"
     ]
    }
   ],
   "source": [
    "# Q8.5: Find the customer with the lowest transaction count\n",
    "from bank_data import banking_data\n",
    "lowest_balance=np.argmin(banking_data[:,2])\n",
    "customer=banking_data[lowest_balance]\n",
    "print(\"Lowest account balance is:\",lowest_balance)\n",
    "print(\"customer data is:\", customer)"
   ]
  },
  {
   "cell_type": "code",
   "execution_count": 205,
   "metadata": {},
   "outputs": [
    {
     "name": "stdout",
     "output_type": "stream",
     "text": [
      "[[   102  25000    300     30     15]\n",
      " [   106  90000    750    100      2]\n",
      " [   108   1000    550     20      2]\n",
      " [   109  35000    600     30     10]\n",
      " [   110  80000    825     25      1]\n",
      " [   107   3000    301    100      5]\n",
      " [   101  20000    775     25     10]\n",
      " [   104 400000    800    100     40]\n",
      " [   105 100000    900     50     21]\n",
      " [   103  40000    400     15     20]]\n"
     ]
    }
   ],
   "source": [
    "#Question 9: Mathematical Functions\n",
    "#Q9.1: Calculate the absolute values of all elements\n",
    "from bank_data import banking_data\n",
    "print(np.abs(banking_data))\n"
   ]
  },
  {
   "cell_type": "code",
   "execution_count": 206,
   "metadata": {},
   "outputs": [
    {
     "name": "stdout",
     "output_type": "stream",
     "text": [
      "[158.11388301 300.          31.6227766  187.08286934 282.84271247\n",
      "  54.77225575 141.42135624 632.45553203 316.22776602 200.        ]\n"
     ]
    }
   ],
   "source": [
    "#Q9.2: Calculate the square root of all account balances\n",
    "from bank_data import banking_data\n",
    "print(np.sqrt(banking_data[:,1]))\n"
   ]
  },
  {
   "cell_type": "code",
   "execution_count": 207,
   "metadata": {},
   "outputs": [
    {
     "name": "stdout",
     "output_type": "stream",
     "text": [
      "[ 90000 562500 302500 360000 680625  90601 600625 640000 810000 160000]\n"
     ]
    }
   ],
   "source": [
    "#Q9.3: Calculate the square of all credit scores\n",
    "from bank_data import banking_data\n",
    "print(np.square(banking_data[:,2]))\n"
   ]
  },
  {
   "cell_type": "code",
   "execution_count": 208,
   "metadata": {},
   "outputs": [
    {
     "name": "stdout",
     "output_type": "stream",
     "text": [
      "[1.06864746e+13 2.68811714e+43 4.85165195e+08 1.06864746e+13\n",
      " 7.20048993e+10 2.68811714e+43 7.20048993e+10 2.68811714e+43\n",
      " 5.18470553e+21 3.26901737e+06]\n"
     ]
    }
   ],
   "source": [
    "#Q9.4: Calculate the exponential of all transaction counts\n",
    "from bank_data import banking_data\n",
    "print(np.exp(banking_data[:,3]))\n"
   ]
  },
  {
   "cell_type": "code",
   "execution_count": 209,
   "metadata": {},
   "outputs": [
    {
     "name": "stdout",
     "output_type": "stream",
     "text": [
      "[10.1266311  11.40756495  6.90775528 10.46310334 11.28978191  8.00636757\n",
      "  9.90348755 12.89921983 11.51292546 10.59663473]\n"
     ]
    }
   ],
   "source": [
    "#Q9.5: Calculate the natural logarithm of all account balances\n",
    "from bank_data import banking_data\n",
    "print(np.log(banking_data[:,1]))\n"
   ]
  },
  {
   "cell_type": "code",
   "execution_count": 210,
   "metadata": {},
   "outputs": [
    {
     "name": "stdout",
     "output_type": "stream",
     "text": [
      "[ 25000 115000 116000 151000 231000 234000 254000 654000 754000 794000]\n"
     ]
    }
   ],
   "source": [
    "#Question 10: Advanced Operations\n",
    "#Q10.1: Calculate the cumulative sum of account balances\n",
    "from bank_data import banking_data\n",
    "print(np.cumsum(banking_data[:,1]))\n"
   ]
  },
  {
   "cell_type": "code",
   "execution_count": 211,
   "metadata": {},
   "outputs": [
    {
     "name": "stdout",
     "output_type": "stream",
     "text": [
      "[              30             3000            60000          1800000\n",
      "         45000000       4500000000     112500000000   11250000000000\n",
      "  562500000000000 8437500000000000]\n"
     ]
    }
   ],
   "source": [
    "#Q10.2: Calculate the cumulative product of transaction counts\n",
    "from bank_data import banking_data\n",
    "print(np.cumprod(banking_data[:,3]))\n"
   ]
  },
  {
   "cell_type": "code",
   "execution_count": 212,
   "metadata": {},
   "outputs": [
    {
     "name": "stdout",
     "output_type": "stream",
     "text": [
      "[  65000  -89000   34000   45000  -77000   17000  380000 -300000  -60000]\n"
     ]
    }
   ],
   "source": [
    "#Q10.3: Calculate the difference between consecutive account balances\n",
    "from bank_data import banking_data\n",
    "print(np.diff(banking_data[:,1]))"
   ]
  },
  {
   "cell_type": "code",
   "execution_count": 213,
   "metadata": {},
   "outputs": [
    {
     "name": "stdout",
     "output_type": "stream",
     "text": [
      "[  65000.  -12000.  -27500.   39500.  -16000.  -30000.  198500.   40000.\n",
      " -180000.  -60000.]\n"
     ]
    }
   ],
   "source": [
    "#Q10.4: Calculate the gradient of account balances\n",
    "from bank_data import banking_data\n",
    "print(np.gradient(banking_data[:,1]))\n"
   ]
  },
  {
   "cell_type": "code",
   "execution_count": 214,
   "metadata": {},
   "outputs": [
    {
     "name": "stdout",
     "output_type": "stream",
     "text": [
      "(array([7, 2, 0, 0, 1]), array([  1000.,  80800., 160600., 240400., 320200., 400000.]))\n"
     ]
    }
   ],
   "source": [
    "#Q10.5: Calculate the histogram of account balances with 5 bins\n",
    "from bank_data import banking_data\n",
    "print(np.histogram(banking_data[:,1], bins=5))"
   ]
  },
  {
   "cell_type": "code",
   "execution_count": 215,
   "metadata": {},
   "outputs": [
    {
     "name": "stdout",
     "output_type": "stream",
     "text": [
      "[596 107 124 570 215 738]\n"
     ]
    }
   ],
   "source": [
    "#Question 11: Random Numbers and Simulation\n",
    "#Q11.1: Generate 6 random integers between 1 and 1000\n",
    "from bank_data import banking_data\n",
    "print(np.random.randint(1,1000,6))\n"
   ]
  },
  {
   "cell_type": "code",
   "execution_count": 216,
   "metadata": {},
   "outputs": [
    {
     "name": "stdout",
     "output_type": "stream",
     "text": [
      "[0.68482974 0.4809319  0.39211752 0.34317802 0.72904971 0.43857224]\n"
     ]
    }
   ],
   "source": [
    "#Q11.2: Generate 6 random floats between 0 and 1\n",
    "from bank_data import banking_data\n",
    "print(np.random.random(6))"
   ]
  },
  {
   "cell_type": "code",
   "execution_count": 217,
   "metadata": {},
   "outputs": [
    {
     "name": "stdout",
     "output_type": "stream",
     "text": [
      "[685.66275259 638.08090993 623.05665285 757.67460214 712.65259202\n",
      " 569.85110255]\n"
     ]
    }
   ],
   "source": [
    "#Q11.3: Generate 6 random numbers from normal distribution (mean=700, std=100)\n",
    "\n",
    "print(np.random.normal(700,100,6))\n"
   ]
  },
  {
   "cell_type": "code",
   "execution_count": 218,
   "metadata": {},
   "outputs": [
    {
     "name": "stdout",
     "output_type": "stream",
     "text": [
      "[[   104 400000    800    100     40]\n",
      " [   108   1000    550     20      2]\n",
      " [   103  40000    400     15     20]\n",
      " [   101  20000    775     25     10]\n",
      " [   109  35000    600     30     10]\n",
      " [   106  90000    750    100      2]\n",
      " [   102  25000    300     30     15]\n",
      " [   107   3000    301    100      5]\n",
      " [   105 100000    900     50     21]\n",
      " [   110  80000    825     25      1]]\n"
     ]
    }
   ],
   "source": [
    "#Q11.4: Shuffle the banking_data rows randomly\n",
    "from bank_data import banking_data\n",
    "shuffle=banking_data.copy()\n",
    "np.random.shuffle(shuffle)\n",
    "print(shuffle)\n"
   ]
  },
  {
   "cell_type": "code",
   "execution_count": 219,
   "metadata": {},
   "outputs": [
    {
     "name": "stdout",
     "output_type": "stream",
     "text": [
      "[0.69646919 0.28613933 0.22685145 0.55131477]\n"
     ]
    }
   ],
   "source": [
    "#Q11.5: Set random seed to 123 and generate 4 random numbers\n",
    "from bank_data import banking_data\n",
    "np.random.seed(123)\n",
    "set_random_seed=np.random.random(4)\n",
    "print(set_random_seed)"
   ]
  },
  {
   "cell_type": "code",
   "execution_count": 220,
   "metadata": {},
   "outputs": [
    {
     "name": "stdout",
     "output_type": "stream",
     "text": [
      "account balane of dot product: 604953000\n"
     ]
    }
   ],
   "source": [
    "#Question 12: Linear Algebra Operations\n",
    "#Q12.1: Calculate the dot product of account balance and credit score columns\n",
    "from bank_data import banking_data\n",
    "dot_product=np.dot(banking_data[:,1], banking_data[:,2])\n",
    "print(\"account balane of dot product:\", dot_product)\n"
   ]
  },
  {
   "cell_type": "code",
   "execution_count": 221,
   "metadata": {},
   "outputs": [
    {
     "name": "stdout",
     "output_type": "stream",
     "text": [
      "[-8250000   -44700  6530000]\n"
     ]
    }
   ],
   "source": [
    "#Q12.2: Calculate the cross product of first two rows\n",
    "from bank_data import banking_data\n",
    "cross_prod=np.cross(banking_data[0,:3], banking_data[1,:3])\n",
    "print(cross_prod)"
   ]
  },
  {
   "cell_type": "code",
   "execution_count": 222,
   "metadata": {},
   "outputs": [
    {
     "name": "stdout",
     "output_type": "stream",
     "text": [
      "434004.6082704653\n"
     ]
    }
   ],
   "source": [
    "#Q12.3: Calculate the norm (magnitude) of the account balance column\n",
    "from bank_data import banking_data\n",
    "print(np.linalg.norm(banking_data[:,1]))\n"
   ]
  },
  {
   "cell_type": "code",
   "execution_count": 223,
   "metadata": {},
   "outputs": [
    {
     "name": "stdout",
     "output_type": "stream",
     "text": [
      "[[0 2 4]\n",
      " [1 3 5]\n",
      " [7 8 9]]\n",
      "0.0\n"
     ]
    }
   ],
   "source": [
    "#Q12.4: Create a 3x3 matrix and calculate its determinant\n",
    "from bank_data import banking_data\n",
    "matrix_3x3=np.array([[0,2,4],[1,3,5],[7,8,9]])\n",
    "matrix_3x3_deter=np.linalg.det(matrix_3x3)\n",
    "print(matrix_3x3)\n",
    "print(matrix_3x3_deter)"
   ]
  },
  {
   "cell_type": "code",
   "execution_count": 3,
   "metadata": {},
   "outputs": [
    {
     "name": "stdout",
     "output_type": "stream",
     "text": [
      "[[3 2 4]\n",
      " [1 3 5]\n",
      " [7 8 9]]\n",
      "[[0 0 0]\n",
      " [0 0 0]\n",
      " [0 0 0]]\n"
     ]
    }
   ],
   "source": [
    "#Q12.5: Calculate the inverse of the 3x3 matrix\n",
    "invert_matrix_3x3=np.array([[3,2,4],\n",
    "                            [1,3,5],\n",
    "                            [7,8,9]])\n",
    "print(invert_matrix_3x3)\n",
    "invert_matrix=np.linalg.inv(invert_matrix_3x3)\n",
    "\n",
    "print(invert_matrix.astype(int))"
   ]
  },
  {
   "cell_type": "code",
   "execution_count": 244,
   "metadata": {},
   "outputs": [
    {
     "name": "stdout",
     "output_type": "stream",
     "text": [
      "['102' '106' '108' '109' '110' '107' '101' '104' '105' '103']\n"
     ]
    }
   ],
   "source": [
    "#Question 13: String Operations\n",
    "#Q13.1: Convert all customer IDs to strings\n",
    "from bank_data import banking_data\n",
    "customer_id_string = banking_data[:, 0].astype(str)\n",
    "print(customer_id_string)\n"
   ]
  },
  {
   "cell_type": "code",
   "execution_count": 246,
   "metadata": {},
   "outputs": [
    {
     "name": "stdout",
     "output_type": "stream",
     "text": [
      "[False False False False False False False False False False]\n"
     ]
    }
   ],
   "source": [
    "#Q13.2: Check if any customer ID contains '100'\n",
    "from bank_data import banking_data\n",
    "customer_id_contains= np.char.find(customer_id_string,'100')>=0\n",
    "print(customer_id_contains)"
   ]
  },
  {
   "cell_type": "code",
   "execution_count": 247,
   "metadata": {},
   "outputs": [
    {
     "name": "stdout",
     "output_type": "stream",
     "text": [
      "['102' '106' '108' '109' '110' '107' '101' '104' '105' '103']\n"
     ]
    }
   ],
   "source": [
    "#Q13.3: Convert all customer IDs to uppercase (if they were strings)\n",
    "from bank_data import banking_data\n",
    "customer_id_upper=np.char.upper(customer_id_string)\n",
    "print(customer_id_upper)"
   ]
  },
  {
   "cell_type": "code",
   "execution_count": 249,
   "metadata": {},
   "outputs": [
    {
     "name": "stdout",
     "output_type": "stream",
     "text": [
      "[3 3 3 3 3 3 3 3 3 3]\n"
     ]
    }
   ],
   "source": [
    "#Q13.4: Count the length of each customer ID string\n",
    "from bank_data import banking_data\n",
    "customer_id_len=np.char.str_len(customer_id_string)\n",
    "print(customer_id_len)"
   ]
  },
  {
   "cell_type": "code",
   "execution_count": 250,
   "metadata": {},
   "outputs": [
    {
     "name": "stdout",
     "output_type": "stream",
     "text": [
      "['102' '106' '108' '109' '110' '107' '101' '104' '105' '103']\n"
     ]
    }
   ],
   "source": [
    "#Q13.5: Replace '100' with 'CUST' in customer IDs\n",
    "from bank_data import banking_data\n",
    "replace_id=np.char.replace(customer_id_string,'100','CUST')\n",
    "print(replace_id)"
   ]
  },
  {
   "cell_type": "code",
   "execution_count": 251,
   "metadata": {},
   "outputs": [
    {
     "name": "stdout",
     "output_type": "stream",
     "text": [
      "[180  24  24 120  12  60 120 480 252 240]\n"
     ]
    }
   ],
   "source": [
    "#Question 14: Date and Time Operations\n",
    "#Q14.1: Convert years active to months\n",
    "from bank_data import banking_data\n",
    "years_to_month=banking_data[:,4]*12\n",
    "print(years_to_month)\n"
   ]
  },
  {
   "cell_type": "code",
   "execution_count": 11,
   "metadata": {},
   "outputs": [
    {
     "name": "stdout",
     "output_type": "stream",
     "text": [
      "12.6\n"
     ]
    }
   ],
   "source": [
    "#Q14.2: Calculate the average years active\n",
    "from bank_data import banking_data\n",
    "active_avg_years=np.mean(banking_data[:,4])\n",
    "print(active_avg_years)"
   ]
  },
  {
   "cell_type": "code",
   "execution_count": 253,
   "metadata": {},
   "outputs": [
    {
     "name": "stdout",
     "output_type": "stream",
     "text": [
      "[[   102  25000    300     30     15]\n",
      " [   109  35000    600     30     10]\n",
      " [   101  20000    775     25     10]\n",
      " [   104 400000    800    100     40]\n",
      " [   105 100000    900     50     21]\n",
      " [   103  40000    400     15     20]]\n"
     ]
    }
   ],
   "source": [
    "#Q14.3: Find customers who have been active for more than 5 years\n",
    "from bank_data import banking_data\n",
    "Active_cust_for_5yrs=banking_data[banking_data[:,4]>5]\n",
    "print(Active_cust_for_5yrs)"
   ]
  },
  {
   "cell_type": "code",
   "execution_count": 254,
   "metadata": {},
   "outputs": [
    {
     "name": "stdout",
     "output_type": "stream",
     "text": [
      "126\n"
     ]
    }
   ],
   "source": [
    "#Q14.4: Calculate the total time all customers have been active (in years)\n",
    "from bank_data import banking_data\n",
    "Active_cust=np.sum(banking_data[:,4])\n",
    "print(Active_cust)"
   ]
  },
  {
   "cell_type": "code",
   "execution_count": 12,
   "metadata": {},
   "outputs": [
    {
     "name": "stdout",
     "output_type": "stream",
     "text": [
      "1\n",
      "[  102 25000   300    30    15]\n"
     ]
    }
   ],
   "source": [
    "#Q14.5: Find the customer with the shortest time active\n",
    "from bank_data import banking_data\n",
    "shorter_time_cust=np.min(banking_data[:,4])\n",
    "print(shorter_time_cust)\n",
    "shorter_time=banking_data[shorter_time_cust]\n",
    "print(shorter_time)"
   ]
  },
  {
   "cell_type": "code",
   "execution_count": 263,
   "metadata": {},
   "outputs": [
    {
     "name": "stdout",
     "output_type": "stream",
     "text": [
      "[ 1250.  4500.    50.  1750.  4000.   150.  1000. 20000.  5000.  2000.]\n",
      "[ 26250.  94500.   1050.  36750.  84000.   3150.  21000. 420000. 105000.\n",
      "  42000.]\n"
     ]
    }
   ],
   "source": [
    "#Question 15: Advanced Array Operations\n",
    "#Q15.1: Apply a function to calculate 5% interest on all account balances\n",
    "from bank_data import banking_data\n",
    "interest_on_acc_bal=banking_data[:,1]*0.05\n",
    "print(interest_on_acc_bal)\n",
    "account_balance_after_interest=banking_data[:,1]+interest_on_acc_bal\n",
    "print(account_balance_after_interest)"
   ]
  },
  {
   "cell_type": "code",
   "execution_count": 268,
   "metadata": {},
   "outputs": [
    {
     "name": "stdout",
     "output_type": "stream",
     "text": [
      "[['102' '25000' 'medium balance']\n",
      " ['106' '90000' 'medium balance']\n",
      " ['108' '1000' 'low balance']\n",
      " ['109' '35000' 'medium balance']\n",
      " ['110' '80000' 'medium balance']\n",
      " ['107' '3000' 'low balance']\n",
      " ['101' '20000' 'medium balance']\n",
      " ['104' '400000' 'high balance']\n",
      " ['105' '100000' 'medium balance']\n",
      " ['103' '40000' 'medium balance']]\n"
     ]
    }
   ],
   "source": [
    "#Q15.2: Use np.where to categorize customers by balance ranges\n",
    "from bank_data import banking_data\n",
    "acc_bal=banking_data[:,1]\n",
    "category=np.where(acc_bal<20000,'low balance',np.where(acc_bal<=100000,'medium balance','high balance'))\n",
    "customer_balances=np.column_stack((banking_data[:,0],acc_bal,category))\n",
    "print(customer_balances)\n",
    "\n"
   ]
  },
  {
   "cell_type": "code",
   "execution_count": 270,
   "metadata": {},
   "outputs": [
    {
     "name": "stdout",
     "output_type": "stream",
     "text": [
      "['not eligible' 'loans given with more interest' 'not eligible'\n",
      " 'loans given with more interest' 'loans given with more interest'\n",
      " 'not eligible' 'loans given with more interest'\n",
      " 'loans given with more interest' 'loans given with less interest'\n",
      " 'not eligible']\n"
     ]
    }
   ],
   "source": [
    "#Q15.3: Use np.select to categorize customers by credit score ranges\n",
    "from bank_data import banking_data\n",
    "credit_card_range=[banking_data[:,2]<300,\n",
    "(banking_data[:,2]>=600)&(banking_data[:,2]<900),\n",
    "banking_data[:,2]>=900]\n",
    "criteria=[\"loans not given\",\"loans given with more interest\",\"loans given with less interest\"]\n",
    "category_customers=np.select(credit_card_range,criteria,default='not eligible')\n",
    "print(category_customers)\n",
    "\n"
   ]
  },
  {
   "cell_type": "code",
   "execution_count": 282,
   "metadata": {},
   "outputs": [
    {
     "name": "stdout",
     "output_type": "stream",
     "text": [
      "[[   102  25000      0]\n",
      " [   106  90000      0]\n",
      " [   108   1000      0]\n",
      " [   109  35000      0]\n",
      " [   110  80000      0]\n",
      " [   107   3000      0]\n",
      " [   101  20000      0]\n",
      " [   104 400000      0]\n",
      " [   105 100000      0]\n",
      " [   103  40000      0]]\n"
     ]
    }
   ],
   "source": [
    "#Q15.4: Use np.piecewise to apply different interest rates based on balance\n",
    "from bank_data import banking_data\n",
    "Acc_balances=banking_data[:,1]\n",
    "interest_rates=np.piecewise(Acc_balances,[Acc_balances<=20000,(Acc_balances>20000)& (Acc_balances<100000),Acc_balances>=400000],[0.05,0.07,0.10])\n",
    "Account_interest=np.column_stack((banking_data[:,0],Acc_balances,interest_rates))\n",
    "print(Account_interest)"
   ]
  },
  {
   "cell_type": "code",
   "execution_count": 283,
   "metadata": {},
   "outputs": [
    {
     "name": "stdout",
     "output_type": "stream",
     "text": [
      "[ 25447  90958   1680  35749  80961   3513  20911 401044 101076  40538]\n"
     ]
    }
   ],
   "source": [
    "#Q15.5: Use np.apply_along_axis to calculate the sum of each row\n",
    "from bank_data import banking_data\n",
    "sum_row=np.apply_along_axis(np.sum,1,banking_data)\n",
    "print(sum_row)\n"
   ]
  },
  {
   "cell_type": "code",
   "execution_count": 5,
   "metadata": {},
   "outputs": [
    {
     "name": "stdout",
     "output_type": "stream",
     "text": [
      "horrizontally array: [1 3 5]\n",
      "horrizontally array: [2 4 6]\n",
      "horrizontally hstack: [1 3 5 2 4 6]\n"
     ]
    }
   ],
   "source": [
    "#Question 16: Array Concatenation and Stacking\n",
    "#Q16.1: Concatenate two arrays horizontally using np.hstack()\n",
    "import numpy as np\n",
    "A1=np.array([1,3,5])\n",
    "A2=np.array([2,4,6])\n",
    "hstacked=np.hstack([A1,A2])\n",
    "print(\"horrizontally array:\",A1)\n",
    "print(\"horrizontally array:\",A2)\n",
    "print(\"horrizontally hstack:\",hstacked)"
   ]
  },
  {
   "cell_type": "code",
   "execution_count": 16,
   "metadata": {},
   "outputs": [
    {
     "name": "stdout",
     "output_type": "stream",
     "text": [
      "vertically stacked:[[1 3 5]\n",
      " [2 4 6]]\n"
     ]
    }
   ],
   "source": [
    "#Q16.2: Concatenate two arrays vertically using np.vstack()\n",
    "import numpy as np\n",
    "A1=np.array([1,3,5])\n",
    "A2=np.array([2,4,6])\n",
    "vstacked=np.vstack([A1,A2])\n",
    "print(f\"vertically stacked:{vstacked}\")"
   ]
  },
  {
   "cell_type": "code",
   "execution_count": 10,
   "metadata": {},
   "outputs": [
    {
     "name": "stdout",
     "output_type": "stream",
     "text": [
      "concatenated along axis : [1 3 5 2 4 6]\n"
     ]
    }
   ],
   "source": [
    "#Q16.3: Concatenate arrays along a specific axis using np.concatenate()\n",
    "\n",
    "concat=np.concatenate([A1,A2])\n",
    "print(\"concatenated along axis :\",concat)"
   ]
  },
  {
   "cell_type": "code",
   "execution_count": 11,
   "metadata": {},
   "outputs": [
    {
     "name": "stdout",
     "output_type": "stream",
     "text": [
      "array depth wise: [[[1 2]\n",
      "  [3 4]\n",
      "  [5 6]]]\n"
     ]
    }
   ],
   "source": [
    "#Q16.4: Stack arrays depth-wise using np.dstack()\n",
    "dstacked=np.dstack([A1,A2])\n",
    "print(\"array depth wise:\",dstacked)"
   ]
  },
  {
   "cell_type": "code",
   "execution_count": 12,
   "metadata": {},
   "outputs": [
    {
     "name": "stdout",
     "output_type": "stream",
     "text": [
      "[[1 2]\n",
      " [3 4]\n",
      " [5 6]]\n"
     ]
    }
   ],
   "source": [
    "#Q16.5: Create a column stack using np.column_stack()\n",
    "column_stack=np.column_stack([A1,A2])\n",
    "print(column_stack)"
   ]
  },
  {
   "cell_type": "code",
   "execution_count": 21,
   "metadata": {},
   "outputs": [
    {
     "name": "stdout",
     "output_type": "stream",
     "text": [
      "original array: [  101 20000   775    25    10     2     5     9     1]\n",
      "part1:[  101 20000   775]\n",
      "part2:[25 10  2]\n",
      "part3:[5 9 1]\n"
     ]
    }
   ],
   "source": [
    "#Question 17: Array Splitting Operations\n",
    "#Q17.1: Split an array into 3 equal parts using np.split()\n",
    "a1_to_split=np.array([ 101,20000,775,25,10,2,5,9,1])\n",
    "split=np.split(a1_to_split,3)\n",
    "print(\"original array:\",a1_to_split)\n",
    "for i, part in enumerate(split):\n",
    "    print(f\"part{i+1}:{part}\")\n",
    "\n"
   ]
  },
  {
   "cell_type": "code",
   "execution_count": 24,
   "metadata": {},
   "outputs": [
    {
     "name": "stdout",
     "output_type": "stream",
     "text": [
      "split[3,6]:\n",
      "part{i+1}:{part}\n",
      "part{i+1}:{part}\n",
      "part{i+1}:{part}\n"
     ]
    }
   ],
   "source": [
    "#Q17.2: Split an array at specific indices using np.split()\n",
    "split=np.split(a1_to_split,[3,6])\n",
    "print(\"split[3,6]:\")\n",
    "for i, part in enumerate(split):\n",
    "    print(\"part{i+1}:{part}\")\n"
   ]
  },
  {
   "cell_type": "code",
   "execution_count": 25,
   "metadata": {},
   "outputs": [
    {
     "name": "stdout",
     "output_type": "stream",
     "text": [
      "original 2D array:[[2 4 6]\n",
      " [1 2 3]]\n",
      "Horizontal part 1:[[2]\n",
      " [1]]\n",
      "Horizontal part 2:[[4]\n",
      " [2]]\n",
      "Horizontal part 3:[[6]\n",
      " [3]]\n"
     ]
    }
   ],
   "source": [
    "#Q17.3: Split an array horizontally using np.hsplit()\n",
    "arr_2d=np.array([[2,4,6],[1,2,3]])\n",
    "hsplit_parts=np.hsplit(arr_2d,3)\n",
    "print(f\"original 2D array:{arr_2d}\")\n",
    "for i, part in enumerate(hsplit_parts):\n",
    "    print(f\"Horizontal part {i+1}:{part}\")\n"
   ]
  },
  {
   "cell_type": "code",
   "execution_count": 28,
   "metadata": {},
   "outputs": [
    {
     "name": "stdout",
     "output_type": "stream",
     "text": [
      "[array([[2, 4, 6]]), array([[1, 2, 3]])]\n"
     ]
    }
   ],
   "source": [
    "#Q17.4: Split an array vertically using np.vsplit()\n",
    "arr_2d=np.array([[2,4,6],[1,2,3]])\n",
    "vsplit_parts=np.vsplit(arr_2d,2)\n",
    "print(vsplit_parts)\n",
    "\n"
   ]
  },
  {
   "cell_type": "code",
   "execution_count": 29,
   "metadata": {},
   "outputs": [
    {
     "name": "stdout",
     "output_type": "stream",
     "text": [
      "[array([[2, 4, 6]]), array([[1, 2, 3]]), array([], shape=(0, 3), dtype=int64), array([], shape=(0, 3), dtype=int64)]\n"
     ]
    }
   ],
   "source": [
    "#Q17.5: Split an array into equal chunks using np.array_split()\n",
    "arr_2d=np.array([[2,4,6],[1,2,3]])\n",
    "chunks=np.array_split(arr_2d,4)\n",
    "print(chunks)"
   ]
  },
  {
   "cell_type": "code",
   "execution_count": 33,
   "id": "8ae0c530",
   "metadata": {},
   "outputs": [
    {
     "name": "stdout",
     "output_type": "stream",
     "text": [
      "[1 1 1 2 2 2 3 3 3 4 4 4 5 5 5 6 6 6]\n"
     ]
    }
   ],
   "source": [
    "#Question 18: Array Repetition and Tiling\n",
    "#Q18.1: Repeat each element of an array 3 times using np.repeat()\n",
    "arr1=([1,2],[3,4],[5,6])\n",
    "repeat1=np.repeat(arr1,3)\n",
    "print(repeat1)\n",
    "\n"
   ]
  },
  {
   "cell_type": "code",
   "execution_count": 34,
   "id": "b50ca996",
   "metadata": {},
   "outputs": [
    {
     "name": "stdout",
     "output_type": "stream",
     "text": [
      "[[1 2 1 2]\n",
      " [3 4 3 4]\n",
      " [5 6 5 6]]\n"
     ]
    }
   ],
   "source": [
    "#Q18.2: Repeat an entire array 2 times using np.tile()\n",
    "arr1=([1,2],[3,4],[5,6])\n",
    "tiled_arr=np.tile(arr1,2)\n",
    "print(tiled_arr)"
   ]
  },
  {
   "cell_type": "code",
   "execution_count": 36,
   "id": "399473ac",
   "metadata": {},
   "outputs": [
    {
     "name": "stdout",
     "output_type": "stream",
     "text": [
      "[[2 4 6 2 4 6]\n",
      " [1 2 3 1 2 3]\n",
      " [2 4 6 2 4 6]\n",
      " [1 2 3 1 2 3]]\n"
     ]
    }
   ],
   "source": [
    "#Q18.3: Repeat a 2D array using np.tile()\n",
    "arr_2d=np.array([[2,4,6],[1,2,3]])\n",
    "tile_2d_arr=np.tile(arr_2d,(2,2))\n",
    "print(tile_2d_arr)\n",
    "\n"
   ]
  },
  {
   "cell_type": "code",
   "execution_count": null,
   "id": "fde860ee",
   "metadata": {},
   "outputs": [
    {
     "name": "stdout",
     "output_type": "stream",
     "text": [
      "[1 0]\n",
      "[1 0 1 0 1 0 1 0 1 0]\n"
     ]
    }
   ],
   "source": [
    "#Q18.4: Create a pattern using np.tile()\n",
    "\n",
    "pattern=np.array([1,0])\n",
    "pattern_tiled=np.tile(pattern, 5)\n",
    "print(pattern)\n",
    "print(pattern_tiled)\n"
   ]
  },
  {
   "cell_type": "code",
   "execution_count": 48,
   "id": "efdb988d",
   "metadata": {},
   "outputs": [
    {
     "name": "stdout",
     "output_type": "stream",
     "text": [
      "[1 2 3 4 5]\n",
      "repeat_count: [1, 2, 3, 4, 5]\n",
      "repeated_var: [1 2 2 3 3 3 4 4 4 4 5 5 5 5 5]\n"
     ]
    }
   ],
   "source": [
    "#Q18.5: Repeat elements with different counts using np.repeat()\n",
    "arr1=np.arange(1,6)\n",
    "repeat_count=[1,2,3,4,5]\n",
    "repeated_arr=np.repeat(arr1, repeat_count)\n",
    "print(arr1)\n",
    "print(\"repeat_count:\", repeat_count)\n",
    "print(\"repeated_var:\", repeated_arr)\n"
   ]
  },
  {
   "cell_type": "code",
   "execution_count": 51,
   "metadata": {},
   "outputs": [
    {
     "name": "stdout",
     "output_type": "stream",
     "text": [
      "arr1: [2 4 6]\n",
      "arr2: [2 4 6]\n",
      "arr3: [1 2 6]\n",
      "True\n",
      "False\n"
     ]
    }
   ],
   "source": [
    "#Question 19: Array Comparison and Logical Operations\n",
    "#Q19.1: Compare two arrays for equality using np.array_equal()\n",
    "\n",
    "arr1=np.array([2,4,6])\n",
    "arr2=np.array([2,4,6])\n",
    "arr3=np.array([1,2,6])\n",
    "print(\"arr1:\",arr1)\n",
    "print(\"arr2:\",arr2)\n",
    "print(\"arr3:\",arr3)\n",
    "arr1_eql_arr2=(np.array_equal(arr1,arr2))\n",
    "print(arr1_eql_arr2)\n",
    "arr1_eql_arr3=(np.array_equal(arr1,arr3))\n",
    "print(arr1_eql_arr3)"
   ]
  },
  {
   "cell_type": "code",
   "execution_count": 53,
   "id": "5bab10c2",
   "metadata": {},
   "outputs": [
    {
     "name": "stdout",
     "output_type": "stream",
     "text": [
      "False\n"
     ]
    }
   ],
   "source": [
    "#Q19.2: Check if arrays are close using np.allclose()\n",
    "close_arr=np.allclose(arr1,arr3)\n",
    "print(close_arr)\n"
   ]
  },
  {
   "cell_type": "code",
   "execution_count": 55,
   "metadata": {},
   "outputs": [
    {
     "name": "stdout",
     "output_type": "stream",
     "text": [
      "[ True  True  True]\n"
     ]
    }
   ],
   "source": [
    "#Q19.3: Apply logical AND operation between arrays\n",
    "\n",
    "log_arr=np.logical_and(arr1,arr2)\n",
    "print(log_arr)"
   ]
  },
  {
   "cell_type": "code",
   "execution_count": 56,
   "metadata": {},
   "outputs": [
    {
     "name": "stdout",
     "output_type": "stream",
     "text": [
      "[ True  True  True]\n"
     ]
    }
   ],
   "source": [
    "#Q19.4: Apply logical OR operation between arrays\n",
    "log_arr=np.logical_or(arr1,arr2)\n",
    "print(log_arr)\n"
   ]
  },
  {
   "cell_type": "code",
   "execution_count": 58,
   "metadata": {},
   "outputs": [
    {
     "name": "stdout",
     "output_type": "stream",
     "text": [
      "[1 1 1]\n"
     ]
    }
   ],
   "source": [
    "#Q19.5: Apply logical NOT operation to an array\n",
    "log_arr=np.logical_not(arr2,arr3)\n",
    "print(log_arr)\n"
   ]
  },
  {
   "cell_type": "code",
   "execution_count": 59,
   "metadata": {},
   "outputs": [
    {
     "name": "stdout",
     "output_type": "stream",
     "text": [
      "[1 2 2 3 4 5 5 6 6]\n",
      "[1 2 3 4 5 6]\n"
     ]
    }
   ],
   "source": [
    "#Question 20: Array Set Operations\n",
    "#Q20.1: Find unique elements in an array using np.unique()\n",
    "arr_duplicate=np.array([1,2,2,3,4,5,5,6,6])\n",
    "unique_ele=np.unique(arr_duplicate)\n",
    "print(arr_duplicate)\n",
    "print(unique_ele)"
   ]
  },
  {
   "cell_type": "code",
   "execution_count": 61,
   "metadata": {},
   "outputs": [
    {
     "name": "stdout",
     "output_type": "stream",
     "text": [
      "[8]\n"
     ]
    }
   ],
   "source": [
    "#20.2: Find the intersection of two arrays using np.intersect1d()\n",
    "arr1=np.array([2,4,6,8])\n",
    "arr2=np.array([1,3,5,8])\n",
    "intersection=np.intersect1d(arr1,arr2)\n",
    "print(intersection)\n"
   ]
  },
  {
   "cell_type": "code",
   "execution_count": 62,
   "id": "a66b3293",
   "metadata": {},
   "outputs": [
    {
     "name": "stdout",
     "output_type": "stream",
     "text": [
      "[1 2 3 4 5 6 8]\n"
     ]
    }
   ],
   "source": [
    "#Q20.3: Find the union of two arrays using np.union1d()\n",
    "\n",
    "union=np.union1d(arr1,arr2)\n",
    "print(union)"
   ]
  },
  {
   "cell_type": "code",
   "execution_count": 63,
   "id": "81a045d7",
   "metadata": {},
   "outputs": [
    {
     "name": "stdout",
     "output_type": "stream",
     "text": [
      "[2 4 6]\n"
     ]
    }
   ],
   "source": [
    "#Q20.4: Find elements in first array but not in second using np.setdiff1d()\n",
    "set_diff=np.setdiff1d(arr1,arr2)\n",
    "print(set_diff)\n"
   ]
  },
  {
   "cell_type": "code",
   "execution_count": 64,
   "id": "3ed95f34",
   "metadata": {},
   "outputs": [
    {
     "name": "stdout",
     "output_type": "stream",
     "text": [
      "[1 2 3 4 5 6]\n"
     ]
    }
   ],
   "source": [
    "#Q20.5: Find the symmetric difference between two arrays using np.setxor1d()\n",
    "symmetric_diff=np.setxor1d(arr1,arr2)\n",
    "print(symmetric_diff)"
   ]
  },
  {
   "cell_type": "code",
   "execution_count": null,
   "id": "a9d32692",
   "metadata": {},
   "outputs": [],
   "source": []
  },
  {
   "cell_type": "code",
   "execution_count": null,
   "id": "eef6d164",
   "metadata": {},
   "outputs": [],
   "source": []
  },
  {
   "cell_type": "code",
   "execution_count": null,
   "metadata": {},
   "outputs": [],
   "source": []
  },
  {
   "cell_type": "code",
   "execution_count": null,
   "id": "0c7eb476",
   "metadata": {},
   "outputs": [],
   "source": []
  },
  {
   "cell_type": "code",
   "execution_count": null,
   "metadata": {},
   "outputs": [],
   "source": []
  },
  {
   "cell_type": "code",
   "execution_count": null,
   "metadata": {},
   "outputs": [],
   "source": []
  },
  {
   "cell_type": "code",
   "execution_count": null,
   "metadata": {},
   "outputs": [],
   "source": []
  },
  {
   "cell_type": "code",
   "execution_count": null,
   "metadata": {},
   "outputs": [],
   "source": []
  },
  {
   "cell_type": "code",
   "execution_count": null,
   "metadata": {},
   "outputs": [],
   "source": []
  },
  {
   "cell_type": "code",
   "execution_count": null,
   "metadata": {},
   "outputs": [],
   "source": []
  },
  {
   "cell_type": "code",
   "execution_count": null,
   "metadata": {},
   "outputs": [],
   "source": []
  },
  {
   "cell_type": "code",
   "execution_count": null,
   "id": "1334ac33",
   "metadata": {},
   "outputs": [],
   "source": []
  },
  {
   "cell_type": "code",
   "execution_count": null,
   "metadata": {},
   "outputs": [],
   "source": []
  },
  {
   "cell_type": "code",
   "execution_count": null,
   "id": "3143cf75",
   "metadata": {},
   "outputs": [],
   "source": []
  },
  {
   "cell_type": "code",
   "execution_count": null,
   "metadata": {},
   "outputs": [],
   "source": []
  },
  {
   "cell_type": "code",
   "execution_count": null,
   "metadata": {},
   "outputs": [],
   "source": []
  },
  {
   "cell_type": "code",
   "execution_count": null,
   "metadata": {},
   "outputs": [],
   "source": []
  },
  {
   "cell_type": "code",
   "execution_count": null,
   "metadata": {},
   "outputs": [],
   "source": []
  },
  {
   "cell_type": "code",
   "execution_count": null,
   "metadata": {},
   "outputs": [],
   "source": []
  },
  {
   "cell_type": "code",
   "execution_count": null,
   "metadata": {},
   "outputs": [],
   "source": []
  },
  {
   "cell_type": "code",
   "execution_count": null,
   "metadata": {},
   "outputs": [],
   "source": []
  },
  {
   "cell_type": "code",
   "execution_count": null,
   "metadata": {},
   "outputs": [],
   "source": []
  },
  {
   "cell_type": "code",
   "execution_count": null,
   "metadata": {},
   "outputs": [],
   "source": []
  },
  {
   "cell_type": "code",
   "execution_count": null,
   "metadata": {},
   "outputs": [],
   "source": []
  }
 ],
 "metadata": {
  "kernelspec": {
   "display_name": "Python 3",
   "language": "python",
   "name": "python3"
  },
  "language_info": {
   "codemirror_mode": {
    "name": "ipython",
    "version": 3
   },
   "file_extension": ".py",
   "mimetype": "text/x-python",
   "name": "python",
   "nbconvert_exporter": "python",
   "pygments_lexer": "ipython3",
   "version": "3.13.5"
  }
 },
 "nbformat": 4,
 "nbformat_minor": 5
}
